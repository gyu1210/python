{
 "cells": [
  {
   "cell_type": "code",
   "execution_count": 18,
   "metadata": {},
   "outputs": [],
   "source": [
    "import random\n"
   ]
  },
  {
   "cell_type": "code",
   "execution_count": 19,
   "metadata": {},
   "outputs": [],
   "source": [
    "user_wins = 0\n",
    "computer_wins = 0\n",
    "\n",
    "options = ['rock', 'paper', 'scissors']"
   ]
  },
  {
   "cell_type": "code",
   "execution_count": 25,
   "metadata": {},
   "outputs": [
    {
     "name": "stdout",
     "output_type": "stream",
     "text": [
      "computer picked scissors.\n",
      "you lost!\n"
     ]
    }
   ],
   "source": [
    "while True:\n",
    "    user_input = input('Type rock/paper/scissors or Q to quit :').lower()\n",
    "    if user_input == 'q':\n",
    "        break\n",
    "    if user_input not in options:\n",
    "        break\n",
    "\n",
    "random_number = random.randint(0, 2)\n",
    "# rock: 0, paper: 1, scissors: 2\n",
    "\n",
    "computer_pick = options[random_number]\n",
    "print('computer picked', computer_pick + '.')\n",
    "\n",
    "if user_input == 'rock' and computer_pick =='scissors':\n",
    "    print('You won!')\n",
    "    user_wins += 1\n",
    "\n",
    "elif user_input == 'paper' and computer_pick == 'rock':\n",
    "    print('You won!')\n",
    "    user_wins += 1\n",
    "\n",
    "elif user_input == 'scissors' and computer_pick == 'paper':\n",
    "    print('You won!')\n",
    "    user_wins += 1\n",
    "\n",
    "else:\n",
    "    print('you lost!')\n",
    "    computer_wins += 1"
   ]
  },
  {
   "cell_type": "code",
   "execution_count": 21,
   "metadata": {},
   "outputs": [
    {
     "name": "stdout",
     "output_type": "stream",
     "text": [
      "You won 0 times\n",
      "the computer won 1 times\n",
      "Good bye!\n"
     ]
    }
   ],
   "source": [
    "print('You won', user_wins, 'times')\n",
    "print('the computer won', computer_wins, 'times')\n",
    "print ('Good bye!')"
   ]
  }
 ],
 "metadata": {
  "kernelspec": {
   "display_name": "Python 3",
   "language": "python",
   "name": "python3"
  },
  "language_info": {
   "codemirror_mode": {
    "name": "ipython",
    "version": 3
   },
   "file_extension": ".py",
   "mimetype": "text/x-python",
   "name": "python",
   "nbconvert_exporter": "python",
   "pygments_lexer": "ipython3",
   "version": "3.11.2"
  },
  "orig_nbformat": 4
 },
 "nbformat": 4,
 "nbformat_minor": 2
}
