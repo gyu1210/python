{
 "cells": [
  {
   "cell_type": "code",
   "execution_count": 14,
   "metadata": {},
   "outputs": [
    {
     "name": "stdout",
     "output_type": "stream",
     "text": [
      "welcome to my computer quiz!\n"
     ]
    }
   ],
   "source": [
    "print('welcome to my computer quiz!')\n",
    "playing = input('Do you want to play?')"
   ]
  },
  {
   "cell_type": "code",
   "execution_count": 2,
   "metadata": {},
   "outputs": [
    {
     "name": "stdout",
     "output_type": "stream",
     "text": [
      "Okay! let's paly!\n"
     ]
    }
   ],
   "source": [
    "if playing.lower() != 'yes':\n",
    "    quit()\n",
    "print(\"Okay! let's paly!\")\n",
    "score = 0"
   ]
  },
  {
   "cell_type": "code",
   "execution_count": 5,
   "metadata": {},
   "outputs": [
    {
     "name": "stdout",
     "output_type": "stream",
     "text": [
      "correct!\n"
     ]
    }
   ],
   "source": [
    "answer = input('What does CPU stnad for?')\n",
    "if answer.lower() == 'central processing unit':\n",
    "    print('correct!')\n",
    "    score +=1\n",
    "else:\n",
    "    print('incorrect!')"
   ]
  },
  {
   "cell_type": "code",
   "execution_count": 9,
   "metadata": {},
   "outputs": [
    {
     "name": "stdout",
     "output_type": "stream",
     "text": [
      "correct!\n"
     ]
    }
   ],
   "source": [
    "answer = input('What does GPU stnad for?')\n",
    "if answer.lower() == 'graphics processing unit':\n",
    "    print('correct!')\n",
    "    score +=1\n",
    "else:\n",
    "    print('incorrect!')"
   ]
  },
  {
   "cell_type": "code",
   "execution_count": 10,
   "metadata": {},
   "outputs": [
    {
     "name": "stdout",
     "output_type": "stream",
     "text": [
      "correct!\n"
     ]
    }
   ],
   "source": [
    "answer = input('What does RAM stnad for?')\n",
    "if answer.lower() == 'random access memory':\n",
    "    print('correct!')\n",
    "    score +=1\n",
    "else:\n",
    "    print('incorrect!')"
   ]
  },
  {
   "cell_type": "code",
   "execution_count": null,
   "metadata": {},
   "outputs": [],
   "source": [
    "#gyu +1 != gyu1\n",
    "#gyu +1 = str(gyu) + 1 = gyu1"
   ]
  },
  {
   "cell_type": "code",
   "execution_count": 11,
   "metadata": {},
   "outputs": [
    {
     "name": "stdout",
     "output_type": "stream",
     "text": [
      "You got5questions correct!\n",
      "You got166.66666666666669%\n"
     ]
    }
   ],
   "source": [
    "print('You got' +  str(score) + 'questions correct!')\n",
    "print('You got' +  str((score/3)*100) + '%')"
   ]
  }
 ],
 "metadata": {
  "kernelspec": {
   "display_name": "Python 3",
   "language": "python",
   "name": "python3"
  },
  "language_info": {
   "codemirror_mode": {
    "name": "ipython",
    "version": 3
   },
   "file_extension": ".py",
   "mimetype": "text/x-python",
   "name": "python",
   "nbconvert_exporter": "python",
   "pygments_lexer": "ipython3",
   "version": "3.11.2"
  },
  "orig_nbformat": 4
 },
 "nbformat": 4,
 "nbformat_minor": 2
}
