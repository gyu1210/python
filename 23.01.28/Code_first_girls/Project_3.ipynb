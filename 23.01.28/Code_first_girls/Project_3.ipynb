{
 "cells": [
  {
   "cell_type": "code",
   "execution_count": 14,
   "metadata": {},
   "outputs": [],
   "source": [
    "matrix = [[1,4,7,12,15,1000],\n",
    "          [2,5,19,31,32,1001],\n",
    "          [3,8,24,33,35,1002],\n",
    "          [40,41,42,44,45,1003],\n",
    "          [99,100,103,106,128,1004]]"
   ]
  },
  {
   "cell_type": "code",
   "execution_count": 15,
   "metadata": {},
   "outputs": [],
   "source": [
    "target = 44"
   ]
  },
  {
   "cell_type": "code",
   "execution_count": 16,
   "metadata": {},
   "outputs": [],
   "source": [
    "result = [] #create an empty list to store the result\n"
   ]
  },
  {
   "cell_type": "code",
   "execution_count": 17,
   "metadata": {},
   "outputs": [
    {
     "name": "stdout",
     "output_type": "stream",
     "text": [
      "[3, 3]\n"
     ]
    }
   ],
   "source": [
    "for index_x, i in enumerate(matrix): # Iterate over each element in the current row\n",
    "    for index_y, x in enumerate(i): # Check if the element matches the target\n",
    "        if x == target: # If a match is found, append the indices to the result list\n",
    "            result.append(index_x)\n",
    "            result.append(index_y)\n",
    "\n",
    "if len(result) == 0:\n",
    "    print(\"Integer is not in matrix\")\n",
    "else:\n",
    "    print(result)"
   ]
  },
  {
   "cell_type": "code",
   "execution_count": 13,
   "metadata": {},
   "outputs": [
    {
     "data": {
      "text/plain": [
       "4"
      ]
     },
     "execution_count": 13,
     "metadata": {},
     "output_type": "execute_result"
    }
   ],
   "source": [
    "matrix[0][1]"
   ]
  },
  {
   "cell_type": "code",
   "execution_count": 15,
   "metadata": {},
   "outputs": [
    {
     "data": {
      "text/plain": [
       "0"
      ]
     },
     "execution_count": 15,
     "metadata": {},
     "output_type": "execute_result"
    }
   ],
   "source": [
    "len([])"
   ]
  },
  {
   "cell_type": "code",
   "execution_count": 16,
   "metadata": {},
   "outputs": [
    {
     "data": {
      "text/plain": [
       "[3, 4]"
      ]
     },
     "execution_count": 16,
     "metadata": {},
     "output_type": "execute_result"
    }
   ],
   "source": [
    "i "
   ]
  },
  {
   "cell_type": "code",
   "execution_count": 17,
   "metadata": {},
   "outputs": [
    {
     "data": {
      "text/plain": [
       "2"
      ]
     },
     "execution_count": 17,
     "metadata": {},
     "output_type": "execute_result"
    }
   ],
   "source": [
    "target"
   ]
  },
  {
   "cell_type": "code",
   "execution_count": 1,
   "metadata": {},
   "outputs": [
    {
     "ename": "NameError",
     "evalue": "name 'grade' is not defined",
     "output_type": "error",
     "traceback": [
      "\u001b[1;31m---------------------------------------------------------------------------\u001b[0m",
      "\u001b[1;31mNameError\u001b[0m                                 Traceback (most recent call last)",
      "Cell \u001b[1;32mIn[1], line 2\u001b[0m\n\u001b[0;32m      1\u001b[0m Grade \u001b[39m=\u001b[39m \u001b[39minput\u001b[39m(\u001b[39m23\u001b[39m)\n\u001b[1;32m----> 2\u001b[0m Round_grade \u001b[39m=\u001b[39m (((grade\u001b[39m/\u001b[39m\u001b[39m5\u001b[39m)\u001b[39m+\u001b[39m\u001b[39m1\u001b[39m)\u001b[39m*\u001b[39m\u001b[39m5\u001b[39m);\n\u001b[0;32m      3\u001b[0m New_grade \u001b[39m=\u001b[39m (Round_grade \u001b[39m-\u001b[39m grade)\n\u001b[0;32m      4\u001b[0m If (New_grade \u001b[39m-\u001b[39m grade) \u001b[39m<\u001b[39m\u001b[39m=\u001b[39m\u001b[39m2\u001b[39m;\n",
      "\u001b[1;31mNameError\u001b[0m: name 'grade' is not defined"
     ]
    }
   ],
   "source": [
    "Grade = input(23)\n",
    "Round_grade = (((grade/5)+1)*5);\n",
    "New_grade = (Round_grade - grade)\n",
    "If (New_grade - grade) <=2;\n",
    "Print (New_grade);\n",
    "Else (Print (grade))\n",
    "\n"
   ]
  },
  {
   "cell_type": "code",
   "execution_count": 11,
   "metadata": {},
   "outputs": [
    {
     "name": "stdout",
     "output_type": "stream",
     "text": [
      "73\n",
      "Original Grade: 73\n",
      "Rounded Grade: 75\n",
      "Original Grade: 37\n",
      "Rounded Grade: 37\n"
     ]
    }
   ],
   "source": [
    "def round_grade(grade):\n",
    "    if grade < 40:  # If grade is less than 40, no rounding occurs\n",
    "        return grade\n",
    "    \n",
    "    else:\n",
    "        next_multiple = ((grade // 5) + 1) * 5  # Calculate the next multiple of 5\n",
    "        if next_multiple - grade < 3:  # If the difference is less than 3, round up\n",
    "            return next_multiple\n",
    "        else:\n",
    "            return grade  # Otherwise, no rounding occurs\n",
    "        \n",
    "grade1 = 73\n",
    "grade2 = 37\n",
    "\n",
    "rounded_grade1 = round_grade(grade1)\n",
    "rounded_grade2 = round_grade(grade2)\n",
    "\n",
    "print(\"Original Grade:\", grade1)\n",
    "print(\"Rounded Grade:\", rounded_grade1)\n",
    "\n",
    "print(\"Original Grade:\", grade2)\n",
    "print(\"Rounded Grade:\", rounded_grade2)\n"
   ]
  },
  {
   "cell_type": "code",
   "execution_count": null,
   "metadata": {},
   "outputs": [],
   "source": []
  }
 ],
 "metadata": {
  "kernelspec": {
   "display_name": "Python 3",
   "language": "python",
   "name": "python3"
  },
  "language_info": {
   "codemirror_mode": {
    "name": "ipython",
    "version": 3
   },
   "file_extension": ".py",
   "mimetype": "text/x-python",
   "name": "python",
   "nbconvert_exporter": "python",
   "pygments_lexer": "ipython3",
   "version": "3.11.2"
  },
  "orig_nbformat": 4
 },
 "nbformat": 4,
 "nbformat_minor": 2
}
