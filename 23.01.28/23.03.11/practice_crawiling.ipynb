{
 "cells": [
  {
   "cell_type": "code",
   "execution_count": 1,
   "metadata": {},
   "outputs": [],
   "source": [
    "import requests\n",
    "from bs4 import BeautifulSoup as bs"
   ]
  },
  {
   "cell_type": "code",
   "execution_count": 2,
   "metadata": {},
   "outputs": [],
   "source": [
    "url = 'https://www.naver.com'\n",
    "response = requests.get(url)"
   ]
  },
  {
   "cell_type": "code",
   "execution_count": 3,
   "metadata": {},
   "outputs": [],
   "source": [
    "html_data =response.text"
   ]
  },
  {
   "cell_type": "code",
   "execution_count": 4,
   "metadata": {},
   "outputs": [],
   "source": [
    "soup = bs(html_data, 'html.parser')"
   ]
  },
  {
   "cell_type": "code",
   "execution_count": null,
   "metadata": {},
   "outputs": [],
   "source": [
    "print(soup.find_all('a')) #im port all 'a tag'"
   ]
  },
  {
   "cell_type": "code",
   "execution_count": 6,
   "metadata": {},
   "outputs": [
    {
     "name": "stdout",
     "output_type": "stream",
     "text": [
      "<span>주제별캐스트 바로가기</span>\n"
     ]
    }
   ],
   "source": [
    "print(soup.find_all('span', limit=10)[1]) # print first line in the 10th 'span tag'"
   ]
  },
  {
   "cell_type": "code",
   "execution_count": 8,
   "metadata": {},
   "outputs": [
    {
     "name": "stdout",
     "output_type": "stream",
     "text": [
      "[<span class=\"blind\">네이버</span>, <span class=\"blind\">쥬니어네이버</span>, <span class=\"blind\">해피빈</span>, <span class=\"blind\">검색</span>, <span class=\"blind\">한글 입력기</span>, <span class=\"blind\">자동완성 레이어</span>, <span class=\"blind\">쇼핑</span>, <span class=\"blind\">쇼핑LIVE</span>, <span class=\"blind\">리스트형</span>, <span class=\"blind\">썸네일형</span>, <span class=\"blind\">설정</span>, <span class=\"blind\">이전</span>, <span class=\"blind\">다음</span>, <span class=\"blind\">닫기</span>, <span class=\"blind\">닫기</span>, <span class=\"blind\">이전</span>, <span class=\"blind\">다음</span>, <span class=\"blind\">닫기</span>, <span class=\"blind\">닫기</span>, <span class=\"blind\">이전</span>, <span class=\"blind\">다음</span>, <span class=\"blind\">다음</span>, <span class=\"blind\">닫기</span>, <span class=\"blind\">닫기</span>, <span class=\"blind\">이전</span>, <span class=\"blind\">다음</span>, <span class=\"blind\">닫기</span>, <span class=\"blind\">닫기</span>, <span class=\"blind\">이전</span>, <span class=\"blind\">다음</span>, <span class=\"blind\">재생</span>, <span class=\"blind\">재생</span>, <span class=\"blind\">재생</span>, <span class=\"blind\">재생</span>, <span class=\"blind\">재생</span>, <span class=\"blind\">재생</span>, <span class=\"blind\">NAVER</span>, <span class=\"blind\">이전</span>, <span class=\"blind\">다음</span>, <span class=\"blind\"> <script id=\"veta_service_check\"></script> </span>, <span class=\"blind\">TOP</span>, <span class=\"blind\">라이트 모드로 보기</span>]\n"
     ]
    }
   ],
   "source": [
    "print(soup.find_all('span',attrs={\n",
    "    'class' : 'blind'\n",
    "}))\n",
    "#find all 'span'tag and the form of 'class, blind'"
   ]
  },
  {
   "cell_type": "code",
   "execution_count": 12,
   "metadata": {},
   "outputs": [
    {
     "name": "stdout",
     "output_type": "stream",
     "text": [
      "네이버\n"
     ]
    }
   ],
   "source": [
    "print(soup.find('span', attrs={\n",
    "    'class' : 'blind'\n",
    "}).get_text())\n",
    "\n",
    "# find out  '네이버' "
   ]
  },
  {
   "cell_type": "code",
   "execution_count": 13,
   "metadata": {},
   "outputs": [
    {
     "data": {
      "text/plain": [
       "[<span class=\"blind\">네이버</span>,\n",
       " <span class=\"blind\">쥬니어네이버</span>,\n",
       " <span class=\"blind\">해피빈</span>,\n",
       " <span class=\"blind\">검색</span>,\n",
       " <span class=\"blind\">한글 입력기</span>,\n",
       " <span class=\"blind\">자동완성 레이어</span>,\n",
       " <span class=\"blind\">쇼핑</span>,\n",
       " <span class=\"blind\">쇼핑LIVE</span>,\n",
       " <span class=\"blind\">리스트형</span>,\n",
       " <span class=\"blind\">썸네일형</span>,\n",
       " <span class=\"blind\">설정</span>,\n",
       " <span class=\"blind\">이전</span>,\n",
       " <span class=\"blind\">다음</span>,\n",
       " <span class=\"blind\">닫기</span>,\n",
       " <span class=\"blind\">닫기</span>,\n",
       " <span class=\"blind\">이전</span>,\n",
       " <span class=\"blind\">다음</span>,\n",
       " <span class=\"blind\">닫기</span>,\n",
       " <span class=\"blind\">닫기</span>,\n",
       " <span class=\"blind\">이전</span>,\n",
       " <span class=\"blind\">다음</span>,\n",
       " <span class=\"blind\">다음</span>,\n",
       " <span class=\"blind\">닫기</span>,\n",
       " <span class=\"blind\">닫기</span>,\n",
       " <span class=\"blind\">이전</span>,\n",
       " <span class=\"blind\">다음</span>,\n",
       " <span class=\"blind\">닫기</span>,\n",
       " <span class=\"blind\">닫기</span>,\n",
       " <span class=\"blind\">이전</span>,\n",
       " <span class=\"blind\">다음</span>,\n",
       " <span class=\"blind\">재생</span>,\n",
       " <span class=\"blind\">재생</span>,\n",
       " <span class=\"blind\">재생</span>,\n",
       " <span class=\"blind\">재생</span>,\n",
       " <span class=\"blind\">재생</span>,\n",
       " <span class=\"blind\">재생</span>,\n",
       " <span class=\"blind\">NAVER</span>,\n",
       " <span class=\"blind\">이전</span>,\n",
       " <span class=\"blind\">다음</span>,\n",
       " <span class=\"blind\"> <script id=\"veta_service_check\"></script> </span>,\n",
       " <span class=\"blind\">TOP</span>,\n",
       " <span class=\"blind\">라이트 모드로 보기</span>]"
      ]
     },
     "execution_count": 13,
     "metadata": {},
     "output_type": "execute_result"
    }
   ],
   "source": [
    "span_list = soup.find_all('span', attrs = {\n",
    "    'class' : 'blind'\n",
    "})\n",
    "span_list\n",
    "\n",
    "#find out only lette of [span, class, blind ] form of list"
   ]
  },
  {
   "cell_type": "code",
   "execution_count": 14,
   "metadata": {},
   "outputs": [
    {
     "data": {
      "text/plain": [
       "['네이버',\n",
       " '쥬니어네이버',\n",
       " '해피빈',\n",
       " '검색',\n",
       " '한글 입력기',\n",
       " '자동완성 레이어',\n",
       " '쇼핑',\n",
       " '쇼핑LIVE',\n",
       " '리스트형',\n",
       " '썸네일형',\n",
       " '설정',\n",
       " '이전',\n",
       " '다음',\n",
       " '닫기',\n",
       " '닫기',\n",
       " '이전',\n",
       " '다음',\n",
       " '닫기',\n",
       " '닫기',\n",
       " '이전',\n",
       " '다음',\n",
       " '다음',\n",
       " '닫기',\n",
       " '닫기',\n",
       " '이전',\n",
       " '다음',\n",
       " '닫기',\n",
       " '닫기',\n",
       " '이전',\n",
       " '다음',\n",
       " '재생',\n",
       " '재생',\n",
       " '재생',\n",
       " '재생',\n",
       " '재생',\n",
       " '재생',\n",
       " 'NAVER',\n",
       " '이전',\n",
       " '다음',\n",
       " '  ',\n",
       " 'TOP',\n",
       " '라이트 모드로 보기']"
      ]
     },
     "execution_count": 14,
     "metadata": {},
     "output_type": "execute_result"
    }
   ],
   "source": [
    "data_list = []\n",
    "for i in span_list:\n",
    "    data_list.append(i.get_text())\n",
    "data_list\n",
    "\n",
    "# print each letter of list form"
   ]
  },
  {
   "cell_type": "code",
   "execution_count": 17,
   "metadata": {},
   "outputs": [
    {
     "data": {
      "text/plain": [
       "['네이버',\n",
       " '쥬니어네이버',\n",
       " '해피빈',\n",
       " '검색',\n",
       " '한글 입력기',\n",
       " '자동완성 레이어',\n",
       " '쇼핑',\n",
       " '쇼핑LIVE',\n",
       " '리스트형',\n",
       " '썸네일형',\n",
       " '설정',\n",
       " '이전',\n",
       " '다음',\n",
       " '닫기',\n",
       " '닫기',\n",
       " '이전',\n",
       " '다음',\n",
       " '닫기',\n",
       " '닫기',\n",
       " '이전',\n",
       " '다음',\n",
       " '다음',\n",
       " '닫기',\n",
       " '닫기',\n",
       " '이전',\n",
       " '다음',\n",
       " '닫기',\n",
       " '닫기',\n",
       " '이전',\n",
       " '다음',\n",
       " '재생',\n",
       " '재생',\n",
       " '재생',\n",
       " '재생',\n",
       " '재생',\n",
       " '재생',\n",
       " 'NAVER',\n",
       " '이전',\n",
       " '다음',\n",
       " '  ',\n",
       " 'TOP',\n",
       " '라이트 모드로 보기']"
      ]
     },
     "execution_count": 17,
     "metadata": {},
     "output_type": "execute_result"
    }
   ],
   "source": [
    "data_list =[]\n",
    "for i in range(0,len(span_list),1):\n",
    "    data = (span_list[i].get_text())\n",
    "    data_list.append(data)\n",
    "data_list"
   ]
  },
  {
   "cell_type": "code",
   "execution_count": 18,
   "metadata": {},
   "outputs": [
    {
     "data": {
      "text/plain": [
       "['네이버',\n",
       " '쥬니어네이버',\n",
       " '해피빈',\n",
       " '검색',\n",
       " '한글 입력기',\n",
       " '자동완성 레이어',\n",
       " '쇼핑',\n",
       " '쇼핑LIVE',\n",
       " '리스트형',\n",
       " '썸네일형',\n",
       " '설정',\n",
       " '이전',\n",
       " '다음',\n",
       " '닫기',\n",
       " '닫기',\n",
       " '이전',\n",
       " '다음',\n",
       " '닫기',\n",
       " '닫기',\n",
       " '이전',\n",
       " '다음',\n",
       " '다음',\n",
       " '닫기',\n",
       " '닫기',\n",
       " '이전',\n",
       " '다음',\n",
       " '닫기',\n",
       " '닫기',\n",
       " '이전',\n",
       " '다음',\n",
       " '재생',\n",
       " '재생',\n",
       " '재생',\n",
       " '재생',\n",
       " '재생',\n",
       " '재생',\n",
       " 'NAVER',\n",
       " '이전',\n",
       " '다음',\n",
       " '  ',\n",
       " 'TOP',\n",
       " '라이트 모드로 보기']"
      ]
     },
     "execution_count": 18,
     "metadata": {},
     "output_type": "execute_result"
    }
   ],
   "source": [
    "def change(x):\n",
    "    return x.get_text()\n",
    "\n",
    "list(map(change, span_list))"
   ]
  },
  {
   "cell_type": "code",
   "execution_count": 19,
   "metadata": {},
   "outputs": [
    {
     "data": {
      "text/plain": [
       "['네이버',\n",
       " '쥬니어네이버',\n",
       " '해피빈',\n",
       " '검색',\n",
       " '한글 입력기',\n",
       " '자동완성 레이어',\n",
       " '쇼핑',\n",
       " '쇼핑LIVE',\n",
       " '리스트형',\n",
       " '썸네일형',\n",
       " '설정',\n",
       " '이전',\n",
       " '다음',\n",
       " '닫기',\n",
       " '닫기',\n",
       " '이전',\n",
       " '다음',\n",
       " '닫기',\n",
       " '닫기',\n",
       " '이전',\n",
       " '다음',\n",
       " '다음',\n",
       " '닫기',\n",
       " '닫기',\n",
       " '이전',\n",
       " '다음',\n",
       " '닫기',\n",
       " '닫기',\n",
       " '이전',\n",
       " '다음',\n",
       " '재생',\n",
       " '재생',\n",
       " '재생',\n",
       " '재생',\n",
       " '재생',\n",
       " '재생',\n",
       " 'NAVER',\n",
       " '이전',\n",
       " '다음',\n",
       " '  ',\n",
       " 'TOP',\n",
       " '라이트 모드로 보기']"
      ]
     },
     "execution_count": 19,
     "metadata": {},
     "output_type": "execute_result"
    }
   ],
   "source": [
    "list(map(lambda x : x.get_text(), span_list))"
   ]
  },
  {
   "cell_type": "code",
   "execution_count": 20,
   "metadata": {},
   "outputs": [],
   "source": [
    "def func_1(_list):\n",
    "    result = list(map(lambda x :x.get_text(),_list))\n",
    "    return result"
   ]
  },
  {
   "cell_type": "code",
   "execution_count": 23,
   "metadata": {},
   "outputs": [
    {
     "data": {
      "text/plain": [
       "<ul class=\"list_nav NM_FAVORITE_LIST\">\n",
       "<li class=\"nav_item\"><a class=\"nav\" data-clk=\"svc.dic\" href=\"https://dict.naver.com/\">사전</a></li>\n",
       "<li class=\"nav_item\"><a class=\"nav\" data-clk=\"svc.news\" href=\"https://news.naver.com/\">뉴스</a></li>\n",
       "<li class=\"nav_item\"><a class=\"nav\" data-clk=\"svc.stock\" href=\"https://finance.naver.com/\">증권</a></li>\n",
       "<li class=\"nav_item\"><a class=\"nav\" data-clk=\"svc.land\" href=\"https://land.naver.com/\">부동산</a></li>\n",
       "<li class=\"nav_item\"><a class=\"nav\" data-clk=\"svc.map\" href=\"https://map.naver.com/\">지도</a></li>\n",
       "<li class=\"nav_item\"><a class=\"nav\" data-clk=\"svc.vibe\" href=\"https://vibe.naver.com/?from=naver_main&amp;utm_source=naver_main&amp;utm_medium=naver_main_pcweb&amp;utm_campaign=naver_main_redirect\">VIBE</a></li>\n",
       "<li class=\"nav_item\"><a class=\"nav\" data-clk=\"svc.book\" href=\"https://search.shopping.naver.com/book/home\">도서</a></li>\n",
       "<li class=\"nav_item\"><a class=\"nav\" data-clk=\"svc.webtoon\" href=\"https://comic.naver.com/\">웹툰</a></li>\n",
       "</ul>"
      ]
     },
     "execution_count": 23,
     "metadata": {},
     "output_type": "execute_result"
    }
   ],
   "source": [
    "ul_list = soup.find('ul', attrs={\n",
    "    'class' : 'NM_FAVORITE_LIST'\n",
    "})\n",
    "ul_list"
   ]
  },
  {
   "cell_type": "code",
   "execution_count": 24,
   "metadata": {},
   "outputs": [],
   "source": [
    "a_list = ul_list.find_all('a')"
   ]
  },
  {
   "cell_type": "code",
   "execution_count": 25,
   "metadata": {},
   "outputs": [
    {
     "data": {
      "text/plain": [
       "['사전', '뉴스', '증권', '부동산', '지도', 'VIBE', '도서', '웹툰']"
      ]
     },
     "execution_count": 25,
     "metadata": {},
     "output_type": "execute_result"
    }
   ],
   "source": [
    "func_1(a_list)"
   ]
  },
  {
   "cell_type": "code",
   "execution_count": null,
   "metadata": {},
   "outputs": [],
   "source": []
  }
 ],
 "metadata": {
  "kernelspec": {
   "display_name": "Python 3",
   "language": "python",
   "name": "python3"
  },
  "language_info": {
   "codemirror_mode": {
    "name": "ipython",
    "version": 3
   },
   "file_extension": ".py",
   "mimetype": "text/x-python",
   "name": "python",
   "nbconvert_exporter": "python",
   "pygments_lexer": "ipython3",
   "version": "3.11.2"
  },
  "orig_nbformat": 4,
  "vscode": {
   "interpreter": {
    "hash": "a0ccebdd928ff8b1cacc3966d27986a3d3cb671a748452518fce4f1d921b7395"
   }
  }
 },
 "nbformat": 4,
 "nbformat_minor": 2
}
