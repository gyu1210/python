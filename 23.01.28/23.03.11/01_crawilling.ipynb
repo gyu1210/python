{
 "cells": [
  {
   "cell_type": "code",
   "execution_count": 6,
   "metadata": {},
   "outputs": [],
   "source": [
    "import requests\n",
    "from bs4 import BeautifulSoup as bs"
   ]
  },
  {
   "cell_type": "code",
   "execution_count": 7,
   "metadata": {},
   "outputs": [],
   "source": [
    "# 주소입력 변수 생성\n",
    "url = 'https://www.naver.com'\n",
    "\n",
    "#네이버에 요청보냄\n",
    "response = requests.get(url)"
   ]
  },
  {
   "cell_type": "code",
   "execution_count": 8,
   "metadata": {},
   "outputs": [],
   "source": [
    "html_data = response.text"
   ]
  },
  {
   "cell_type": "code",
   "execution_count": null,
   "metadata": {},
   "outputs": [],
   "source": [
    "html_data"
   ]
  },
  {
   "cell_type": "code",
   "execution_count": 10,
   "metadata": {},
   "outputs": [],
   "source": [
    "soup = bs(html_data, 'html.parser')\n",
    "#paser : 파싱 ->  html 형태로 변환"
   ]
  },
  {
   "cell_type": "code",
   "execution_count": 11,
   "metadata": {},
   "outputs": [
    {
     "name": "stdout",
     "output_type": "stream",
     "text": [
      "<a href=\"#newsstand\"><span>뉴스스탠드 바로가기</span></a>\n"
     ]
    }
   ],
   "source": [
    "# find() : html 안에서 해당 태그의 첫번째 \n",
    "# find_all() : \n",
    "print(soup.find('a'))"
   ]
  },
  {
   "cell_type": "code",
   "execution_count": null,
   "metadata": {},
   "outputs": [],
   "source": [
    "print(soup.find_all('a'))"
   ]
  },
  {
   "cell_type": "code",
   "execution_count": null,
   "metadata": {},
   "outputs": [],
   "source": [
    "print(soup.find(id = 'newsstand'))"
   ]
  },
  {
   "cell_type": "code",
   "execution_count": 14,
   "metadata": {},
   "outputs": [
    {
     "name": "stdout",
     "output_type": "stream",
     "text": [
      "<span>주제별캐스트 바로가기</span>\n"
     ]
    }
   ],
   "source": [
    "print(soup.find_all('span', limit=10)[1])"
   ]
  },
  {
   "cell_type": "code",
   "execution_count": 15,
   "metadata": {},
   "outputs": [
    {
     "name": "stdout",
     "output_type": "stream",
     "text": [
      "[<span class=\"blind\">네이버</span>, <span class=\"blind\">쥬니어네이버</span>, <span class=\"blind\">해피빈</span>, <span class=\"blind\">검색</span>, <span class=\"blind\">한글 입력기</span>, <span class=\"blind\">자동완성 레이어</span>, <span class=\"blind\">쇼핑</span>, <span class=\"blind\">쇼핑LIVE</span>, <span class=\"blind\">리스트형</span>, <span class=\"blind\">썸네일형</span>, <span class=\"blind\">설정</span>, <span class=\"blind\">이전</span>, <span class=\"blind\">다음</span>, <span class=\"blind\">닫기</span>, <span class=\"blind\">닫기</span>, <span class=\"blind\">이전</span>, <span class=\"blind\">다음</span>, <span class=\"blind\">닫기</span>, <span class=\"blind\">닫기</span>, <span class=\"blind\">이전</span>, <span class=\"blind\">다음</span>, <span class=\"blind\">다음</span>, <span class=\"blind\">닫기</span>, <span class=\"blind\">닫기</span>, <span class=\"blind\">이전</span>, <span class=\"blind\">다음</span>, <span class=\"blind\">닫기</span>, <span class=\"blind\">닫기</span>, <span class=\"blind\">이전</span>, <span class=\"blind\">다음</span>, <span class=\"blind\">재생</span>, <span class=\"blind\">재생</span>, <span class=\"blind\">재생</span>, <span class=\"blind\">재생</span>, <span class=\"blind\">재생</span>, <span class=\"blind\">재생</span>, <span class=\"blind\">재생</span>, <span class=\"blind\">재생</span>, <span class=\"blind\">재생</span>, <span class=\"blind\">재생</span>, <span class=\"blind\">재생</span>, <span class=\"blind\">재생</span>, <span class=\"blind\">재생</span>, <span class=\"blind\">재생</span>, <span class=\"blind\">재생</span>, <span class=\"blind\">재생</span>, <span class=\"blind\">재생</span>, <span class=\"blind\">재생</span>, <span class=\"blind\">재생</span>, <span class=\"blind\">재생</span>, <span class=\"blind\">재생</span>, <span class=\"blind\">재생</span>, <span class=\"blind\">재생</span>, <span class=\"blind\">재생</span>, <span class=\"blind\">재생</span>, <span class=\"blind\">재생</span>, <span class=\"blind\">재생</span>, <span class=\"blind\">NAVER</span>, <span class=\"blind\">이전</span>, <span class=\"blind\">다음</span>, <span class=\"blind\"> <script id=\"veta_service_check\"></script> </span>, <span class=\"blind\">TOP</span>, <span class=\"blind\">라이트 모드로 보기</span>]\n"
     ]
    }
   ],
   "source": [
    "#해당 태그애서 class 값을 기준으로 출력\n",
    "print(soup.find_all('span', attrs= {\n",
    "    'class' : 'blind'\n",
    "}))"
   ]
  },
  {
   "cell_type": "code",
   "execution_count": 16,
   "metadata": {},
   "outputs": [
    {
     "name": "stdout",
     "output_type": "stream",
     "text": [
      "네이버\n"
     ]
    }
   ],
   "source": [
    "print(soup.find('span', attrs= {\n",
    "    'class' : 'blind'\n",
    "}).get_text())"
   ]
  },
  {
   "cell_type": "code",
   "execution_count": 17,
   "metadata": {},
   "outputs": [
    {
     "data": {
      "text/plain": [
       "[<span class=\"blind\">네이버</span>,\n",
       " <span class=\"blind\">쥬니어네이버</span>,\n",
       " <span class=\"blind\">해피빈</span>,\n",
       " <span class=\"blind\">검색</span>,\n",
       " <span class=\"blind\">한글 입력기</span>,\n",
       " <span class=\"blind\">자동완성 레이어</span>,\n",
       " <span class=\"blind\">쇼핑</span>,\n",
       " <span class=\"blind\">쇼핑LIVE</span>,\n",
       " <span class=\"blind\">리스트형</span>,\n",
       " <span class=\"blind\">썸네일형</span>,\n",
       " <span class=\"blind\">설정</span>,\n",
       " <span class=\"blind\">이전</span>,\n",
       " <span class=\"blind\">다음</span>,\n",
       " <span class=\"blind\">닫기</span>,\n",
       " <span class=\"blind\">닫기</span>,\n",
       " <span class=\"blind\">이전</span>,\n",
       " <span class=\"blind\">다음</span>,\n",
       " <span class=\"blind\">닫기</span>,\n",
       " <span class=\"blind\">닫기</span>,\n",
       " <span class=\"blind\">이전</span>,\n",
       " <span class=\"blind\">다음</span>,\n",
       " <span class=\"blind\">다음</span>,\n",
       " <span class=\"blind\">닫기</span>,\n",
       " <span class=\"blind\">닫기</span>,\n",
       " <span class=\"blind\">이전</span>,\n",
       " <span class=\"blind\">다음</span>,\n",
       " <span class=\"blind\">닫기</span>,\n",
       " <span class=\"blind\">닫기</span>,\n",
       " <span class=\"blind\">이전</span>,\n",
       " <span class=\"blind\">다음</span>,\n",
       " <span class=\"blind\">재생</span>,\n",
       " <span class=\"blind\">재생</span>,\n",
       " <span class=\"blind\">재생</span>,\n",
       " <span class=\"blind\">재생</span>,\n",
       " <span class=\"blind\">재생</span>,\n",
       " <span class=\"blind\">재생</span>,\n",
       " <span class=\"blind\">재생</span>,\n",
       " <span class=\"blind\">재생</span>,\n",
       " <span class=\"blind\">재생</span>,\n",
       " <span class=\"blind\">재생</span>,\n",
       " <span class=\"blind\">재생</span>,\n",
       " <span class=\"blind\">재생</span>,\n",
       " <span class=\"blind\">재생</span>,\n",
       " <span class=\"blind\">재생</span>,\n",
       " <span class=\"blind\">재생</span>,\n",
       " <span class=\"blind\">재생</span>,\n",
       " <span class=\"blind\">재생</span>,\n",
       " <span class=\"blind\">재생</span>,\n",
       " <span class=\"blind\">재생</span>,\n",
       " <span class=\"blind\">재생</span>,\n",
       " <span class=\"blind\">재생</span>,\n",
       " <span class=\"blind\">재생</span>,\n",
       " <span class=\"blind\">재생</span>,\n",
       " <span class=\"blind\">재생</span>,\n",
       " <span class=\"blind\">재생</span>,\n",
       " <span class=\"blind\">재생</span>,\n",
       " <span class=\"blind\">재생</span>,\n",
       " <span class=\"blind\">NAVER</span>,\n",
       " <span class=\"blind\">이전</span>,\n",
       " <span class=\"blind\">다음</span>,\n",
       " <span class=\"blind\"> <script id=\"veta_service_check\"></script> </span>,\n",
       " <span class=\"blind\">TOP</span>,\n",
       " <span class=\"blind\">라이트 모드로 보기</span>]"
      ]
     },
     "execution_count": 17,
     "metadata": {},
     "output_type": "execute_result"
    }
   ],
   "source": [
    "span_list = soup.find_all('span', attrs={\n",
    "    'class' : 'blind'\n",
    "})\n",
    "span_list"
   ]
  },
  {
   "cell_type": "code",
   "execution_count": 18,
   "metadata": {},
   "outputs": [
    {
     "data": {
      "text/plain": [
       "['네이버',\n",
       " '쥬니어네이버',\n",
       " '해피빈',\n",
       " '검색',\n",
       " '한글 입력기',\n",
       " '자동완성 레이어',\n",
       " '쇼핑',\n",
       " '쇼핑LIVE',\n",
       " '리스트형',\n",
       " '썸네일형',\n",
       " '설정',\n",
       " '이전',\n",
       " '다음',\n",
       " '닫기',\n",
       " '닫기',\n",
       " '이전',\n",
       " '다음',\n",
       " '닫기',\n",
       " '닫기',\n",
       " '이전',\n",
       " '다음',\n",
       " '다음',\n",
       " '닫기',\n",
       " '닫기',\n",
       " '이전',\n",
       " '다음',\n",
       " '닫기',\n",
       " '닫기',\n",
       " '이전',\n",
       " '다음',\n",
       " '재생',\n",
       " '재생',\n",
       " '재생',\n",
       " '재생',\n",
       " '재생',\n",
       " '재생',\n",
       " '재생',\n",
       " '재생',\n",
       " '재생',\n",
       " '재생',\n",
       " '재생',\n",
       " '재생',\n",
       " '재생',\n",
       " '재생',\n",
       " '재생',\n",
       " '재생',\n",
       " '재생',\n",
       " '재생',\n",
       " '재생',\n",
       " '재생',\n",
       " '재생',\n",
       " '재생',\n",
       " '재생',\n",
       " '재생',\n",
       " '재생',\n",
       " '재생',\n",
       " '재생',\n",
       " 'NAVER',\n",
       " '이전',\n",
       " '다음',\n",
       " '  ',\n",
       " 'TOP',\n",
       " '라이트 모드로 보기']"
      ]
     },
     "execution_count": 18,
     "metadata": {},
     "output_type": "execute_result"
    }
   ],
   "source": [
    "#case1 -list\n",
    "#1. 리스트의 값둘울 하나씩 출력\n",
    "#for i in span_list:\n",
    "    #print(i)\n",
    "#2. 리스트의 각각 text들을 하나씩 출력\n",
    "#for i in span_list:\n",
    "   # print(i.get_text())\n",
    "#3. text들을 리스트로 생성\n",
    "data_list = []\n",
    "for i in span_list:\n",
    "    data_list.append(i.get_text())\n",
    "data_list"
   ]
  },
  {
   "cell_type": "code",
   "execution_count": 19,
   "metadata": {},
   "outputs": [
    {
     "data": {
      "text/plain": [
       "['네이버',\n",
       " '쥬니어네이버',\n",
       " '해피빈',\n",
       " '검색',\n",
       " '한글 입력기',\n",
       " '자동완성 레이어',\n",
       " '쇼핑',\n",
       " '쇼핑LIVE',\n",
       " '리스트형',\n",
       " '썸네일형',\n",
       " '설정',\n",
       " '이전',\n",
       " '다음',\n",
       " '닫기',\n",
       " '닫기',\n",
       " '이전',\n",
       " '다음',\n",
       " '닫기',\n",
       " '닫기',\n",
       " '이전',\n",
       " '다음',\n",
       " '다음',\n",
       " '닫기',\n",
       " '닫기',\n",
       " '이전',\n",
       " '다음',\n",
       " '닫기',\n",
       " '닫기',\n",
       " '이전',\n",
       " '다음',\n",
       " '재생',\n",
       " '재생',\n",
       " '재생',\n",
       " '재생',\n",
       " '재생',\n",
       " '재생',\n",
       " '재생',\n",
       " '재생',\n",
       " '재생',\n",
       " '재생',\n",
       " '재생',\n",
       " '재생',\n",
       " '재생',\n",
       " '재생',\n",
       " '재생',\n",
       " '재생',\n",
       " '재생',\n",
       " '재생',\n",
       " '재생',\n",
       " '재생',\n",
       " '재생',\n",
       " '재생',\n",
       " '재생',\n",
       " '재생',\n",
       " '재생',\n",
       " '재생',\n",
       " '재생',\n",
       " 'NAVER',\n",
       " '이전',\n",
       " '다음',\n",
       " '  ',\n",
       " 'TOP',\n",
       " '라이트 모드로 보기']"
      ]
     },
     "execution_count": 19,
     "metadata": {},
     "output_type": "execute_result"
    }
   ],
   "source": [
    "# case2 - range\n",
    "data_list = []\n",
    "for i in range(0,len(span_list), 1):\n",
    "    data = (span_list[i].get_text())\n",
    "    data_list.append(data)\n",
    "\n",
    "data_list\n",
    "\n"
   ]
  },
  {
   "cell_type": "code",
   "execution_count": 20,
   "metadata": {},
   "outputs": [
    {
     "data": {
      "text/plain": [
       "['네이버',\n",
       " '쥬니어네이버',\n",
       " '해피빈',\n",
       " '검색',\n",
       " '한글 입력기',\n",
       " '자동완성 레이어',\n",
       " '쇼핑',\n",
       " '쇼핑LIVE',\n",
       " '리스트형',\n",
       " '썸네일형',\n",
       " '설정',\n",
       " '이전',\n",
       " '다음',\n",
       " '닫기',\n",
       " '닫기',\n",
       " '이전',\n",
       " '다음',\n",
       " '닫기',\n",
       " '닫기',\n",
       " '이전',\n",
       " '다음',\n",
       " '다음',\n",
       " '닫기',\n",
       " '닫기',\n",
       " '이전',\n",
       " '다음',\n",
       " '닫기',\n",
       " '닫기',\n",
       " '이전',\n",
       " '다음',\n",
       " '재생',\n",
       " '재생',\n",
       " '재생',\n",
       " '재생',\n",
       " '재생',\n",
       " '재생',\n",
       " '재생',\n",
       " '재생',\n",
       " '재생',\n",
       " '재생',\n",
       " '재생',\n",
       " '재생',\n",
       " '재생',\n",
       " '재생',\n",
       " '재생',\n",
       " '재생',\n",
       " '재생',\n",
       " '재생',\n",
       " '재생',\n",
       " '재생',\n",
       " '재생',\n",
       " '재생',\n",
       " '재생',\n",
       " '재생',\n",
       " '재생',\n",
       " '재생',\n",
       " '재생',\n",
       " 'NAVER',\n",
       " '이전',\n",
       " '다음',\n",
       " '  ',\n",
       " 'TOP',\n",
       " '라이트 모드로 보기']"
      ]
     },
     "execution_count": 20,
     "metadata": {},
     "output_type": "execute_result"
    }
   ],
   "source": [
    "#case3  - map\n",
    "# map 함수: map(함수, 리스트 형태의 데이터)\n",
    "def change(x): \n",
    "    #print(x.get_text())\n",
    "    return x.get_text()\n",
    "\n",
    "list(map(change, span_list))\n",
    "\n"
   ]
  },
  {
   "cell_type": "code",
   "execution_count": 21,
   "metadata": {},
   "outputs": [
    {
     "data": {
      "text/plain": [
       "['네이버',\n",
       " '쥬니어네이버',\n",
       " '해피빈',\n",
       " '검색',\n",
       " '한글 입력기',\n",
       " '자동완성 레이어',\n",
       " '쇼핑',\n",
       " '쇼핑LIVE',\n",
       " '리스트형',\n",
       " '썸네일형',\n",
       " '설정',\n",
       " '이전',\n",
       " '다음',\n",
       " '닫기',\n",
       " '닫기',\n",
       " '이전',\n",
       " '다음',\n",
       " '닫기',\n",
       " '닫기',\n",
       " '이전',\n",
       " '다음',\n",
       " '다음',\n",
       " '닫기',\n",
       " '닫기',\n",
       " '이전',\n",
       " '다음',\n",
       " '닫기',\n",
       " '닫기',\n",
       " '이전',\n",
       " '다음',\n",
       " '재생',\n",
       " '재생',\n",
       " '재생',\n",
       " '재생',\n",
       " '재생',\n",
       " '재생',\n",
       " '재생',\n",
       " '재생',\n",
       " '재생',\n",
       " '재생',\n",
       " '재생',\n",
       " '재생',\n",
       " '재생',\n",
       " '재생',\n",
       " '재생',\n",
       " '재생',\n",
       " '재생',\n",
       " '재생',\n",
       " '재생',\n",
       " '재생',\n",
       " '재생',\n",
       " '재생',\n",
       " '재생',\n",
       " '재생',\n",
       " '재생',\n",
       " '재생',\n",
       " '재생',\n",
       " 'NAVER',\n",
       " '이전',\n",
       " '다음',\n",
       " '  ',\n",
       " 'TOP',\n",
       " '라이트 모드로 보기']"
      ]
     },
     "execution_count": 21,
     "metadata": {},
     "output_type": "execute_result"
    }
   ],
   "source": [
    "# case4 -lambda\n",
    "# map(lambda함수, 리스트형태의 데이터)\n",
    "\n",
    "list(map(lambda x : x.get_text(), span_list))"
   ]
  },
  {
   "cell_type": "code",
   "execution_count": 22,
   "metadata": {},
   "outputs": [],
   "source": [
    "# 함수형태로 생성해보기\n",
    "\n",
    "def func_1(_list):\n",
    "    result = list(map(lambda x : x.get_text(), _list))\n",
    "    return result\n",
    "     "
   ]
  },
  {
   "cell_type": "code",
   "execution_count": 24,
   "metadata": {},
   "outputs": [
    {
     "data": {
      "text/plain": [
       "<ul class=\"list_nav NM_FAVORITE_LIST\">\n",
       "<li class=\"nav_item\"><a class=\"nav\" data-clk=\"svc.dic\" href=\"https://dict.naver.com/\">사전</a></li>\n",
       "<li class=\"nav_item\"><a class=\"nav\" data-clk=\"svc.news\" href=\"https://news.naver.com/\">뉴스</a></li>\n",
       "<li class=\"nav_item\"><a class=\"nav\" data-clk=\"svc.stock\" href=\"https://finance.naver.com/\">증권</a></li>\n",
       "<li class=\"nav_item\"><a class=\"nav\" data-clk=\"svc.land\" href=\"https://land.naver.com/\">부동산</a></li>\n",
       "<li class=\"nav_item\"><a class=\"nav\" data-clk=\"svc.map\" href=\"https://map.naver.com/\">지도</a></li>\n",
       "<li class=\"nav_item\"><a class=\"nav\" data-clk=\"svc.vibe\" href=\"https://vibe.naver.com/?from=naver_main&amp;utm_source=naver_main&amp;utm_medium=naver_main_pcweb&amp;utm_campaign=naver_main_redirect\">VIBE</a></li>\n",
       "<li class=\"nav_item\"><a class=\"nav\" data-clk=\"svc.book\" href=\"https://search.shopping.naver.com/book/home\">도서</a></li>\n",
       "<li class=\"nav_item\"><a class=\"nav\" data-clk=\"svc.webtoon\" href=\"https://comic.naver.com/\">웹툰</a></li>\n",
       "</ul>"
      ]
     },
     "execution_count": 24,
     "metadata": {},
     "output_type": "execute_result"
    }
   ],
   "source": [
    "ul_list = soup.find('ul', attrs={\n",
    "    'class' : 'NM_FAVORITE_LIST'\n",
    "})\n",
    "ul_list"
   ]
  },
  {
   "cell_type": "code",
   "execution_count": 26,
   "metadata": {},
   "outputs": [
    {
     "data": {
      "text/plain": [
       "[<a class=\"nav\" data-clk=\"svc.dic\" href=\"https://dict.naver.com/\">사전</a>,\n",
       " <a class=\"nav\" data-clk=\"svc.news\" href=\"https://news.naver.com/\">뉴스</a>,\n",
       " <a class=\"nav\" data-clk=\"svc.stock\" href=\"https://finance.naver.com/\">증권</a>,\n",
       " <a class=\"nav\" data-clk=\"svc.land\" href=\"https://land.naver.com/\">부동산</a>,\n",
       " <a class=\"nav\" data-clk=\"svc.map\" href=\"https://map.naver.com/\">지도</a>,\n",
       " <a class=\"nav\" data-clk=\"svc.vibe\" href=\"https://vibe.naver.com/?from=naver_main&amp;utm_source=naver_main&amp;utm_medium=naver_main_pcweb&amp;utm_campaign=naver_main_redirect\">VIBE</a>,\n",
       " <a class=\"nav\" data-clk=\"svc.book\" href=\"https://search.shopping.naver.com/book/home\">도서</a>,\n",
       " <a class=\"nav\" data-clk=\"svc.webtoon\" href=\"https://comic.naver.com/\">웹툰</a>]"
      ]
     },
     "execution_count": 26,
     "metadata": {},
     "output_type": "execute_result"
    }
   ],
   "source": [
    "ul_list.find_all('a')"
   ]
  },
  {
   "cell_type": "code",
   "execution_count": 27,
   "metadata": {},
   "outputs": [],
   "source": [
    "a_list = ul_list.find_all('a')"
   ]
  },
  {
   "cell_type": "code",
   "execution_count": 28,
   "metadata": {},
   "outputs": [
    {
     "data": {
      "text/plain": [
       "['사전', '뉴스', '증권', '부동산', '지도', 'VIBE', '도서', '웹툰']"
      ]
     },
     "execution_count": 28,
     "metadata": {},
     "output_type": "execute_result"
    }
   ],
   "source": [
    "func_1(a_list)"
   ]
  },
  {
   "cell_type": "code",
   "execution_count": null,
   "metadata": {},
   "outputs": [],
   "source": []
  }
 ],
 "metadata": {
  "kernelspec": {
   "display_name": "Python 3",
   "language": "python",
   "name": "python3"
  },
  "language_info": {
   "codemirror_mode": {
    "name": "ipython",
    "version": 3
   },
   "file_extension": ".py",
   "mimetype": "text/x-python",
   "name": "python",
   "nbconvert_exporter": "python",
   "pygments_lexer": "ipython3",
   "version": "3.11.2"
  },
  "orig_nbformat": 4,
  "vscode": {
   "interpreter": {
    "hash": "a0ccebdd928ff8b1cacc3966d27986a3d3cb671a748452518fce4f1d921b7395"
   }
  }
 },
 "nbformat": 4,
 "nbformat_minor": 2
}
