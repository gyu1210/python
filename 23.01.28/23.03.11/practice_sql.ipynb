{
 "cells": [
  {
   "cell_type": "code",
   "execution_count": 1,
   "metadata": {},
   "outputs": [
    {
     "name": "stdout",
     "output_type": "stream",
     "text": [
      "Collecting Flask-SQLALchemy\n",
      "  Downloading Flask_SQLAlchemy-3.0.3-py3-none-any.whl (24 kB)\n",
      "Requirement already satisfied: Flask>=2.2 in c:\\users\\kyu11\\appdata\\local\\programs\\python\\python311\\lib\\site-packages (from Flask-SQLALchemy) (2.2.3)\n",
      "Collecting SQLAlchemy>=1.4.18\n",
      "  Downloading SQLAlchemy-2.0.13-cp311-cp311-win_amd64.whl (2.0 MB)\n",
      "     ---------------------------------------- 2.0/2.0 MB 5.4 MB/s eta 0:00:00\n",
      "Requirement already satisfied: Werkzeug>=2.2.2 in c:\\users\\kyu11\\appdata\\local\\programs\\python\\python311\\lib\\site-packages (from Flask>=2.2->Flask-SQLALchemy) (2.2.3)\n",
      "Requirement already satisfied: Jinja2>=3.0 in c:\\users\\kyu11\\appdata\\local\\programs\\python\\python311\\lib\\site-packages (from Flask>=2.2->Flask-SQLALchemy) (3.1.2)\n",
      "Requirement already satisfied: itsdangerous>=2.0 in c:\\users\\kyu11\\appdata\\local\\programs\\python\\python311\\lib\\site-packages (from Flask>=2.2->Flask-SQLALchemy) (2.1.2)\n",
      "Requirement already satisfied: click>=8.0 in c:\\users\\kyu11\\appdata\\local\\programs\\python\\python311\\lib\\site-packages (from Flask>=2.2->Flask-SQLALchemy) (8.1.3)\n",
      "Collecting typing-extensions>=4.2.0\n",
      "  Downloading typing_extensions-4.5.0-py3-none-any.whl (27 kB)\n",
      "Collecting greenlet!=0.4.17\n",
      "  Downloading greenlet-2.0.2-cp311-cp311-win_amd64.whl (192 kB)\n",
      "     ------------------------------------- 192.5/192.5 kB 11.4 MB/s eta 0:00:00\n",
      "Requirement already satisfied: colorama in c:\\users\\kyu11\\appdata\\roaming\\python\\python311\\site-packages (from click>=8.0->Flask>=2.2->Flask-SQLALchemy) (0.4.6)\n",
      "Requirement already satisfied: MarkupSafe>=2.0 in c:\\users\\kyu11\\appdata\\local\\programs\\python\\python311\\lib\\site-packages (from Jinja2>=3.0->Flask>=2.2->Flask-SQLALchemy) (2.1.2)\n",
      "Installing collected packages: typing-extensions, greenlet, SQLAlchemy, Flask-SQLALchemy\n",
      "Successfully installed Flask-SQLALchemy-3.0.3 SQLAlchemy-2.0.13 greenlet-2.0.2 typing-extensions-4.5.0\n"
     ]
    },
    {
     "name": "stderr",
     "output_type": "stream",
     "text": [
      "\n",
      "[notice] A new release of pip available: 22.3.1 -> 23.1.2\n",
      "[notice] To update, run: python.exe -m pip install --upgrade pip\n"
     ]
    }
   ],
   "source": [
    "!pip install Flask-SQLALchemy"
   ]
  },
  {
   "cell_type": "code",
   "execution_count": null,
   "metadata": {},
   "outputs": [],
   "source": []
  }
 ],
 "metadata": {
  "kernelspec": {
   "display_name": "Python 3",
   "language": "python",
   "name": "python3"
  },
  "language_info": {
   "codemirror_mode": {
    "name": "ipython",
    "version": 3
   },
   "file_extension": ".py",
   "mimetype": "text/x-python",
   "name": "python",
   "nbconvert_exporter": "python",
   "pygments_lexer": "ipython3",
   "version": "3.11.2"
  },
  "orig_nbformat": 4
 },
 "nbformat": 4,
 "nbformat_minor": 2
}
