{
 "cells": [
  {
   "cell_type": "code",
   "execution_count": 1,
   "metadata": {},
   "outputs": [],
   "source": [
    "import pandas as pd"
   ]
  },
  {
   "cell_type": "code",
   "execution_count": 2,
   "metadata": {},
   "outputs": [
    {
     "data": {
      "text/html": [
       "<div>\n",
       "<style scoped>\n",
       "    .dataframe tbody tr th:only-of-type {\n",
       "        vertical-align: middle;\n",
       "    }\n",
       "\n",
       "    .dataframe tbody tr th {\n",
       "        vertical-align: top;\n",
       "    }\n",
       "\n",
       "    .dataframe thead th {\n",
       "        text-align: right;\n",
       "    }\n",
       "</style>\n",
       "<table border=\"1\" class=\"dataframe\">\n",
       "  <thead>\n",
       "    <tr style=\"text-align: right;\">\n",
       "      <th></th>\n",
       "      <th>Unnamed: 0</th>\n",
       "      <th>createDt</th>\n",
       "      <th>deathCnt</th>\n",
       "      <th>decideCnt</th>\n",
       "      <th>seq</th>\n",
       "      <th>stateDt</th>\n",
       "      <th>stateTime</th>\n",
       "      <th>updateDt</th>\n",
       "      <th>accExamCnt</th>\n",
       "      <th>accDefRate</th>\n",
       "    </tr>\n",
       "  </thead>\n",
       "  <tbody>\n",
       "    <tr>\n",
       "      <th>0</th>\n",
       "      <td>0</td>\n",
       "      <td>2022-06-08 09:09:05.982</td>\n",
       "      <td>24305</td>\n",
       "      <td>18188200</td>\n",
       "      <td>904</td>\n",
       "      <td>20220608</td>\n",
       "      <td>00:00</td>\n",
       "      <td>NaN</td>\n",
       "      <td>NaN</td>\n",
       "      <td>NaN</td>\n",
       "    </tr>\n",
       "    <tr>\n",
       "      <th>1</th>\n",
       "      <td>1</td>\n",
       "      <td>2022-06-07 09:09:00.897</td>\n",
       "      <td>24299</td>\n",
       "      <td>18174842</td>\n",
       "      <td>903</td>\n",
       "      <td>20220607</td>\n",
       "      <td>00:00</td>\n",
       "      <td>2022-06-08 09:10:36.846</td>\n",
       "      <td>NaN</td>\n",
       "      <td>NaN</td>\n",
       "    </tr>\n",
       "    <tr>\n",
       "      <th>2</th>\n",
       "      <td>2</td>\n",
       "      <td>2022-06-06 09:00:06.734</td>\n",
       "      <td>24279</td>\n",
       "      <td>18168670</td>\n",
       "      <td>902</td>\n",
       "      <td>20220606</td>\n",
       "      <td>00:00</td>\n",
       "      <td>2022-06-08 09:10:50.441</td>\n",
       "      <td>NaN</td>\n",
       "      <td>NaN</td>\n",
       "    </tr>\n",
       "    <tr>\n",
       "      <th>3</th>\n",
       "      <td>3</td>\n",
       "      <td>2022-06-05 08:53:19.426</td>\n",
       "      <td>24258</td>\n",
       "      <td>18163648</td>\n",
       "      <td>901</td>\n",
       "      <td>20220605</td>\n",
       "      <td>00:00</td>\n",
       "      <td>2022-06-08 09:11:04.758</td>\n",
       "      <td>NaN</td>\n",
       "      <td>NaN</td>\n",
       "    </tr>\n",
       "    <tr>\n",
       "      <th>4</th>\n",
       "      <td>4</td>\n",
       "      <td>2022-06-04 08:56:49.219</td>\n",
       "      <td>24238</td>\n",
       "      <td>18153814</td>\n",
       "      <td>900</td>\n",
       "      <td>20220604</td>\n",
       "      <td>00:00</td>\n",
       "      <td>2022-06-08 09:11:26.303</td>\n",
       "      <td>NaN</td>\n",
       "      <td>NaN</td>\n",
       "    </tr>\n",
       "  </tbody>\n",
       "</table>\n",
       "</div>"
      ],
      "text/plain": [
       "   Unnamed: 0                 createDt  deathCnt  decideCnt  seq   stateDt  \\\n",
       "0           0  2022-06-08 09:09:05.982     24305   18188200  904  20220608   \n",
       "1           1  2022-06-07 09:09:00.897     24299   18174842  903  20220607   \n",
       "2           2  2022-06-06 09:00:06.734     24279   18168670  902  20220606   \n",
       "3           3  2022-06-05 08:53:19.426     24258   18163648  901  20220605   \n",
       "4           4  2022-06-04 08:56:49.219     24238   18153814  900  20220604   \n",
       "\n",
       "  stateTime                 updateDt  accExamCnt  accDefRate  \n",
       "0     00:00                      NaN         NaN         NaN  \n",
       "1     00:00  2022-06-08 09:10:36.846         NaN         NaN  \n",
       "2     00:00  2022-06-08 09:10:50.441         NaN         NaN  \n",
       "3     00:00  2022-06-08 09:11:04.758         NaN         NaN  \n",
       "4     00:00  2022-06-08 09:11:26.303         NaN         NaN  "
      ]
     },
     "execution_count": 2,
     "metadata": {},
     "output_type": "execute_result"
    }
   ],
   "source": [
    "corona = pd.read_csv('../../csv/corona.csv')\n",
    "corona.head()"
   ]
  },
  {
   "cell_type": "code",
   "execution_count": 6,
   "metadata": {},
   "outputs": [],
   "source": [
    "corona.drop(['Unnamed: 0'], axis=1, inplace = True)"
   ]
  },
  {
   "cell_type": "code",
   "execution_count": 7,
   "metadata": {},
   "outputs": [
    {
     "data": {
      "text/html": [
       "<div>\n",
       "<style scoped>\n",
       "    .dataframe tbody tr th:only-of-type {\n",
       "        vertical-align: middle;\n",
       "    }\n",
       "\n",
       "    .dataframe tbody tr th {\n",
       "        vertical-align: top;\n",
       "    }\n",
       "\n",
       "    .dataframe thead th {\n",
       "        text-align: right;\n",
       "    }\n",
       "</style>\n",
       "<table border=\"1\" class=\"dataframe\">\n",
       "  <thead>\n",
       "    <tr style=\"text-align: right;\">\n",
       "      <th></th>\n",
       "      <th>createDt</th>\n",
       "      <th>deathCnt</th>\n",
       "      <th>decideCnt</th>\n",
       "      <th>seq</th>\n",
       "      <th>stateDt</th>\n",
       "      <th>stateTime</th>\n",
       "      <th>updateDt</th>\n",
       "      <th>accExamCnt</th>\n",
       "      <th>accDefRate</th>\n",
       "    </tr>\n",
       "  </thead>\n",
       "  <tbody>\n",
       "    <tr>\n",
       "      <th>0</th>\n",
       "      <td>2022-06-08 09:09:05.982</td>\n",
       "      <td>24305</td>\n",
       "      <td>18188200</td>\n",
       "      <td>904</td>\n",
       "      <td>20220608</td>\n",
       "      <td>00:00</td>\n",
       "      <td>NaN</td>\n",
       "      <td>NaN</td>\n",
       "      <td>NaN</td>\n",
       "    </tr>\n",
       "    <tr>\n",
       "      <th>1</th>\n",
       "      <td>2022-06-07 09:09:00.897</td>\n",
       "      <td>24299</td>\n",
       "      <td>18174842</td>\n",
       "      <td>903</td>\n",
       "      <td>20220607</td>\n",
       "      <td>00:00</td>\n",
       "      <td>2022-06-08 09:10:36.846</td>\n",
       "      <td>NaN</td>\n",
       "      <td>NaN</td>\n",
       "    </tr>\n",
       "    <tr>\n",
       "      <th>2</th>\n",
       "      <td>2022-06-06 09:00:06.734</td>\n",
       "      <td>24279</td>\n",
       "      <td>18168670</td>\n",
       "      <td>902</td>\n",
       "      <td>20220606</td>\n",
       "      <td>00:00</td>\n",
       "      <td>2022-06-08 09:10:50.441</td>\n",
       "      <td>NaN</td>\n",
       "      <td>NaN</td>\n",
       "    </tr>\n",
       "    <tr>\n",
       "      <th>3</th>\n",
       "      <td>2022-06-05 08:53:19.426</td>\n",
       "      <td>24258</td>\n",
       "      <td>18163648</td>\n",
       "      <td>901</td>\n",
       "      <td>20220605</td>\n",
       "      <td>00:00</td>\n",
       "      <td>2022-06-08 09:11:04.758</td>\n",
       "      <td>NaN</td>\n",
       "      <td>NaN</td>\n",
       "    </tr>\n",
       "    <tr>\n",
       "      <th>4</th>\n",
       "      <td>2022-06-04 08:56:49.219</td>\n",
       "      <td>24238</td>\n",
       "      <td>18153814</td>\n",
       "      <td>900</td>\n",
       "      <td>20220604</td>\n",
       "      <td>00:00</td>\n",
       "      <td>2022-06-08 09:11:26.303</td>\n",
       "      <td>NaN</td>\n",
       "      <td>NaN</td>\n",
       "    </tr>\n",
       "  </tbody>\n",
       "</table>\n",
       "</div>"
      ],
      "text/plain": [
       "                  createDt  deathCnt  decideCnt  seq   stateDt stateTime  \\\n",
       "0  2022-06-08 09:09:05.982     24305   18188200  904  20220608     00:00   \n",
       "1  2022-06-07 09:09:00.897     24299   18174842  903  20220607     00:00   \n",
       "2  2022-06-06 09:00:06.734     24279   18168670  902  20220606     00:00   \n",
       "3  2022-06-05 08:53:19.426     24258   18163648  901  20220605     00:00   \n",
       "4  2022-06-04 08:56:49.219     24238   18153814  900  20220604     00:00   \n",
       "\n",
       "                  updateDt  accExamCnt  accDefRate  \n",
       "0                      NaN         NaN         NaN  \n",
       "1  2022-06-08 09:10:36.846         NaN         NaN  \n",
       "2  2022-06-08 09:10:50.441         NaN         NaN  \n",
       "3  2022-06-08 09:11:04.758         NaN         NaN  \n",
       "4  2022-06-08 09:11:26.303         NaN         NaN  "
      ]
     },
     "execution_count": 7,
     "metadata": {},
     "output_type": "execute_result"
    }
   ],
   "source": [
    "corona.head()"
   ]
  },
  {
   "cell_type": "code",
   "execution_count": 13,
   "metadata": {},
   "outputs": [],
   "source": [
    "corona.columns = ['creat_dt', 'death_cnt', 'decide_cnt','seq', 'state_dt','state_time', 'update_dt','acc_exame_cnt', 'acc_def_rate']"
   ]
  },
  {
   "cell_type": "code",
   "execution_count": 14,
   "metadata": {},
   "outputs": [
    {
     "name": "stdout",
     "output_type": "stream",
     "text": [
      "<class 'pandas.core.frame.DataFrame'>\n",
      "RangeIndex: 820 entries, 0 to 819\n",
      "Data columns (total 9 columns):\n",
      " #   Column         Non-Null Count  Dtype  \n",
      "---  ------         --------------  -----  \n",
      " 0   creat_dt       820 non-null    object \n",
      " 1   death_cnt      820 non-null    int64  \n",
      " 2   decide_cnt     820 non-null    int64  \n",
      " 3   seq            820 non-null    int64  \n",
      " 4   state_dt       820 non-null    int64  \n",
      " 5   state_time     820 non-null    object \n",
      " 6   update_dt      817 non-null    object \n",
      " 7   acc_exame_cnt  692 non-null    float64\n",
      " 8   acc_def_rate   623 non-null    float64\n",
      "dtypes: float64(2), int64(4), object(3)\n",
      "memory usage: 57.8+ KB\n"
     ]
    }
   ],
   "source": [
    "corona.info()"
   ]
  },
  {
   "cell_type": "code",
   "execution_count": 15,
   "metadata": {},
   "outputs": [
    {
     "data": {
      "text/plain": [
       "creat_dt           0\n",
       "death_cnt          0\n",
       "decide_cnt         0\n",
       "seq                0\n",
       "state_dt           0\n",
       "state_time         0\n",
       "update_dt          3\n",
       "acc_exame_cnt    128\n",
       "acc_def_rate     197\n",
       "dtype: int64"
      ]
     },
     "execution_count": 15,
     "metadata": {},
     "output_type": "execute_result"
    }
   ],
   "source": [
    "corona.isna().sum()"
   ]
  },
  {
   "cell_type": "code",
   "execution_count": 20,
   "metadata": {},
   "outputs": [],
   "source": [
    "corona.sort_values(['creat_dt'],inplace = True)"
   ]
  },
  {
   "cell_type": "code",
   "execution_count": 21,
   "metadata": {},
   "outputs": [
    {
     "data": {
      "text/plain": [
       "819     NaN\n",
       "818     6.0\n",
       "817     6.0\n",
       "816     1.0\n",
       "815     5.0\n",
       "       ... \n",
       "4       9.0\n",
       "3      20.0\n",
       "2      21.0\n",
       "1      20.0\n",
       "0       6.0\n",
       "Name: death_cnt, Length: 820, dtype: float64"
      ]
     },
     "execution_count": 21,
     "metadata": {},
     "output_type": "execute_result"
    }
   ],
   "source": [
    "corona['death_cnt'].diff()"
   ]
  },
  {
   "cell_type": "code",
   "execution_count": 23,
   "metadata": {},
   "outputs": [],
   "source": [
    "corona['daily_death_cnt'] = corona['death_cnt'].diff()"
   ]
  },
  {
   "cell_type": "code",
   "execution_count": 24,
   "metadata": {},
   "outputs": [
    {
     "data": {
      "text/html": [
       "<div>\n",
       "<style scoped>\n",
       "    .dataframe tbody tr th:only-of-type {\n",
       "        vertical-align: middle;\n",
       "    }\n",
       "\n",
       "    .dataframe tbody tr th {\n",
       "        vertical-align: top;\n",
       "    }\n",
       "\n",
       "    .dataframe thead th {\n",
       "        text-align: right;\n",
       "    }\n",
       "</style>\n",
       "<table border=\"1\" class=\"dataframe\">\n",
       "  <thead>\n",
       "    <tr style=\"text-align: right;\">\n",
       "      <th></th>\n",
       "      <th>creat_dt</th>\n",
       "      <th>death_cnt</th>\n",
       "      <th>decide_cnt</th>\n",
       "      <th>seq</th>\n",
       "      <th>state_dt</th>\n",
       "      <th>state_time</th>\n",
       "      <th>update_dt</th>\n",
       "      <th>acc_exame_cnt</th>\n",
       "      <th>acc_def_rate</th>\n",
       "      <th>daily_death_cnt</th>\n",
       "    </tr>\n",
       "  </thead>\n",
       "  <tbody>\n",
       "    <tr>\n",
       "      <th>819</th>\n",
       "      <td>2020-03-10 00:00:00.000</td>\n",
       "      <td>54</td>\n",
       "      <td>7513</td>\n",
       "      <td>51</td>\n",
       "      <td>20200310</td>\n",
       "      <td>00:00</td>\n",
       "      <td>2021-10-07 10:30:51.51</td>\n",
       "      <td>210144.0</td>\n",
       "      <td>3.919308</td>\n",
       "      <td>NaN</td>\n",
       "    </tr>\n",
       "    <tr>\n",
       "      <th>818</th>\n",
       "      <td>2020-03-11 00:00:00.000</td>\n",
       "      <td>60</td>\n",
       "      <td>7755</td>\n",
       "      <td>52</td>\n",
       "      <td>20200311</td>\n",
       "      <td>00:00</td>\n",
       "      <td>2021-10-07 10:30:51.51</td>\n",
       "      <td>222395.0</td>\n",
       "      <td>3.804175</td>\n",
       "      <td>6.0</td>\n",
       "    </tr>\n",
       "    <tr>\n",
       "      <th>817</th>\n",
       "      <td>2020-03-12 00:00:00.000</td>\n",
       "      <td>66</td>\n",
       "      <td>7869</td>\n",
       "      <td>53</td>\n",
       "      <td>20200312</td>\n",
       "      <td>00:00</td>\n",
       "      <td>2021-10-07 10:30:51.51</td>\n",
       "      <td>234998.0</td>\n",
       "      <td>3.621744</td>\n",
       "      <td>6.0</td>\n",
       "    </tr>\n",
       "    <tr>\n",
       "      <th>816</th>\n",
       "      <td>2020-03-13 00:00:00.000</td>\n",
       "      <td>67</td>\n",
       "      <td>7979</td>\n",
       "      <td>54</td>\n",
       "      <td>20200313</td>\n",
       "      <td>00:00</td>\n",
       "      <td>2021-10-07 10:30:51.51</td>\n",
       "      <td>248647.0</td>\n",
       "      <td>3.458499</td>\n",
       "      <td>1.0</td>\n",
       "    </tr>\n",
       "    <tr>\n",
       "      <th>815</th>\n",
       "      <td>2020-03-14 00:00:00.000</td>\n",
       "      <td>72</td>\n",
       "      <td>8086</td>\n",
       "      <td>55</td>\n",
       "      <td>20200314</td>\n",
       "      <td>00:00</td>\n",
       "      <td>2021-10-07 10:30:51.51</td>\n",
       "      <td>261335.0</td>\n",
       "      <td>3.318000</td>\n",
       "      <td>5.0</td>\n",
       "    </tr>\n",
       "  </tbody>\n",
       "</table>\n",
       "</div>"
      ],
      "text/plain": [
       "                    creat_dt  death_cnt  decide_cnt  seq  state_dt state_time  \\\n",
       "819  2020-03-10 00:00:00.000         54        7513   51  20200310      00:00   \n",
       "818  2020-03-11 00:00:00.000         60        7755   52  20200311      00:00   \n",
       "817  2020-03-12 00:00:00.000         66        7869   53  20200312      00:00   \n",
       "816  2020-03-13 00:00:00.000         67        7979   54  20200313      00:00   \n",
       "815  2020-03-14 00:00:00.000         72        8086   55  20200314      00:00   \n",
       "\n",
       "                  update_dt  acc_exame_cnt  acc_def_rate  daily_death_cnt  \n",
       "819  2021-10-07 10:30:51.51       210144.0      3.919308              NaN  \n",
       "818  2021-10-07 10:30:51.51       222395.0      3.804175              6.0  \n",
       "817  2021-10-07 10:30:51.51       234998.0      3.621744              6.0  \n",
       "816  2021-10-07 10:30:51.51       248647.0      3.458499              1.0  \n",
       "815  2021-10-07 10:30:51.51       261335.0      3.318000              5.0  "
      ]
     },
     "execution_count": 24,
     "metadata": {},
     "output_type": "execute_result"
    }
   ],
   "source": [
    "corona.head()"
   ]
  },
  {
   "cell_type": "code",
   "execution_count": 25,
   "metadata": {},
   "outputs": [
    {
     "data": {
      "text/plain": [
       "819     NaN\n",
       "818     NaN\n",
       "817     6.0\n",
       "816     6.0\n",
       "815     1.0\n",
       "       ... \n",
       "4      17.0\n",
       "3       9.0\n",
       "2      20.0\n",
       "1      21.0\n",
       "0      20.0\n",
       "Name: daily_death_cnt, Length: 820, dtype: float64"
      ]
     },
     "execution_count": 25,
     "metadata": {},
     "output_type": "execute_result"
    }
   ],
   "source": [
    "corona['daily_death_cnt'].shift(1)"
   ]
  },
  {
   "cell_type": "code",
   "execution_count": 26,
   "metadata": {},
   "outputs": [
    {
     "data": {
      "text/html": [
       "<div>\n",
       "<style scoped>\n",
       "    .dataframe tbody tr th:only-of-type {\n",
       "        vertical-align: middle;\n",
       "    }\n",
       "\n",
       "    .dataframe tbody tr th {\n",
       "        vertical-align: top;\n",
       "    }\n",
       "\n",
       "    .dataframe thead th {\n",
       "        text-align: right;\n",
       "    }\n",
       "</style>\n",
       "<table border=\"1\" class=\"dataframe\">\n",
       "  <thead>\n",
       "    <tr style=\"text-align: right;\">\n",
       "      <th></th>\n",
       "      <th>daily_death_cnt</th>\n",
       "    </tr>\n",
       "  </thead>\n",
       "  <tbody>\n",
       "    <tr>\n",
       "      <th>819</th>\n",
       "      <td>0.0</td>\n",
       "    </tr>\n",
       "    <tr>\n",
       "      <th>818</th>\n",
       "      <td>6.0</td>\n",
       "    </tr>\n",
       "    <tr>\n",
       "      <th>817</th>\n",
       "      <td>6.0</td>\n",
       "    </tr>\n",
       "    <tr>\n",
       "      <th>816</th>\n",
       "      <td>1.0</td>\n",
       "    </tr>\n",
       "    <tr>\n",
       "      <th>815</th>\n",
       "      <td>5.0</td>\n",
       "    </tr>\n",
       "    <tr>\n",
       "      <th>...</th>\n",
       "      <td>...</td>\n",
       "    </tr>\n",
       "    <tr>\n",
       "      <th>4</th>\n",
       "      <td>9.0</td>\n",
       "    </tr>\n",
       "    <tr>\n",
       "      <th>3</th>\n",
       "      <td>20.0</td>\n",
       "    </tr>\n",
       "    <tr>\n",
       "      <th>2</th>\n",
       "      <td>21.0</td>\n",
       "    </tr>\n",
       "    <tr>\n",
       "      <th>1</th>\n",
       "      <td>20.0</td>\n",
       "    </tr>\n",
       "    <tr>\n",
       "      <th>0</th>\n",
       "      <td>6.0</td>\n",
       "    </tr>\n",
       "  </tbody>\n",
       "</table>\n",
       "<p>820 rows × 1 columns</p>\n",
       "</div>"
      ],
      "text/plain": [
       "     daily_death_cnt\n",
       "819              0.0\n",
       "818              6.0\n",
       "817              6.0\n",
       "816              1.0\n",
       "815              5.0\n",
       "..               ...\n",
       "4                9.0\n",
       "3               20.0\n",
       "2               21.0\n",
       "1               20.0\n",
       "0                6.0\n",
       "\n",
       "[820 rows x 1 columns]"
      ]
     },
     "execution_count": 26,
     "metadata": {},
     "output_type": "execute_result"
    }
   ],
   "source": [
    "corona[['daily_death_cnt']].fillna(0)"
   ]
  },
  {
   "cell_type": "code",
   "execution_count": 27,
   "metadata": {},
   "outputs": [],
   "source": [
    "import matplotlib.pyplot as plt"
   ]
  },
  {
   "cell_type": "code",
   "execution_count": 28,
   "metadata": {},
   "outputs": [
    {
     "data": {
      "image/png": "[encoded data removed]",
      "text/plain": [
       "<Figure size 640x480 with 1 Axes>"
      ]
     },
     "metadata": {},
     "output_type": "display_data"
    }
   ],
   "source": [
    "plt.plot([1,2,3,4])\n",
    "plt.show()\n"
   ]
  },
  {
   "cell_type": "code",
   "execution_count": 29,
   "metadata": {},
   "outputs": [
    {
     "data": {
      "text/plain": [
       "[<matplotlib.lines.Line2D at 0x1ee0fef3e90>]"
      ]
     },
     "execution_count": 29,
     "metadata": {},
     "output_type": "execute_result"
    },
    {
     "data": {
      "image/png": "[encoded data removed]",
      "text/plain": [
       "<Figure size 640x480 with 1 Axes>"
      ]
     },
     "metadata": {},
     "output_type": "display_data"
    }
   ],
   "source": [
    "plt.plot(corona['daily_death_cnt'])"
   ]
  },
  {
   "cell_type": "code",
   "execution_count": 30,
   "metadata": {},
   "outputs": [
    {
     "data": {
      "text/plain": [
       "[<matplotlib.lines.Line2D at 0x1ee0dd54ed0>]"
      ]
     },
     "execution_count": 30,
     "metadata": {},
     "output_type": "execute_result"
    },
    {
     "data": {
      "image/png": "[encoded data removed]",
      "text/plain": [
       "<Figure size 640x480 with 1 Axes>"
      ]
     },
     "metadata": {},
     "output_type": "display_data"
    }
   ],
   "source": [
    "plt.plot([1,2,3,4],[1,5,7,8])"
   ]
  },
  {
   "cell_type": "code",
   "execution_count": 32,
   "metadata": {},
   "outputs": [
    {
     "name": "stdout",
     "output_type": "stream",
     "text": [
      "Americano     5000\n",
      "cafe_latte    4000\n",
      "long_black    3000\n",
      "dtype: int64\n"
     ]
    }
   ],
   "source": [
    "pd_list = pd.Series([5000,4000,3000], ['Americano', 'cafe_latte','long_black'])\n",
    "print(pd_list)"
   ]
  },
  {
   "cell_type": "code",
   "execution_count": 34,
   "metadata": {},
   "outputs": [
    {
     "name": "stdout",
     "output_type": "stream",
     "text": [
      "series_values = [5000 4000 3000]\n",
      "series_index = Index(['Americano', 'cafe_latte', 'long_black'], dtype='object')\n"
     ]
    }
   ],
   "source": [
    "print('series_values =', pd_list.values)\n",
    "print('series_index =', pd_list.index)"
   ]
  },
  {
   "cell_type": "code",
   "execution_count": null,
   "metadata": {},
   "outputs": [],
   "source": []
  }
 ],
 "metadata": {
  "kernelspec": {
   "display_name": "Python 3",
   "language": "python",
   "name": "python3"
  },
  "language_info": {
   "codemirror_mode": {
    "name": "ipython",
    "version": 3
   },
   "file_extension": ".py",
   "mimetype": "text/x-python",
   "name": "python",
   "nbconvert_exporter": "python",
   "pygments_lexer": "ipython3",
   "version": "3.11.2"
  },
  "orig_nbformat": 4
 },
 "nbformat": 4,
 "nbformat_minor": 2
}
