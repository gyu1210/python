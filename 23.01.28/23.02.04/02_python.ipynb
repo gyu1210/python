{
 "cells": [
  {
   "cell_type": "code",
   "execution_count": 2,
   "metadata": {},
   "outputs": [],
   "source": [
    "##함수\n",
    "#1. 함수 생성 - def로 시작\n",
    "#2. 매개변수 0개부터 생성\n",
    "#"
   ]
  },
  {
   "cell_type": "code",
   "execution_count": 9,
   "metadata": {},
   "outputs": [],
   "source": [
    "def func_1(a, b, c, d):\n",
    "    print(a, b, c, d)\n",
    "\n",
    "    ##함수호출(매개변수의 개수와 인자의 개수 동일하게)\n",
    "\n",
    "    func_1(1,2,3,4)"
   ]
  },
  {
   "cell_type": "code",
   "execution_count": 10,
   "metadata": {},
   "outputs": [],
   "source": [
    "## 매개변수에 기본값 지정하여 함수 생성\n",
    "def func_2(a, b, c=3, d=4):\n",
    "    print(a, b, c, d)\n",
    "\n",
    "    #함수호출\n",
    "    func_2(1, 2)\n",
    "    func_2(1, 2, 5, 6) \n",
    "    "
   ]
  },
  {
   "cell_type": "code",
   "execution_count": null,
   "metadata": {},
   "outputs": [],
   "source": []
  }
 ],
 "metadata": {
  "kernelspec": {
   "display_name": "Python 3",
   "language": "python",
   "name": "python3"
  },
  "language_info": {
   "codemirror_mode": {
    "name": "ipython",
    "version": 3
   },
   "file_extension": ".py",
   "mimetype": "text/x-python",
   "name": "python",
   "nbconvert_exporter": "python",
   "pygments_lexer": "ipython3",
   "version": "3.11.1"
  },
  "orig_nbformat": 4,
  "vscode": {
   "interpreter": {
    "hash": "c261aea317cc0286b3b3261fbba9abdec21eaa57589985bb7a274bf54d6cc0a7"
   }
  }
 },
 "nbformat": 4,
 "nbformat_minor": 2
}
