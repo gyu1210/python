{
 "cells": [
  {
   "cell_type": "code",
   "execution_count": 142,
   "metadata": {},
   "outputs": [],
   "source": [
    "import pandas as pd\n"
   ]
  },
  {
   "cell_type": "code",
   "execution_count": 143,
   "metadata": {},
   "outputs": [
    {
     "data": {
      "text/html": [
       "<div>\n",
       "<style scoped>\n",
       "    .dataframe tbody tr th:only-of-type {\n",
       "        vertical-align: middle;\n",
       "    }\n",
       "\n",
       "    .dataframe tbody tr th {\n",
       "        vertical-align: top;\n",
       "    }\n",
       "\n",
       "    .dataframe thead th {\n",
       "        text-align: right;\n",
       "    }\n",
       "</style>\n",
       "<table border=\"1\" class=\"dataframe\">\n",
       "  <thead>\n",
       "    <tr style=\"text-align: right;\">\n",
       "      <th></th>\n",
       "      <th>purchase_date</th>\n",
       "      <th>item_name</th>\n",
       "      <th>item_price</th>\n",
       "      <th>customer_name</th>\n",
       "    </tr>\n",
       "  </thead>\n",
       "  <tbody>\n",
       "    <tr>\n",
       "      <th>0</th>\n",
       "      <td>2019-06-13 18:02</td>\n",
       "      <td>상품A</td>\n",
       "      <td>100.0</td>\n",
       "      <td>김가온</td>\n",
       "    </tr>\n",
       "    <tr>\n",
       "      <th>1</th>\n",
       "      <td>2019-07-13 13:05</td>\n",
       "      <td>상 품 S</td>\n",
       "      <td>NaN</td>\n",
       "      <td>김우찬</td>\n",
       "    </tr>\n",
       "    <tr>\n",
       "      <th>2</th>\n",
       "      <td>2019-05-11 19:42</td>\n",
       "      <td>상 품 a</td>\n",
       "      <td>NaN</td>\n",
       "      <td>김유찬</td>\n",
       "    </tr>\n",
       "    <tr>\n",
       "      <th>3</th>\n",
       "      <td>2019-02-12 23:40</td>\n",
       "      <td>상품Z</td>\n",
       "      <td>2600.0</td>\n",
       "      <td>김재현</td>\n",
       "    </tr>\n",
       "    <tr>\n",
       "      <th>4</th>\n",
       "      <td>2019-04-22 3:09</td>\n",
       "      <td>상품a</td>\n",
       "      <td>NaN</td>\n",
       "      <td>김강현</td>\n",
       "    </tr>\n",
       "  </tbody>\n",
       "</table>\n",
       "</div>"
      ],
      "text/plain": [
       "      purchase_date item_name  item_price customer_name\n",
       "0  2019-06-13 18:02       상품A       100.0           김가온\n",
       "1  2019-07-13 13:05     상 품 S         NaN           김우찬\n",
       "2  2019-05-11 19:42     상 품 a         NaN           김유찬\n",
       "3  2019-02-12 23:40       상품Z      2600.0           김재현\n",
       "4   2019-04-22 3:09       상품a         NaN           김강현"
      ]
     },
     "execution_count": 143,
     "metadata": {},
     "output_type": "execute_result"
    }
   ],
   "source": [
    "#파일로드\n",
    "uriage = pd.read_csv('../../csv/uriage.csv')\n",
    "uriage.head()"
   ]
  },
  {
   "cell_type": "code",
   "execution_count": 144,
   "metadata": {},
   "outputs": [
    {
     "data": {
      "text/plain": [
       "purchase_date      0\n",
       "item_name          0\n",
       "item_price       387\n",
       "customer_name      0\n",
       "dtype: int64"
      ]
     },
     "execution_count": 144,
     "metadata": {},
     "output_type": "execute_result"
    }
   ],
   "source": [
    "#결측치 확인\n",
    "uriage.isna().sum()"
   ]
  },
  {
   "cell_type": "code",
   "execution_count": 145,
   "metadata": {},
   "outputs": [
    {
     "name": "stdout",
     "output_type": "stream",
     "text": [
      "<class 'pandas.core.frame.DataFrame'>\n",
      "RangeIndex: 2999 entries, 0 to 2998\n",
      "Data columns (total 4 columns):\n",
      " #   Column         Non-Null Count  Dtype  \n",
      "---  ------         --------------  -----  \n",
      " 0   purchase_date  2999 non-null   object \n",
      " 1   item_name      2999 non-null   object \n",
      " 2   item_price     2612 non-null   float64\n",
      " 3   customer_name  2999 non-null   object \n",
      "dtypes: float64(1), object(3)\n",
      "memory usage: 93.8+ KB\n"
     ]
    }
   ],
   "source": [
    "uriage.info() #object: 문자열"
   ]
  },
  {
   "cell_type": "code",
   "execution_count": 146,
   "metadata": {},
   "outputs": [],
   "source": [
    "#1. purchafe_date 컬럼의 데이터 타입을 문자열-> 시계열 데이터로 변경\n",
    "#2. item_name의 데이터를 모두 대문자로 변경\n",
    "#3. item_name의 데이터에서 공백을 삭제\n",
    "#4. item_name을 기준으로 오름차순\n",
    "#5. 인덱스 초기화(기존 인덱스 삭제)"
   ]
  },
  {
   "cell_type": "code",
   "execution_count": 147,
   "metadata": {},
   "outputs": [
    {
     "data": {
      "text/plain": [
       "0      2019-06-13 18:02:00\n",
       "1      2019-07-13 13:05:00\n",
       "2      2019-05-11 19:42:00\n",
       "3      2019-02-12 23:40:00\n",
       "4      2019-04-22 03:09:00\n",
       "               ...        \n",
       "2994   2019-02-15 02:56:00\n",
       "2995   2019-06-22 04:03:00\n",
       "2996   2019-03-29 11:14:00\n",
       "2997   2019-07-14 12:56:00\n",
       "2998   2019-07-21 00:31:00\n",
       "Name: purchase_date, Length: 2999, dtype: datetime64[ns]"
      ]
     },
     "execution_count": 147,
     "metadata": {},
     "output_type": "execute_result"
    }
   ],
   "source": [
    "#1. 시계열 데이터로 변경\n",
    "#pd.to_datetime(변경할테이터, format = '데이터의 형태') \n",
    "# %y: 00년, %Y: 0000년\n",
    "#format은 데이터 그대로 적어줘야함\n",
    "pd.to_datetime(uriage['purchase_date'], format = '%Y-%m-%d %H:%M')"
   ]
  },
  {
   "cell_type": "code",
   "execution_count": 148,
   "metadata": {},
   "outputs": [],
   "source": [
    "uriage['purchase_date'] = pd.to_datetime(uriage['purchase_date'], format = '%Y-%m-%d %H:%M')"
   ]
  },
  {
   "cell_type": "code",
   "execution_count": 149,
   "metadata": {},
   "outputs": [
    {
     "name": "stdout",
     "output_type": "stream",
     "text": [
      "<class 'pandas.core.frame.DataFrame'>\n",
      "RangeIndex: 2999 entries, 0 to 2998\n",
      "Data columns (total 4 columns):\n",
      " #   Column         Non-Null Count  Dtype         \n",
      "---  ------         --------------  -----         \n",
      " 0   purchase_date  2999 non-null   datetime64[ns]\n",
      " 1   item_name      2999 non-null   object        \n",
      " 2   item_price     2612 non-null   float64       \n",
      " 3   customer_name  2999 non-null   object        \n",
      "dtypes: datetime64[ns](1), float64(1), object(2)\n",
      "memory usage: 93.8+ KB\n"
     ]
    }
   ],
   "source": [
    "uriage.info()"
   ]
  },
  {
   "cell_type": "code",
   "execution_count": 150,
   "metadata": {},
   "outputs": [
    {
     "data": {
      "text/plain": [
       "0         상품A\n",
       "1       상 품 S\n",
       "2       상 품 A\n",
       "3         상품Z\n",
       "4         상품A\n",
       "        ...  \n",
       "2994      상품Y\n",
       "2995      상품M\n",
       "2996      상품Q\n",
       "2997      상품H\n",
       "2998      상품D\n",
       "Name: item_name, Length: 2999, dtype: object"
      ]
     },
     "execution_count": 150,
     "metadata": {},
     "output_type": "execute_result"
    }
   ],
   "source": [
    "#item_name 컬럼의 데이터를 대문자 변경#\n",
    "\n",
    "#방법1\n",
    "uriage['item_name'].str.upper() \n",
    "#str# 은 문자열로 하나하나 바꿔준다 문자를 숫자형식으로 인식하게\n",
    "\n",
    "#방법2 :apply() : 스리즈 형태의 테이터를 항목 하나하나씩 함수에 대입하여 출력 값을 스리지의 형태로 변경하여 출력\n",
    "# 일반 함수생성 #\n",
    "def change(x):\n",
    "    return x.upper()\n",
    "uriage['item_name'].apply(change)\n",
    "\n",
    "#방법3 :apply(lamda함수)\n",
    "uriage['item_name'].apply(lambda x : x.upper())"
   ]
  },
  {
   "cell_type": "code",
   "execution_count": 151,
   "metadata": {},
   "outputs": [
    {
     "data": {
      "text/plain": [
       "0       상품A\n",
       "1       상품S\n",
       "2       상품a\n",
       "3       상품Z\n",
       "4       상품a\n",
       "       ... \n",
       "2994    상품Y\n",
       "2995    상품M\n",
       "2996    상품Q\n",
       "2997    상품H\n",
       "2998    상품D\n",
       "Name: item_name, Length: 2999, dtype: object"
      ]
     },
     "execution_count": 151,
     "metadata": {},
     "output_type": "execute_result"
    }
   ],
   "source": [
    "#공백제거\n",
    "#문자열 사이의 공백 제거 replace(\" \", \"\") -> 문자열 함수 str을 앞에 적어 숫자열로 바꿔줌\n",
    "\n",
    "#방1 \n",
    "uriage['item_name'].str.replace(\" \", \"\")\n",
    "\n",
    "#방2\n",
    "def change(x):\n",
    "    return x.replace(\" \",\"\")\n",
    "uriage['item_name'].apply(change)\n",
    "\n",
    "#방3\n",
    "uriage['item_name'].apply(lambda x : x.replace(\" \", \"\"))"
   ]
  },
  {
   "cell_type": "code",
   "execution_count": 152,
   "metadata": {},
   "outputs": [],
   "source": [
    "#대문자 변경, 공백제거 2개의 행동을 한번에 작업\n",
    "#방법1 uriage['item_name'].str.upper().str.replace(\" \". \"\")\n",
    "\n",
    "#방법2 \n",
    "def change(x):\n",
    "    #result = x.upper().replace(\" \",\"\")\n",
    "    result = x.upper()\n",
    "    result = result.replace(\" \", \"\")\n",
    "    return result\n",
    "uriage['item_name'].apply(change)\n",
    "\n",
    "#방법3\n",
    "uriage['item_name'] = uriage['item_name'].apply(lambda x : x.upper().replace(\" \", \"\"))"
   ]
  },
  {
   "cell_type": "code",
   "execution_count": 153,
   "metadata": {},
   "outputs": [],
   "source": [
    "#4. item_name을 기준으로 오름차순\n",
    "uriage.sort_values('item_name', inplace=True)\n",
    "\n",
    "#5. 인덱스 초기화(기존 인덱스 삭제)\n",
    "uriage.reset_index(drop=True, inplace=True) \n",
    "#기존에 있는 인덱스를 삭제한다#"
   ]
  },
  {
   "cell_type": "code",
   "execution_count": 154,
   "metadata": {},
   "outputs": [],
   "source": [
    "## 결측치에 데이터를 치환\n",
    "#1. 상품A의 item_price 의 값은 결측치 중 상품A이면 상품 A의 평균 값을 치환\n",
    "#2. 나머지 상품들도 같은 방법으로 치환"
   ]
  },
  {
   "cell_type": "code",
   "execution_count": 155,
   "metadata": {},
   "outputs": [],
   "source": [
    "#1. item_name이 상품A인 경우면 추출\n",
    "fig = uriage['item_name'] == '상품A'"
   ]
  },
  {
   "cell_type": "code",
   "execution_count": 156,
   "metadata": {},
   "outputs": [],
   "source": [
    "#상품A이고 item_price 가 결측치인 경우먼 True\n",
    " \n",
    "fig2 = uriage.loc[fig, 'item_price'].isna()"
   ]
  },
  {
   "cell_type": "code",
   "execution_count": 157,
   "metadata": {},
   "outputs": [
    {
     "data": {
      "text/html": [
       "<div>\n",
       "<style scoped>\n",
       "    .dataframe tbody tr th:only-of-type {\n",
       "        vertical-align: middle;\n",
       "    }\n",
       "\n",
       "    .dataframe tbody tr th {\n",
       "        vertical-align: top;\n",
       "    }\n",
       "\n",
       "    .dataframe thead th {\n",
       "        text-align: right;\n",
       "    }\n",
       "</style>\n",
       "<table border=\"1\" class=\"dataframe\">\n",
       "  <thead>\n",
       "    <tr style=\"text-align: right;\">\n",
       "      <th></th>\n",
       "      <th>purchase_date</th>\n",
       "      <th>item_name</th>\n",
       "      <th>item_price</th>\n",
       "      <th>customer_name</th>\n",
       "    </tr>\n",
       "  </thead>\n",
       "  <tbody>\n",
       "    <tr>\n",
       "      <th>0</th>\n",
       "      <td>2019-06-13 18:02:00</td>\n",
       "      <td>상품A</td>\n",
       "      <td>100.0</td>\n",
       "      <td>김가온</td>\n",
       "    </tr>\n",
       "    <tr>\n",
       "      <th>1</th>\n",
       "      <td>2019-05-19 20:22:00</td>\n",
       "      <td>상품A</td>\n",
       "      <td>100.0</td>\n",
       "      <td>김시훈</td>\n",
       "    </tr>\n",
       "    <tr>\n",
       "      <th>2</th>\n",
       "      <td>2019-06-25 08:13:00</td>\n",
       "      <td>상품A</td>\n",
       "      <td>100.0</td>\n",
       "      <td>김유진</td>\n",
       "    </tr>\n",
       "    <tr>\n",
       "      <th>3</th>\n",
       "      <td>2019-06-13 16:03:00</td>\n",
       "      <td>상품A</td>\n",
       "      <td>100.0</td>\n",
       "      <td>김건희</td>\n",
       "    </tr>\n",
       "    <tr>\n",
       "      <th>4</th>\n",
       "      <td>2019-02-10 00:28:00</td>\n",
       "      <td>상품A</td>\n",
       "      <td>100.0</td>\n",
       "      <td>김하랑</td>\n",
       "    </tr>\n",
       "    <tr>\n",
       "      <th>...</th>\n",
       "      <td>...</td>\n",
       "      <td>...</td>\n",
       "      <td>...</td>\n",
       "      <td>...</td>\n",
       "    </tr>\n",
       "    <tr>\n",
       "      <th>134</th>\n",
       "      <td>2019-01-13 11:50:00</td>\n",
       "      <td>상품A</td>\n",
       "      <td>100.0</td>\n",
       "      <td>김시율</td>\n",
       "    </tr>\n",
       "    <tr>\n",
       "      <th>135</th>\n",
       "      <td>2019-03-09 14:20:00</td>\n",
       "      <td>상품A</td>\n",
       "      <td>NaN</td>\n",
       "      <td>김우찬</td>\n",
       "    </tr>\n",
       "    <tr>\n",
       "      <th>136</th>\n",
       "      <td>2019-05-11 19:42:00</td>\n",
       "      <td>상품A</td>\n",
       "      <td>NaN</td>\n",
       "      <td>김유찬</td>\n",
       "    </tr>\n",
       "    <tr>\n",
       "      <th>137</th>\n",
       "      <td>2019-04-25 17:15:00</td>\n",
       "      <td>상품A</td>\n",
       "      <td>100.0</td>\n",
       "      <td>김강현</td>\n",
       "    </tr>\n",
       "    <tr>\n",
       "      <th>138</th>\n",
       "      <td>2019-05-20 14:05:00</td>\n",
       "      <td>상품A</td>\n",
       "      <td>100.0</td>\n",
       "      <td>김지안</td>\n",
       "    </tr>\n",
       "  </tbody>\n",
       "</table>\n",
       "<p>139 rows × 4 columns</p>\n",
       "</div>"
      ],
      "text/plain": [
       "          purchase_date item_name  item_price customer_name\n",
       "0   2019-06-13 18:02:00       상품A       100.0           김가온\n",
       "1   2019-05-19 20:22:00       상품A       100.0           김시훈\n",
       "2   2019-06-25 08:13:00       상품A       100.0           김유진\n",
       "3   2019-06-13 16:03:00       상품A       100.0           김건희\n",
       "4   2019-02-10 00:28:00       상품A       100.0           김하랑\n",
       "..                  ...       ...         ...           ...\n",
       "134 2019-01-13 11:50:00       상품A       100.0           김시율\n",
       "135 2019-03-09 14:20:00       상품A         NaN           김우찬\n",
       "136 2019-05-11 19:42:00       상품A         NaN           김유찬\n",
       "137 2019-04-25 17:15:00       상품A       100.0           김강현\n",
       "138 2019-05-20 14:05:00       상품A       100.0           김지안\n",
       "\n",
       "[139 rows x 4 columns]"
      ]
     },
     "execution_count": 157,
     "metadata": {},
     "output_type": "execute_result"
    }
   ],
   "source": [
    "uriage.loc[fig].loc[fig]"
   ]
  },
  {
   "cell_type": "code",
   "execution_count": 158,
   "metadata": {},
   "outputs": [],
   "source": [
    "## 조건식 2개 ##\n",
    "fig = uriage['item_name'] == '상품A'\n",
    "fig2 = uriage['item_name'].isna()\n"
   ]
  },
  {
   "cell_type": "code",
   "execution_count": 159,
   "metadata": {},
   "outputs": [
    {
     "data": {
      "text/html": [
       "<div>\n",
       "<style scoped>\n",
       "    .dataframe tbody tr th:only-of-type {\n",
       "        vertical-align: middle;\n",
       "    }\n",
       "\n",
       "    .dataframe tbody tr th {\n",
       "        vertical-align: top;\n",
       "    }\n",
       "\n",
       "    .dataframe thead th {\n",
       "        text-align: right;\n",
       "    }\n",
       "</style>\n",
       "<table border=\"1\" class=\"dataframe\">\n",
       "  <thead>\n",
       "    <tr style=\"text-align: right;\">\n",
       "      <th></th>\n",
       "      <th>purchase_date</th>\n",
       "      <th>item_name</th>\n",
       "      <th>item_price</th>\n",
       "      <th>customer_name</th>\n",
       "    </tr>\n",
       "  </thead>\n",
       "  <tbody>\n",
       "    <tr>\n",
       "      <th>0</th>\n",
       "      <td>2019-06-13 18:02:00</td>\n",
       "      <td>상품A</td>\n",
       "      <td>100.0</td>\n",
       "      <td>김가온</td>\n",
       "    </tr>\n",
       "    <tr>\n",
       "      <th>1</th>\n",
       "      <td>2019-05-19 20:22:00</td>\n",
       "      <td>상품A</td>\n",
       "      <td>100.0</td>\n",
       "      <td>김시훈</td>\n",
       "    </tr>\n",
       "    <tr>\n",
       "      <th>2</th>\n",
       "      <td>2019-06-25 08:13:00</td>\n",
       "      <td>상품A</td>\n",
       "      <td>100.0</td>\n",
       "      <td>김유진</td>\n",
       "    </tr>\n",
       "    <tr>\n",
       "      <th>3</th>\n",
       "      <td>2019-06-13 16:03:00</td>\n",
       "      <td>상품A</td>\n",
       "      <td>100.0</td>\n",
       "      <td>김건희</td>\n",
       "    </tr>\n",
       "    <tr>\n",
       "      <th>4</th>\n",
       "      <td>2019-02-10 00:28:00</td>\n",
       "      <td>상품A</td>\n",
       "      <td>100.0</td>\n",
       "      <td>김하랑</td>\n",
       "    </tr>\n",
       "    <tr>\n",
       "      <th>...</th>\n",
       "      <td>...</td>\n",
       "      <td>...</td>\n",
       "      <td>...</td>\n",
       "      <td>...</td>\n",
       "    </tr>\n",
       "    <tr>\n",
       "      <th>134</th>\n",
       "      <td>2019-01-13 11:50:00</td>\n",
       "      <td>상품A</td>\n",
       "      <td>100.0</td>\n",
       "      <td>김시율</td>\n",
       "    </tr>\n",
       "    <tr>\n",
       "      <th>135</th>\n",
       "      <td>2019-03-09 14:20:00</td>\n",
       "      <td>상품A</td>\n",
       "      <td>NaN</td>\n",
       "      <td>김우찬</td>\n",
       "    </tr>\n",
       "    <tr>\n",
       "      <th>136</th>\n",
       "      <td>2019-05-11 19:42:00</td>\n",
       "      <td>상품A</td>\n",
       "      <td>NaN</td>\n",
       "      <td>김유찬</td>\n",
       "    </tr>\n",
       "    <tr>\n",
       "      <th>137</th>\n",
       "      <td>2019-04-25 17:15:00</td>\n",
       "      <td>상품A</td>\n",
       "      <td>100.0</td>\n",
       "      <td>김강현</td>\n",
       "    </tr>\n",
       "    <tr>\n",
       "      <th>138</th>\n",
       "      <td>2019-05-20 14:05:00</td>\n",
       "      <td>상품A</td>\n",
       "      <td>100.0</td>\n",
       "      <td>김지안</td>\n",
       "    </tr>\n",
       "  </tbody>\n",
       "</table>\n",
       "<p>139 rows × 4 columns</p>\n",
       "</div>"
      ],
      "text/plain": [
       "          purchase_date item_name  item_price customer_name\n",
       "0   2019-06-13 18:02:00       상품A       100.0           김가온\n",
       "1   2019-05-19 20:22:00       상품A       100.0           김시훈\n",
       "2   2019-06-25 08:13:00       상품A       100.0           김유진\n",
       "3   2019-06-13 16:03:00       상품A       100.0           김건희\n",
       "4   2019-02-10 00:28:00       상품A       100.0           김하랑\n",
       "..                  ...       ...         ...           ...\n",
       "134 2019-01-13 11:50:00       상품A       100.0           김시율\n",
       "135 2019-03-09 14:20:00       상품A         NaN           김우찬\n",
       "136 2019-05-11 19:42:00       상품A         NaN           김유찬\n",
       "137 2019-04-25 17:15:00       상품A       100.0           김강현\n",
       "138 2019-05-20 14:05:00       상품A       100.0           김지안\n",
       "\n",
       "[139 rows x 4 columns]"
      ]
     },
     "execution_count": 159,
     "metadata": {},
     "output_type": "execute_result"
    }
   ],
   "source": [
    "uriage.loc[fig & ~fig2] #~ 은 반대의 경우를 구하고 싶을때#"
   ]
  },
  {
   "cell_type": "code",
   "execution_count": 160,
   "metadata": {},
   "outputs": [
    {
     "data": {
      "text/plain": [
       "100.0"
      ]
     },
     "execution_count": 160,
     "metadata": {},
     "output_type": "execute_result"
    }
   ],
   "source": [
    "##상품A인 경우 & 결측치가 아닌 경우에 item_price의 평균값##\n",
    "a_price = uriage.loc[fig & ~fig2, 'item_price'].mean()\n",
    "a_price"
   ]
  },
  {
   "cell_type": "code",
   "execution_count": 161,
   "metadata": {},
   "outputs": [
    {
     "data": {
      "text/html": [
       "<div>\n",
       "<style scoped>\n",
       "    .dataframe tbody tr th:only-of-type {\n",
       "        vertical-align: middle;\n",
       "    }\n",
       "\n",
       "    .dataframe tbody tr th {\n",
       "        vertical-align: top;\n",
       "    }\n",
       "\n",
       "    .dataframe thead th {\n",
       "        text-align: right;\n",
       "    }\n",
       "</style>\n",
       "<table border=\"1\" class=\"dataframe\">\n",
       "  <thead>\n",
       "    <tr style=\"text-align: right;\">\n",
       "      <th></th>\n",
       "      <th>purchase_date</th>\n",
       "      <th>item_name</th>\n",
       "      <th>item_price</th>\n",
       "      <th>customer_name</th>\n",
       "    </tr>\n",
       "  </thead>\n",
       "  <tbody>\n",
       "  </tbody>\n",
       "</table>\n",
       "</div>"
      ],
      "text/plain": [
       "Empty DataFrame\n",
       "Columns: [purchase_date, item_name, item_price, customer_name]\n",
       "Index: []"
      ]
     },
     "execution_count": 161,
     "metadata": {},
     "output_type": "execute_result"
    }
   ],
   "source": [
    "##상품이A이고 item_price 가 결측치인 값에 치환##\n",
    "\n",
    "uriage.loc[fig & fig2].fillna(a_price)"
   ]
  },
  {
   "cell_type": "code",
   "execution_count": 162,
   "metadata": {},
   "outputs": [
    {
     "data": {
      "text/plain": [
       "item_name\n",
       "상품S    140\n",
       "상품A    139\n",
       "상품R    136\n",
       "상품P    135\n",
       "상품V    134\n",
       "상품C    133\n",
       "상품F    126\n",
       "상품D    125\n",
       "상품Q    125\n",
       "상품O    124\n",
       "상품W    121\n",
       "상품N    119\n",
       "상품T    117\n",
       "상품J    116\n",
       "상품X    116\n",
       "상품I    114\n",
       "상품M    113\n",
       "상품B    113\n",
       "상품L    110\n",
       "상품G    110\n",
       "상품K    109\n",
       "상품H    109\n",
       "상품U    107\n",
       "상품E    105\n",
       "상품Y    102\n",
       "상품Z      1\n",
       "dtype: int64"
      ]
     },
     "execution_count": 162,
     "metadata": {},
     "output_type": "execute_result"
    }
   ],
   "source": [
    "uriage.value_counts('item_name')"
   ]
  },
  {
   "cell_type": "code",
   "execution_count": 163,
   "metadata": {},
   "outputs": [
    {
     "data": {
      "text/plain": [
       "Index(['상품S', '상품A', '상품R', '상품P', '상품V', '상품C', '상품F', '상품D', '상품Q', '상품O',\n",
       "       '상품W', '상품N', '상품T', '상품J', '상품X', '상품I', '상품M', '상품B', '상품L', '상품G',\n",
       "       '상품K', '상품H', '상품U', '상품E', '상품Y', '상품Z'],\n",
       "      dtype='object', name='item_name')"
      ]
     },
     "execution_count": 163,
     "metadata": {},
     "output_type": "execute_result"
    }
   ],
   "source": [
    "uriage.value_counts('item_name').index"
   ]
  },
  {
   "cell_type": "code",
   "execution_count": 164,
   "metadata": {},
   "outputs": [],
   "source": [
    "name_list = uriage['item_name'].unique()"
   ]
  },
  {
   "cell_type": "code",
   "execution_count": 165,
   "metadata": {},
   "outputs": [],
   "source": [
    "#반복문을 이용하여 모든 결측치 치환\n",
    "uriage2 = uriage.copy()"
   ]
  },
  {
   "cell_type": "code",
   "execution_count": 166,
   "metadata": {},
   "outputs": [],
   "source": [
    "for i in name_list:\n",
    "    ## 조건식 생성 ##\n",
    "    fig = uriage['item_name'] == i\n",
    "    fig2 = uriage['item_price'].isna()\n",
    "\n",
    "    ## fig와 fig2의 조건식이 모두 참일때의 item_price 평균 값\n",
    "    mean_price = uriage.loc[fig & ~fig2, 'item_price'].mean()\n",
    "    ## fig와 fig2가 모두 참인경우 item_price 에 mean_price의 값을 대체\n",
    "    uriage.loc[fig & fig2, 'item_price'] = mean_price"
   ]
  },
  {
   "cell_type": "code",
   "execution_count": 167,
   "metadata": {},
   "outputs": [
    {
     "data": {
      "text/plain": [
       "purchase_date    0\n",
       "item_name        0\n",
       "item_price       0\n",
       "customer_name    0\n",
       "dtype: int64"
      ]
     },
     "execution_count": 167,
     "metadata": {},
     "output_type": "execute_result"
    }
   ],
   "source": [
    "uriage.isna().sum()"
   ]
  },
  {
   "cell_type": "code",
   "execution_count": 172,
   "metadata": {},
   "outputs": [],
   "source": [
    "def change(df,x):\n",
    "#조건식 생성#\n",
    "    fig = df['item_name'] == x\n",
    "    fig2 = df['item_price'].isna()\n",
    "\n",
    "#fig그리고  ~fig2인 경우 item_price의 평균\n",
    "    mean_price = df.loc[fig & ~fig2, 'item_price'].mean()\n",
    "#평균값을 결측치에 대체#\n",
    "    df.loc[fig & fig2, 'item_price'] = mean_price"
   ]
  },
  {
   "cell_type": "code",
   "execution_count": 169,
   "metadata": {},
   "outputs": [
    {
     "data": {
      "text/plain": [
       "purchase_date      0\n",
       "item_name          0\n",
       "item_price       387\n",
       "customer_name      0\n",
       "dtype: int64"
      ]
     },
     "execution_count": 169,
     "metadata": {},
     "output_type": "execute_result"
    }
   ],
   "source": [
    "uriage2.isna().sum()"
   ]
  },
  {
   "cell_type": "code",
   "execution_count": 173,
   "metadata": {},
   "outputs": [],
   "source": [
    "for i in name_list:\n",
    "    change(uriage2, i)\n",
    "    "
   ]
  },
  {
   "cell_type": "code",
   "execution_count": 174,
   "metadata": {},
   "outputs": [
    {
     "data": {
      "text/plain": [
       "purchase_date    0\n",
       "item_name        0\n",
       "item_price       0\n",
       "customer_name    0\n",
       "dtype: int64"
      ]
     },
     "execution_count": 174,
     "metadata": {},
     "output_type": "execute_result"
    }
   ],
   "source": [
    "uriage2.isna().sum()"
   ]
  },
  {
   "cell_type": "code",
   "execution_count": 175,
   "metadata": {},
   "outputs": [
    {
     "data": {
      "text/html": [
       "<div>\n",
       "<style scoped>\n",
       "    .dataframe tbody tr th:only-of-type {\n",
       "        vertical-align: middle;\n",
       "    }\n",
       "\n",
       "    .dataframe tbody tr th {\n",
       "        vertical-align: top;\n",
       "    }\n",
       "\n",
       "    .dataframe thead th {\n",
       "        text-align: right;\n",
       "    }\n",
       "</style>\n",
       "<table border=\"1\" class=\"dataframe\">\n",
       "  <thead>\n",
       "    <tr style=\"text-align: right;\">\n",
       "      <th></th>\n",
       "      <th>purchase_date</th>\n",
       "      <th>item_name</th>\n",
       "      <th>item_price</th>\n",
       "      <th>customer_name</th>\n",
       "    </tr>\n",
       "  </thead>\n",
       "  <tbody>\n",
       "    <tr>\n",
       "      <th>139</th>\n",
       "      <td>2019-06-07 00:03:00</td>\n",
       "      <td>상품B</td>\n",
       "      <td>200.0</td>\n",
       "      <td>김재희</td>\n",
       "    </tr>\n",
       "    <tr>\n",
       "      <th>140</th>\n",
       "      <td>2019-03-15 06:06:00</td>\n",
       "      <td>상품B</td>\n",
       "      <td>200.0</td>\n",
       "      <td>김서윤</td>\n",
       "    </tr>\n",
       "    <tr>\n",
       "      <th>141</th>\n",
       "      <td>2019-06-25 03:12:00</td>\n",
       "      <td>상품B</td>\n",
       "      <td>200.0</td>\n",
       "      <td>김규민</td>\n",
       "    </tr>\n",
       "    <tr>\n",
       "      <th>142</th>\n",
       "      <td>2019-04-18 16:44:00</td>\n",
       "      <td>상품B</td>\n",
       "      <td>200.0</td>\n",
       "      <td>김유빈</td>\n",
       "    </tr>\n",
       "    <tr>\n",
       "      <th>143</th>\n",
       "      <td>2019-07-27 09:00:00</td>\n",
       "      <td>상품B</td>\n",
       "      <td>200.0</td>\n",
       "      <td>김현수</td>\n",
       "    </tr>\n",
       "    <tr>\n",
       "      <th>...</th>\n",
       "      <td>...</td>\n",
       "      <td>...</td>\n",
       "      <td>...</td>\n",
       "      <td>...</td>\n",
       "    </tr>\n",
       "    <tr>\n",
       "      <th>247</th>\n",
       "      <td>2019-02-17 01:46:00</td>\n",
       "      <td>상품B</td>\n",
       "      <td>200.0</td>\n",
       "      <td>김지완</td>\n",
       "    </tr>\n",
       "    <tr>\n",
       "      <th>248</th>\n",
       "      <td>2019-05-21 11:17:00</td>\n",
       "      <td>상품B</td>\n",
       "      <td>200.0</td>\n",
       "      <td>김태우</td>\n",
       "    </tr>\n",
       "    <tr>\n",
       "      <th>249</th>\n",
       "      <td>2019-07-02 07:39:00</td>\n",
       "      <td>상품B</td>\n",
       "      <td>200.0</td>\n",
       "      <td>김정민</td>\n",
       "    </tr>\n",
       "    <tr>\n",
       "      <th>250</th>\n",
       "      <td>2019-07-09 15:27:00</td>\n",
       "      <td>상품B</td>\n",
       "      <td>200.0</td>\n",
       "      <td>김성민</td>\n",
       "    </tr>\n",
       "    <tr>\n",
       "      <th>251</th>\n",
       "      <td>2019-01-20 19:05:00</td>\n",
       "      <td>상품B</td>\n",
       "      <td>200.0</td>\n",
       "      <td>김준호</td>\n",
       "    </tr>\n",
       "  </tbody>\n",
       "</table>\n",
       "<p>113 rows × 4 columns</p>\n",
       "</div>"
      ],
      "text/plain": [
       "          purchase_date item_name  item_price customer_name\n",
       "139 2019-06-07 00:03:00       상품B       200.0           김재희\n",
       "140 2019-03-15 06:06:00       상품B       200.0           김서윤\n",
       "141 2019-06-25 03:12:00       상품B       200.0           김규민\n",
       "142 2019-04-18 16:44:00       상품B       200.0           김유빈\n",
       "143 2019-07-27 09:00:00       상품B       200.0           김현수\n",
       "..                  ...       ...         ...           ...\n",
       "247 2019-02-17 01:46:00       상품B       200.0           김지완\n",
       "248 2019-05-21 11:17:00       상품B       200.0           김태우\n",
       "249 2019-07-02 07:39:00       상품B       200.0           김정민\n",
       "250 2019-07-09 15:27:00       상품B       200.0           김성민\n",
       "251 2019-01-20 19:05:00       상품B       200.0           김준호\n",
       "\n",
       "[113 rows x 4 columns]"
      ]
     },
     "execution_count": 175,
     "metadata": {},
     "output_type": "execute_result"
    }
   ],
   "source": [
    "#query# #loc와 똑같음#\n",
    "uriage.query(\"item_name == '상품B'\")"
   ]
  },
  {
   "cell_type": "code",
   "execution_count": null,
   "metadata": {},
   "outputs": [],
   "source": []
  }
 ],
 "metadata": {
  "kernelspec": {
   "display_name": "Python 3",
   "language": "python",
   "name": "python3"
  },
  "language_info": {
   "codemirror_mode": {
    "name": "ipython",
    "version": 3
   },
   "file_extension": ".py",
   "mimetype": "text/x-python",
   "name": "python",
   "nbconvert_exporter": "python",
   "pygments_lexer": "ipython3",
   "version": "3.11.2"
  },
  "orig_nbformat": 4,
  "vscode": {
   "interpreter": {
    "hash": "a0ccebdd928ff8b1cacc3966d27986a3d3cb671a748452518fce4f1d921b7395"
   }
  }
 },
 "nbformat": 4,
 "nbformat_minor": 2
}
