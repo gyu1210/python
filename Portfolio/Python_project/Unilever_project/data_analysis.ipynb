{
 "cells": [
  {
   "cell_type": "code",
   "execution_count": 1,
   "metadata": {},
   "outputs": [],
   "source": [
    "import pandas as pd"
   ]
  },
  {
   "cell_type": "code",
   "execution_count": 5,
   "metadata": {},
   "outputs": [],
   "source": [
    "specification = pd.read_csv(\"specification.csv\",sep = ';')\n",
    "generalRecipe = pd.read_csv(\"generalRecipe.csv\",sep = ';')\n",
    "plantRecipe = pd.read_csv(\"plantRecipe.csv\",sep = ';')"
   ]
  },
  {
   "cell_type": "code",
   "execution_count": 26,
   "metadata": {},
   "outputs": [
    {
     "data": {
      "text/html": [
       "<div>\n",
       "<style scoped>\n",
       "    .dataframe tbody tr th:only-of-type {\n",
       "        vertical-align: middle;\n",
       "    }\n",
       "\n",
       "    .dataframe tbody tr th {\n",
       "        vertical-align: top;\n",
       "    }\n",
       "\n",
       "    .dataframe thead th {\n",
       "        text-align: right;\n",
       "    }\n",
       "</style>\n",
       "<table border=\"1\" class=\"dataframe\">\n",
       "  <thead>\n",
       "    <tr style=\"text-align: right;\">\n",
       "      <th></th>\n",
       "      <th>ID</th>\n",
       "      <th>STATUS</th>\n",
       "      <th>MATERIAL</th>\n",
       "      <th>SPECIFICATION</th>\n",
       "      <th>QUANTITY</th>\n",
       "      <th>RECIPE</th>\n",
       "      <th>SPECIFICATION CODE</th>\n",
       "    </tr>\n",
       "  </thead>\n",
       "  <tbody>\n",
       "    <tr>\n",
       "      <th>0</th>\n",
       "      <td>5</td>\n",
       "      <td>Ready for production</td>\n",
       "      <td>8923537</td>\n",
       "      <td>100000002021</td>\n",
       "      <td>56</td>\n",
       "      <td>200000267201/002/000</td>\n",
       "      <td>200000267201</td>\n",
       "    </tr>\n",
       "    <tr>\n",
       "      <th>1</th>\n",
       "      <td>3</td>\n",
       "      <td>Ready for production</td>\n",
       "      <td>8789406</td>\n",
       "      <td>100000006406</td>\n",
       "      <td>33</td>\n",
       "      <td>200000267228/001/001</td>\n",
       "      <td>200000267228</td>\n",
       "    </tr>\n",
       "    <tr>\n",
       "      <th>2</th>\n",
       "      <td>3</td>\n",
       "      <td>Ready for production</td>\n",
       "      <td>8792659</td>\n",
       "      <td>100000083153</td>\n",
       "      <td>2</td>\n",
       "      <td>200000267228/001/001</td>\n",
       "      <td>200000267228</td>\n",
       "    </tr>\n",
       "    <tr>\n",
       "      <th>3</th>\n",
       "      <td>6</td>\n",
       "      <td>Ready for production</td>\n",
       "      <td>8880728</td>\n",
       "      <td>100000002021</td>\n",
       "      <td>13</td>\n",
       "      <td>200000267197/005/001</td>\n",
       "      <td>200000267197</td>\n",
       "    </tr>\n",
       "    <tr>\n",
       "      <th>4</th>\n",
       "      <td>8</td>\n",
       "      <td>Production dev</td>\n",
       "      <td>8895373</td>\n",
       "      <td>100000002021</td>\n",
       "      <td>443</td>\n",
       "      <td>200000267140/000/001</td>\n",
       "      <td>200000267140</td>\n",
       "    </tr>\n",
       "  </tbody>\n",
       "</table>\n",
       "</div>"
      ],
      "text/plain": [
       "   ID                STATUS  MATERIAL  SPECIFICATION  QUANTITY  \\\n",
       "0   5  Ready for production   8923537   100000002021        56   \n",
       "1   3  Ready for production   8789406   100000006406        33   \n",
       "2   3  Ready for production   8792659   100000083153         2   \n",
       "3   6  Ready for production   8880728   100000002021        13   \n",
       "4   8        Production dev   8895373   100000002021       443   \n",
       "\n",
       "                 RECIPE  SPECIFICATION CODE  \n",
       "0  200000267201/002/000        200000267201  \n",
       "1  200000267228/001/001        200000267228  \n",
       "2  200000267228/001/001        200000267228  \n",
       "3  200000267197/005/001        200000267197  \n",
       "4  200000267140/000/001        200000267140  "
      ]
     },
     "execution_count": 26,
     "metadata": {},
     "output_type": "execute_result"
    }
   ],
   "source": [
    "plantRecipe[\"SPECIFICATION CODE\"] = plantRecipe['RECIPE'].str.split('/').str.get(0)\n",
    "plantRecipe[\"SPECIFICATION CODE\"] = pd.to_numeric(plantRecipe[\"SPECIFICATION CODE\"])\n",
    "plantRecipe.head(5)"
   ]
  },
  {
   "cell_type": "code",
   "execution_count": 25,
   "metadata": {},
   "outputs": [
    {
     "data": {
      "text/html": [
       "<div>\n",
       "<style scoped>\n",
       "    .dataframe tbody tr th:only-of-type {\n",
       "        vertical-align: middle;\n",
       "    }\n",
       "\n",
       "    .dataframe tbody tr th {\n",
       "        vertical-align: top;\n",
       "    }\n",
       "\n",
       "    .dataframe thead th {\n",
       "        text-align: right;\n",
       "    }\n",
       "</style>\n",
       "<table border=\"1\" class=\"dataframe\">\n",
       "  <thead>\n",
       "    <tr style=\"text-align: right;\">\n",
       "      <th></th>\n",
       "      <th>ID</th>\n",
       "      <th>SOURCING UNIT</th>\n",
       "      <th>VALID FROM DATE</th>\n",
       "      <th>RECIPE</th>\n",
       "      <th>SPECIFICATION CODE</th>\n",
       "    </tr>\n",
       "  </thead>\n",
       "  <tbody>\n",
       "    <tr>\n",
       "      <th>0</th>\n",
       "      <td>3</td>\n",
       "      <td>NEW YORK</td>\n",
       "      <td>31.08.2022</td>\n",
       "      <td>200000267228/002/001</td>\n",
       "      <td>200000267228</td>\n",
       "    </tr>\n",
       "    <tr>\n",
       "      <th>1</th>\n",
       "      <td>5</td>\n",
       "      <td>AMSTERDAM</td>\n",
       "      <td>17.08.2022</td>\n",
       "      <td>200000267201/004/001</td>\n",
       "      <td>200000267201</td>\n",
       "    </tr>\n",
       "    <tr>\n",
       "      <th>2</th>\n",
       "      <td>7</td>\n",
       "      <td>ARNHEM</td>\n",
       "      <td>11.12.2022</td>\n",
       "      <td>200000267156/000/000</td>\n",
       "      <td>200000267156</td>\n",
       "    </tr>\n",
       "    <tr>\n",
       "      <th>3</th>\n",
       "      <td>9</td>\n",
       "      <td>LONDON</td>\n",
       "      <td>01.12.2022</td>\n",
       "      <td>200000267133/000/003</td>\n",
       "      <td>200000267133</td>\n",
       "    </tr>\n",
       "    <tr>\n",
       "      <th>4</th>\n",
       "      <td>1</td>\n",
       "      <td>LONDON</td>\n",
       "      <td>01.12.2022</td>\n",
       "      <td>200000267281/003/004</td>\n",
       "      <td>200000267281</td>\n",
       "    </tr>\n",
       "  </tbody>\n",
       "</table>\n",
       "</div>"
      ],
      "text/plain": [
       "   ID SOURCING UNIT VALID FROM DATE                RECIPE  SPECIFICATION CODE\n",
       "0   3      NEW YORK      31.08.2022  200000267228/002/001        200000267228\n",
       "1   5     AMSTERDAM      17.08.2022  200000267201/004/001        200000267201\n",
       "2   7        ARNHEM      11.12.2022  200000267156/000/000        200000267156\n",
       "3   9        LONDON      01.12.2022  200000267133/000/003        200000267133\n",
       "4   1        LONDON      01.12.2022  200000267281/003/004        200000267281"
      ]
     },
     "execution_count": 25,
     "metadata": {},
     "output_type": "execute_result"
    }
   ],
   "source": [
    "generalRecipe[\"SPECIFICATION CODE\"] = generalRecipe['RECIPE'].str.split('/').str.get(0)\n",
    "generalRecipe[\"SPECIFICATION CODE\"] = pd.to_numeric(generalRecipe[\"SPECIFICATION CODE\"])\n",
    "generalRecipe"
   ]
  },
  {
   "cell_type": "code",
   "execution_count": 42,
   "metadata": {},
   "outputs": [
    {
     "data": {
      "text/html": [
       "<div>\n",
       "<style scoped>\n",
       "    .dataframe tbody tr th:only-of-type {\n",
       "        vertical-align: middle;\n",
       "    }\n",
       "\n",
       "    .dataframe tbody tr th {\n",
       "        vertical-align: top;\n",
       "    }\n",
       "\n",
       "    .dataframe thead th {\n",
       "        text-align: right;\n",
       "    }\n",
       "</style>\n",
       "<table border=\"1\" class=\"dataframe\">\n",
       "  <thead>\n",
       "    <tr style=\"text-align: right;\">\n",
       "      <th></th>\n",
       "      <th>ID</th>\n",
       "      <th>STATUS</th>\n",
       "      <th>CHANGED BY</th>\n",
       "      <th>SPECIFICATION CODE</th>\n",
       "      <th>VALID FROM</th>\n",
       "    </tr>\n",
       "  </thead>\n",
       "  <tbody>\n",
       "    <tr>\n",
       "      <th>0</th>\n",
       "      <td>1</td>\n",
       "      <td>ZIP</td>\n",
       "      <td>USER1</td>\n",
       "      <td>200000267281</td>\n",
       "      <td>11.05.2019</td>\n",
       "    </tr>\n",
       "    <tr>\n",
       "      <th>1</th>\n",
       "      <td>2</td>\n",
       "      <td>ZIP</td>\n",
       "      <td>USER4</td>\n",
       "      <td>200000267248</td>\n",
       "      <td>31.01.2020</td>\n",
       "    </tr>\n",
       "    <tr>\n",
       "      <th>2</th>\n",
       "      <td>3</td>\n",
       "      <td>ZIR</td>\n",
       "      <td>USER4</td>\n",
       "      <td>200000267228</td>\n",
       "      <td>14.02.2021</td>\n",
       "    </tr>\n",
       "    <tr>\n",
       "      <th>3</th>\n",
       "      <td>4</td>\n",
       "      <td>ZIP</td>\n",
       "      <td>USER11</td>\n",
       "      <td>200000267207</td>\n",
       "      <td>15.04.2018</td>\n",
       "    </tr>\n",
       "    <tr>\n",
       "      <th>4</th>\n",
       "      <td>5</td>\n",
       "      <td>ZIR</td>\n",
       "      <td>USER3</td>\n",
       "      <td>200000267201</td>\n",
       "      <td>07.05.2022</td>\n",
       "    </tr>\n",
       "    <tr>\n",
       "      <th>5</th>\n",
       "      <td>6</td>\n",
       "      <td>ZRE</td>\n",
       "      <td>USER1</td>\n",
       "      <td>200000267197</td>\n",
       "      <td>14.05.2022</td>\n",
       "    </tr>\n",
       "    <tr>\n",
       "      <th>6</th>\n",
       "      <td>7</td>\n",
       "      <td>ZRE</td>\n",
       "      <td>USER4</td>\n",
       "      <td>200000267156</td>\n",
       "      <td>19.02.2021</td>\n",
       "    </tr>\n",
       "    <tr>\n",
       "      <th>7</th>\n",
       "      <td>8</td>\n",
       "      <td>ZOB</td>\n",
       "      <td>USER3</td>\n",
       "      <td>200000267140</td>\n",
       "      <td>03.01.2017</td>\n",
       "    </tr>\n",
       "    <tr>\n",
       "      <th>8</th>\n",
       "      <td>9</td>\n",
       "      <td>ZOB</td>\n",
       "      <td>USER1</td>\n",
       "      <td>200000267133</td>\n",
       "      <td>04.04.2022</td>\n",
       "    </tr>\n",
       "    <tr>\n",
       "      <th>9</th>\n",
       "      <td>10</td>\n",
       "      <td>ZOB</td>\n",
       "      <td>USER7</td>\n",
       "      <td>200000267129</td>\n",
       "      <td>08.09.2018</td>\n",
       "    </tr>\n",
       "  </tbody>\n",
       "</table>\n",
       "</div>"
      ],
      "text/plain": [
       "   ID STATUS CHANGED BY  SPECIFICATION CODE  VALID FROM\n",
       "0   1    ZIP      USER1        200000267281  11.05.2019\n",
       "1   2    ZIP      USER4        200000267248  31.01.2020\n",
       "2   3    ZIR      USER4        200000267228  14.02.2021\n",
       "3   4    ZIP     USER11        200000267207  15.04.2018\n",
       "4   5    ZIR      USER3        200000267201  07.05.2022\n",
       "5   6    ZRE      USER1        200000267197  14.05.2022\n",
       "6   7    ZRE      USER4        200000267156  19.02.2021\n",
       "7   8    ZOB      USER3        200000267140  03.01.2017\n",
       "8   9    ZOB      USER1        200000267133  04.04.2022\n",
       "9  10    ZOB      USER7        200000267129  08.09.2018"
      ]
     },
     "execution_count": 42,
     "metadata": {},
     "output_type": "execute_result"
    }
   ],
   "source": [
    "specification.head(10)"
   ]
  },
  {
   "cell_type": "code",
   "execution_count": 29,
   "metadata": {},
   "outputs": [
    {
     "data": {
      "text/html": [
       "<div>\n",
       "<style scoped>\n",
       "    .dataframe tbody tr th:only-of-type {\n",
       "        vertical-align: middle;\n",
       "    }\n",
       "\n",
       "    .dataframe tbody tr th {\n",
       "        vertical-align: top;\n",
       "    }\n",
       "\n",
       "    .dataframe thead th {\n",
       "        text-align: right;\n",
       "    }\n",
       "</style>\n",
       "<table border=\"1\" class=\"dataframe\">\n",
       "  <thead>\n",
       "    <tr style=\"text-align: right;\">\n",
       "      <th></th>\n",
       "      <th>ID_x</th>\n",
       "      <th>STATUS_x</th>\n",
       "      <th>MATERIAL</th>\n",
       "      <th>SPECIFICATION</th>\n",
       "      <th>QUANTITY</th>\n",
       "      <th>RECIPE</th>\n",
       "      <th>SPECIFICATION CODE</th>\n",
       "      <th>ID_y</th>\n",
       "      <th>STATUS_y</th>\n",
       "      <th>CHANGED BY</th>\n",
       "      <th>VALID FROM</th>\n",
       "    </tr>\n",
       "  </thead>\n",
       "  <tbody>\n",
       "    <tr>\n",
       "      <th>0</th>\n",
       "      <td>5</td>\n",
       "      <td>Ready for production</td>\n",
       "      <td>8923537</td>\n",
       "      <td>100000002021</td>\n",
       "      <td>56</td>\n",
       "      <td>200000267201/002/000</td>\n",
       "      <td>200000267201</td>\n",
       "      <td>5</td>\n",
       "      <td>ZIR</td>\n",
       "      <td>USER3</td>\n",
       "      <td>07.05.2022</td>\n",
       "    </tr>\n",
       "    <tr>\n",
       "      <th>1</th>\n",
       "      <td>3</td>\n",
       "      <td>Ready for production</td>\n",
       "      <td>8789406</td>\n",
       "      <td>100000006406</td>\n",
       "      <td>33</td>\n",
       "      <td>200000267228/001/001</td>\n",
       "      <td>200000267228</td>\n",
       "      <td>3</td>\n",
       "      <td>ZIR</td>\n",
       "      <td>USER4</td>\n",
       "      <td>14.02.2021</td>\n",
       "    </tr>\n",
       "    <tr>\n",
       "      <th>2</th>\n",
       "      <td>3</td>\n",
       "      <td>Ready for production</td>\n",
       "      <td>8792659</td>\n",
       "      <td>100000083153</td>\n",
       "      <td>2</td>\n",
       "      <td>200000267228/001/001</td>\n",
       "      <td>200000267228</td>\n",
       "      <td>3</td>\n",
       "      <td>ZIR</td>\n",
       "      <td>USER4</td>\n",
       "      <td>14.02.2021</td>\n",
       "    </tr>\n",
       "    <tr>\n",
       "      <th>3</th>\n",
       "      <td>6</td>\n",
       "      <td>Ready for production</td>\n",
       "      <td>8880728</td>\n",
       "      <td>100000002021</td>\n",
       "      <td>13</td>\n",
       "      <td>200000267197/005/001</td>\n",
       "      <td>200000267197</td>\n",
       "      <td>6</td>\n",
       "      <td>ZRE</td>\n",
       "      <td>USER1</td>\n",
       "      <td>14.05.2022</td>\n",
       "    </tr>\n",
       "    <tr>\n",
       "      <th>4</th>\n",
       "      <td>8</td>\n",
       "      <td>Production dev</td>\n",
       "      <td>8895373</td>\n",
       "      <td>100000002021</td>\n",
       "      <td>443</td>\n",
       "      <td>200000267140/000/001</td>\n",
       "      <td>200000267140</td>\n",
       "      <td>8</td>\n",
       "      <td>ZOB</td>\n",
       "      <td>USER3</td>\n",
       "      <td>03.01.2017</td>\n",
       "    </tr>\n",
       "  </tbody>\n",
       "</table>\n",
       "</div>"
      ],
      "text/plain": [
       "   ID_x              STATUS_x  MATERIAL  SPECIFICATION  QUANTITY  \\\n",
       "0     5  Ready for production   8923537   100000002021        56   \n",
       "1     3  Ready for production   8789406   100000006406        33   \n",
       "2     3  Ready for production   8792659   100000083153         2   \n",
       "3     6  Ready for production   8880728   100000002021        13   \n",
       "4     8        Production dev   8895373   100000002021       443   \n",
       "\n",
       "                 RECIPE  SPECIFICATION CODE  ID_y STATUS_y CHANGED BY  \\\n",
       "0  200000267201/002/000        200000267201     5      ZIR      USER3   \n",
       "1  200000267228/001/001        200000267228     3      ZIR      USER4   \n",
       "2  200000267228/001/001        200000267228     3      ZIR      USER4   \n",
       "3  200000267197/005/001        200000267197     6      ZRE      USER1   \n",
       "4  200000267140/000/001        200000267140     8      ZOB      USER3   \n",
       "\n",
       "   VALID FROM  \n",
       "0  07.05.2022  \n",
       "1  14.02.2021  \n",
       "2  14.02.2021  \n",
       "3  14.05.2022  \n",
       "4  03.01.2017  "
      ]
     },
     "execution_count": 29,
     "metadata": {},
     "output_type": "execute_result"
    }
   ],
   "source": [
    "merged_data = plantRecipe.merge(specification,left_on=\"SPECIFICATION CODE\",right_on=\"SPECIFICATION CODE\")\n",
    "merged_data.head(5)"
   ]
  },
  {
   "cell_type": "code",
   "execution_count": 35,
   "metadata": {},
   "outputs": [
    {
     "data": {
      "text/html": [
       "<div>\n",
       "<style scoped>\n",
       "    .dataframe tbody tr th:only-of-type {\n",
       "        vertical-align: middle;\n",
       "    }\n",
       "\n",
       "    .dataframe tbody tr th {\n",
       "        vertical-align: top;\n",
       "    }\n",
       "\n",
       "    .dataframe thead th {\n",
       "        text-align: right;\n",
       "    }\n",
       "</style>\n",
       "<table border=\"1\" class=\"dataframe\">\n",
       "  <thead>\n",
       "    <tr style=\"text-align: right;\">\n",
       "      <th></th>\n",
       "      <th>ID_x</th>\n",
       "      <th>STATUS_x</th>\n",
       "      <th>MATERIAL</th>\n",
       "      <th>SPECIFICATION</th>\n",
       "      <th>QUANTITY</th>\n",
       "      <th>RECIPE</th>\n",
       "      <th>SPECIFICATION CODE</th>\n",
       "      <th>ID_y</th>\n",
       "      <th>STATUS_y</th>\n",
       "      <th>CHANGED BY</th>\n",
       "      <th>VALID FROM</th>\n",
       "    </tr>\n",
       "  </thead>\n",
       "  <tbody>\n",
       "    <tr>\n",
       "      <th>3</th>\n",
       "      <td>6</td>\n",
       "      <td>Ready for production</td>\n",
       "      <td>8880728</td>\n",
       "      <td>100000002021</td>\n",
       "      <td>13</td>\n",
       "      <td>200000267197/005/001</td>\n",
       "      <td>200000267197</td>\n",
       "      <td>6</td>\n",
       "      <td>ZRE</td>\n",
       "      <td>USER1</td>\n",
       "      <td>14.05.2022</td>\n",
       "    </tr>\n",
       "    <tr>\n",
       "      <th>7</th>\n",
       "      <td>2</td>\n",
       "      <td>Ready for production</td>\n",
       "      <td>8770239</td>\n",
       "      <td>100000002021</td>\n",
       "      <td>221</td>\n",
       "      <td>200000267248/000/003</td>\n",
       "      <td>200000267248</td>\n",
       "      <td>2</td>\n",
       "      <td>ZIP</td>\n",
       "      <td>USER4</td>\n",
       "      <td>31.01.2020</td>\n",
       "    </tr>\n",
       "  </tbody>\n",
       "</table>\n",
       "</div>"
      ],
      "text/plain": [
       "   ID_x              STATUS_x  MATERIAL  SPECIFICATION  QUANTITY  \\\n",
       "3     6  Ready for production   8880728   100000002021        13   \n",
       "7     2  Ready for production   8770239   100000002021       221   \n",
       "\n",
       "                 RECIPE  SPECIFICATION CODE  ID_y STATUS_y CHANGED BY  \\\n",
       "3  200000267197/005/001        200000267197     6      ZRE      USER1   \n",
       "7  200000267248/000/003        200000267248     2      ZIP      USER4   \n",
       "\n",
       "   VALID FROM  \n",
       "3  14.05.2022  \n",
       "7  31.01.2020  "
      ]
     },
     "execution_count": 35,
     "metadata": {},
     "output_type": "execute_result"
    }
   ],
   "source": [
    "#All the information from PlantRecipe table linked with specification of ID 2,5,6,7,9 and status ZRE, ZIP\n",
    "\n",
    "merged_data[(merged_data[\"ID_y\"].isin([2,5,6,7,9])) & (merged_data[\"STATUS_y\"].isin([\"ZRE\",\"ZIP\"]))]"
   ]
  },
  {
   "cell_type": "code",
   "execution_count": 41,
   "metadata": {},
   "outputs": [
    {
     "data": {
      "text/html": [
       "<div>\n",
       "<style scoped>\n",
       "    .dataframe tbody tr th:only-of-type {\n",
       "        vertical-align: middle;\n",
       "    }\n",
       "\n",
       "    .dataframe tbody tr th {\n",
       "        vertical-align: top;\n",
       "    }\n",
       "\n",
       "    .dataframe thead th {\n",
       "        text-align: right;\n",
       "    }\n",
       "</style>\n",
       "<table border=\"1\" class=\"dataframe\">\n",
       "  <thead>\n",
       "    <tr style=\"text-align: right;\">\n",
       "      <th></th>\n",
       "      <th>ID_x</th>\n",
       "      <th>STATUS_x</th>\n",
       "      <th>MATERIAL</th>\n",
       "      <th>SPECIFICATION</th>\n",
       "      <th>QUANTITY</th>\n",
       "      <th>RECIPE_x</th>\n",
       "      <th>SPECIFICATION CODE</th>\n",
       "      <th>ID_y</th>\n",
       "      <th>STATUS_y</th>\n",
       "      <th>CHANGED BY</th>\n",
       "      <th>VALID FROM</th>\n",
       "      <th>ID</th>\n",
       "      <th>SOURCING UNIT</th>\n",
       "      <th>VALID FROM DATE</th>\n",
       "      <th>RECIPE_y</th>\n",
       "    </tr>\n",
       "  </thead>\n",
       "  <tbody>\n",
       "    <tr>\n",
       "      <th>0</th>\n",
       "      <td>5</td>\n",
       "      <td>Ready for production</td>\n",
       "      <td>8923537</td>\n",
       "      <td>100000002021</td>\n",
       "      <td>56</td>\n",
       "      <td>200000267201/002/000</td>\n",
       "      <td>200000267201</td>\n",
       "      <td>5</td>\n",
       "      <td>ZIR</td>\n",
       "      <td>USER3</td>\n",
       "      <td>07.05.2022</td>\n",
       "      <td>5</td>\n",
       "      <td>AMSTERDAM</td>\n",
       "      <td>17.08.2022</td>\n",
       "      <td>200000267201/004/001</td>\n",
       "    </tr>\n",
       "    <tr>\n",
       "      <th>1</th>\n",
       "      <td>3</td>\n",
       "      <td>Ready for production</td>\n",
       "      <td>8789406</td>\n",
       "      <td>100000006406</td>\n",
       "      <td>33</td>\n",
       "      <td>200000267228/001/001</td>\n",
       "      <td>200000267228</td>\n",
       "      <td>3</td>\n",
       "      <td>ZIR</td>\n",
       "      <td>USER4</td>\n",
       "      <td>14.02.2021</td>\n",
       "      <td>3</td>\n",
       "      <td>NEW YORK</td>\n",
       "      <td>31.08.2022</td>\n",
       "      <td>200000267228/002/001</td>\n",
       "    </tr>\n",
       "    <tr>\n",
       "      <th>2</th>\n",
       "      <td>9</td>\n",
       "      <td>Production obsolete</td>\n",
       "      <td>68380183</td>\n",
       "      <td>100000002021</td>\n",
       "      <td>56</td>\n",
       "      <td>200000267133/001/001</td>\n",
       "      <td>200000267133</td>\n",
       "      <td>9</td>\n",
       "      <td>ZOB</td>\n",
       "      <td>USER1</td>\n",
       "      <td>04.04.2022</td>\n",
       "      <td>9</td>\n",
       "      <td>LONDON</td>\n",
       "      <td>01.12.2022</td>\n",
       "      <td>200000267133/000/003</td>\n",
       "    </tr>\n",
       "  </tbody>\n",
       "</table>\n",
       "</div>"
      ],
      "text/plain": [
       "   ID_x              STATUS_x  MATERIAL  SPECIFICATION  QUANTITY  \\\n",
       "0     5  Ready for production   8923537   100000002021        56   \n",
       "1     3  Ready for production   8789406   100000006406        33   \n",
       "2     9   Production obsolete  68380183   100000002021        56   \n",
       "\n",
       "               RECIPE_x  SPECIFICATION CODE  ID_y STATUS_y CHANGED BY  \\\n",
       "0  200000267201/002/000        200000267201     5      ZIR      USER3   \n",
       "1  200000267228/001/001        200000267228     3      ZIR      USER4   \n",
       "2  200000267133/001/001        200000267133     9      ZOB      USER1   \n",
       "\n",
       "   VALID FROM  ID SOURCING UNIT VALID FROM DATE              RECIPE_y  \n",
       "0  07.05.2022   5     AMSTERDAM      17.08.2022  200000267201/004/001  \n",
       "1  14.02.2021   3      NEW YORK      31.08.2022  200000267228/002/001  \n",
       "2  04.04.2022   9        LONDON      01.12.2022  200000267133/000/003  "
      ]
     },
     "execution_count": 41,
     "metadata": {},
     "output_type": "execute_result"
    }
   ],
   "source": [
    "#Recipe and specification from PlantRecipe table with quantity lower than 200 but bigger than 30 and display all the data linked from GeneralRecipe table\n",
    "\n",
    "\n",
    "merged_data_b = merged_data[(merged_data[\"QUANTITY\"]<200) & (merged_data[\"QUANTITY\"]>30)]\n",
    "merged_data_b.merge(generalRecipe, left_on=\"SPECIFICATION CODE\", right_on=\"SPECIFICATION CODE\")"
   ]
  },
  {
   "cell_type": "code",
   "execution_count": 49,
   "metadata": {},
   "outputs": [
    {
     "data": {
      "text/html": [
       "<div>\n",
       "<style scoped>\n",
       "    .dataframe tbody tr th:only-of-type {\n",
       "        vertical-align: middle;\n",
       "    }\n",
       "\n",
       "    .dataframe tbody tr th {\n",
       "        vertical-align: top;\n",
       "    }\n",
       "\n",
       "    .dataframe thead th {\n",
       "        text-align: right;\n",
       "    }\n",
       "</style>\n",
       "<table border=\"1\" class=\"dataframe\">\n",
       "  <thead>\n",
       "    <tr style=\"text-align: right;\">\n",
       "      <th></th>\n",
       "      <th>ID</th>\n",
       "      <th>SOURCING UNIT</th>\n",
       "      <th>VALID FROM DATE</th>\n",
       "      <th>RECIPE</th>\n",
       "      <th>SPECIFICATION CODE</th>\n",
       "      <th>STATUS</th>\n",
       "      <th>CHANGED BY</th>\n",
       "      <th>VALID FROM</th>\n",
       "    </tr>\n",
       "  </thead>\n",
       "  <tbody>\n",
       "    <tr>\n",
       "      <th>0</th>\n",
       "      <td>3</td>\n",
       "      <td>NEW YORK</td>\n",
       "      <td>31.08.2022</td>\n",
       "      <td>200000267228/002/001</td>\n",
       "      <td>200000267228</td>\n",
       "      <td>ZIR</td>\n",
       "      <td>USER4</td>\n",
       "      <td>14.02.2021</td>\n",
       "    </tr>\n",
       "    <tr>\n",
       "      <th>1</th>\n",
       "      <td>5</td>\n",
       "      <td>AMSTERDAM</td>\n",
       "      <td>17.08.2022</td>\n",
       "      <td>200000267201/004/001</td>\n",
       "      <td>200000267201</td>\n",
       "      <td>ZIR</td>\n",
       "      <td>USER3</td>\n",
       "      <td>07.05.2022</td>\n",
       "    </tr>\n",
       "    <tr>\n",
       "      <th>3</th>\n",
       "      <td>9</td>\n",
       "      <td>LONDON</td>\n",
       "      <td>01.12.2022</td>\n",
       "      <td>200000267133/000/003</td>\n",
       "      <td>200000267133</td>\n",
       "      <td>ZOB</td>\n",
       "      <td>USER1</td>\n",
       "      <td>04.04.2022</td>\n",
       "    </tr>\n",
       "    <tr>\n",
       "      <th>4</th>\n",
       "      <td>1</td>\n",
       "      <td>LONDON</td>\n",
       "      <td>01.12.2022</td>\n",
       "      <td>200000267281/003/004</td>\n",
       "      <td>200000267281</td>\n",
       "      <td>ZIP</td>\n",
       "      <td>USER1</td>\n",
       "      <td>11.05.2019</td>\n",
       "    </tr>\n",
       "  </tbody>\n",
       "</table>\n",
       "</div>"
      ],
      "text/plain": [
       "   ID SOURCING UNIT VALID FROM DATE                RECIPE  SPECIFICATION CODE  \\\n",
       "0   3      NEW YORK      31.08.2022  200000267228/002/001        200000267228   \n",
       "1   5     AMSTERDAM      17.08.2022  200000267201/004/001        200000267201   \n",
       "3   9        LONDON      01.12.2022  200000267133/000/003        200000267133   \n",
       "4   1        LONDON      01.12.2022  200000267281/003/004        200000267281   \n",
       "\n",
       "  STATUS CHANGED BY  VALID FROM  \n",
       "0    ZIR      USER4  14.02.2021  \n",
       "1    ZIR      USER3  07.05.2022  \n",
       "3    ZOB      USER1  04.04.2022  \n",
       "4    ZIP      USER1  11.05.2019  "
      ]
     },
     "execution_count": 49,
     "metadata": {},
     "output_type": "execute_result"
    }
   ],
   "source": [
    "#Recipe and Sourcing unit from GeneralRecipe which share id with specification table and are in different status than ZRE\n",
    "\n",
    "merged_data_c = generalRecipe.merge(specification)\n",
    "merged_data_c[merged_data_c[\"STATUS\"]!=\"ZRE\"]"
   ]
  },
  {
   "cell_type": "code",
   "execution_count": 50,
   "metadata": {},
   "outputs": [
    {
     "name": "stdout",
     "output_type": "stream",
     "text": [
      "Collecting nbconvert\n",
      "  Downloading nbconvert-7.4.0-py3-none-any.whl (285 kB)\n",
      "     -------------------------------------- 285.9/285.9 kB 2.5 MB/s eta 0:00:00\n",
      "Requirement already satisfied: beautifulsoup4 in c:\\users\\kyu11\\appdata\\local\\programs\\python\\python311\\lib\\site-packages (from nbconvert) (4.11.2)\n",
      "Collecting bleach\n",
      "  Downloading bleach-6.0.0-py3-none-any.whl (162 kB)\n",
      "     -------------------------------------- 162.5/162.5 kB 4.9 MB/s eta 0:00:00\n",
      "Collecting defusedxml\n",
      "  Downloading defusedxml-0.7.1-py2.py3-none-any.whl (25 kB)\n",
      "Requirement already satisfied: jinja2>=3.0 in c:\\users\\kyu11\\appdata\\local\\programs\\python\\python311\\lib\\site-packages (from nbconvert) (3.1.2)\n",
      "Requirement already satisfied: jupyter-core>=4.7 in c:\\users\\kyu11\\appdata\\roaming\\python\\python311\\site-packages (from nbconvert) (5.1.5)\n",
      "Collecting jupyterlab-pygments\n",
      "  Downloading jupyterlab_pygments-0.2.2-py2.py3-none-any.whl (21 kB)\n",
      "Requirement already satisfied: markupsafe>=2.0 in c:\\users\\kyu11\\appdata\\local\\programs\\python\\python311\\lib\\site-packages (from nbconvert) (2.1.2)\n",
      "Collecting mistune<3,>=2.0.3\n",
      "  Downloading mistune-2.0.5-py2.py3-none-any.whl (24 kB)\n",
      "Collecting nbclient>=0.5.0\n",
      "  Downloading nbclient-0.8.0-py3-none-any.whl (73 kB)\n",
      "     ---------------------------------------- 73.1/73.1 kB 3.9 MB/s eta 0:00:00\n",
      "Collecting nbformat>=5.1\n",
      "  Downloading nbformat-5.9.0-py3-none-any.whl (77 kB)\n",
      "     ---------------------------------------- 77.6/77.6 kB ? eta 0:00:00\n",
      "Requirement already satisfied: packaging in c:\\users\\kyu11\\appdata\\roaming\\python\\python311\\site-packages (from nbconvert) (23.0)\n",
      "Collecting pandocfilters>=1.4.1\n",
      "  Downloading pandocfilters-1.5.0-py2.py3-none-any.whl (8.7 kB)\n",
      "Requirement already satisfied: pygments>=2.4.1 in c:\\users\\kyu11\\appdata\\roaming\\python\\python311\\site-packages (from nbconvert) (2.14.0)\n",
      "Collecting tinycss2\n",
      "  Downloading tinycss2-1.2.1-py3-none-any.whl (21 kB)\n",
      "Requirement already satisfied: traitlets>=5.0 in c:\\users\\kyu11\\appdata\\roaming\\python\\python311\\site-packages (from nbconvert) (5.8.1)\n",
      "Requirement already satisfied: platformdirs>=2.5 in c:\\users\\kyu11\\appdata\\roaming\\python\\python311\\site-packages (from jupyter-core>=4.7->nbconvert) (2.6.2)\n",
      "Requirement already satisfied: pywin32>=1.0 in c:\\users\\kyu11\\appdata\\roaming\\python\\python311\\site-packages (from jupyter-core>=4.7->nbconvert) (305)\n",
      "Requirement already satisfied: jupyter-client>=6.1.12 in c:\\users\\kyu11\\appdata\\roaming\\python\\python311\\site-packages (from nbclient>=0.5.0->nbconvert) (8.0.1)\n",
      "Collecting fastjsonschema\n",
      "  Downloading fastjsonschema-2.17.1-py3-none-any.whl (23 kB)\n",
      "Collecting jsonschema>=2.6\n",
      "  Downloading jsonschema-4.17.3-py3-none-any.whl (90 kB)\n",
      "     ---------------------------------------- 90.4/90.4 kB 5.3 MB/s eta 0:00:00\n",
      "Requirement already satisfied: soupsieve>1.2 in c:\\users\\kyu11\\appdata\\local\\programs\\python\\python311\\lib\\site-packages (from beautifulsoup4->nbconvert) (2.4)\n",
      "Requirement already satisfied: six>=1.9.0 in c:\\users\\kyu11\\appdata\\roaming\\python\\python311\\site-packages (from bleach->nbconvert) (1.16.0)\n",
      "Collecting webencodings\n",
      "  Downloading webencodings-0.5.1-py2.py3-none-any.whl (11 kB)\n",
      "Requirement already satisfied: attrs>=17.4.0 in c:\\users\\kyu11\\appdata\\local\\programs\\python\\python311\\lib\\site-packages (from jsonschema>=2.6->nbformat>=5.1->nbconvert) (22.2.0)\n",
      "Collecting pyrsistent!=0.17.0,!=0.17.1,!=0.17.2,>=0.14.0\n",
      "  Downloading pyrsistent-0.19.3-cp311-cp311-win_amd64.whl (62 kB)\n",
      "     ---------------------------------------- 62.7/62.7 kB ? eta 0:00:00\n",
      "Requirement already satisfied: python-dateutil>=2.8.2 in c:\\users\\kyu11\\appdata\\roaming\\python\\python311\\site-packages (from jupyter-client>=6.1.12->nbclient>=0.5.0->nbconvert) (2.8.2)\n",
      "Requirement already satisfied: pyzmq>=23.0 in c:\\users\\kyu11\\appdata\\roaming\\python\\python311\\site-packages (from jupyter-client>=6.1.12->nbclient>=0.5.0->nbconvert) (25.0.0)\n",
      "Requirement already satisfied: tornado>=6.2 in c:\\users\\kyu11\\appdata\\roaming\\python\\python311\\site-packages (from jupyter-client>=6.1.12->nbclient>=0.5.0->nbconvert) (6.2)\n",
      "Installing collected packages: webencodings, mistune, fastjsonschema, tinycss2, pyrsistent, pandocfilters, jupyterlab-pygments, defusedxml, bleach, jsonschema, nbformat, nbclient, nbconvert\n",
      "Successfully installed bleach-6.0.0 defusedxml-0.7.1 fastjsonschema-2.17.1 jsonschema-4.17.3 jupyterlab-pygments-0.2.2 mistune-2.0.5 nbclient-0.8.0 nbconvert-7.4.0 nbformat-5.9.0 pandocfilters-1.5.0 pyrsistent-0.19.3 tinycss2-1.2.1 webencodings-0.5.1\n",
      "Note: you may need to restart the kernel to use updated packages.\n"
     ]
    },
    {
     "name": "stderr",
     "output_type": "stream",
     "text": [
      "\n",
      "[notice] A new release of pip available: 22.3.1 -> 23.1.2\n",
      "[notice] To update, run: python.exe -m pip install --upgrade pip\n"
     ]
    }
   ],
   "source": [
    "%pip install nbconvert"
   ]
  },
  {
   "cell_type": "code",
   "execution_count": 59,
   "metadata": {},
   "outputs": [
    {
     "name": "stdout",
     "output_type": "stream",
     "text": [
      "2\n",
      "4\n",
      "3\n"
     ]
    }
   ],
   "source": [
    "x = [1,2,4,3]\n",
    "test = []\n",
    "for index, value in enumerate(x):\n",
    "\n",
    "    if index >= 1:\n",
    "\n",
    "        if x[index-1]>=x[index]:\n",
    "            \n",
    "        \n",
    "        x\n",
    "    \n"
   ]
  },
  {
   "cell_type": "code",
   "execution_count": 63,
   "metadata": {},
   "outputs": [
    {
     "name": "stdout",
     "output_type": "stream",
     "text": [
      "[4, 2, 8, 6, 5, 1, 7, 3, 99]\n",
      "[2, 1, 3]\n",
      "[8, 6, 5, 7, 99]\n",
      "[6, 5, 7]\n",
      "[1, 2, 3, 4, 5, 6, 7, 8, 99]\n"
     ]
    }
   ],
   "source": [
    "def quicksort(arr):\n",
    "    if len(arr) <= 1:\n",
    "        return arr\n",
    "    else:\n",
    "        print(arr)\n",
    "        pivot = arr[0]\n",
    "        less = [x for x in arr[1:] if x <= pivot]\n",
    "        greater = [x for x in arr[1:] if x > pivot]\n",
    "        return quicksort(less) + [pivot] + quicksort(greater)\n",
    "\n",
    "# Example usage:\n",
    "my_list = [4, 2, 8, 6, 5, 1, 7, 3,99]\n",
    "sorted_list = quicksort(my_list)\n",
    "print(sorted_list)"
   ]
  },
  {
   "cell_type": "code",
   "execution_count": 64,
   "metadata": {},
   "outputs": [
    {
     "name": "stdout",
     "output_type": "stream",
     "text": [
      "[2, 3, 4, 5, 8]\n"
     ]
    }
   ],
   "source": [
    "def bubble_sort(arr):\n",
    "    n = len(arr)\n",
    "    for i in range(n):\n",
    "        # Last i elements are already in place\n",
    "        for j in range(0, n-i-1):\n",
    "            # Swap adjacent elements if they are in the wrong order\n",
    "            if arr[j] > arr[j+1]:\n",
    "                arr[j], arr[j+1] = arr[j+1], arr[j]\n",
    "\n",
    "# Example usage\n",
    "my_list = [5, 3, 8, 4, 2]\n",
    "bubble_sort(my_list)\n",
    "print(my_list)"
   ]
  },
  {
   "cell_type": "code",
   "execution_count": 1,
   "metadata": {},
   "outputs": [],
   "source": [
    "matrix = [[1,2],\n",
    "          [3,4]]"
   ]
  },
  {
   "cell_type": "code",
   "execution_count": 67,
   "metadata": {},
   "outputs": [],
   "source": [
    "target = 2"
   ]
  },
  {
   "cell_type": "code",
   "execution_count": 68,
   "metadata": {},
   "outputs": [],
   "source": [
    "result = []\n",
    "#create an empty list to store the result\n"
   ]
  },
  {
   "cell_type": "code",
   "execution_count": 69,
   "metadata": {},
   "outputs": [
    {
     "name": "stdout",
     "output_type": "stream",
     "text": [
      "[0, 1]\n"
     ]
    }
   ],
   "source": [
    "for index_x, i in enumerate(matrix): # Iterate over each element in the current row\n",
    "    for index_y, x in enumerate(i): # Check if the element matches the target\n",
    "        if x == target: # If a match is found, append the indices to the result list\n",
    "            result.append(index_x)\n",
    "            result.append(index_y)\n",
    "\n",
    "if len(result) == 0:\n",
    "    print(\"Integer is not in matrix\")\n",
    "else:\n",
    "    print(result)\n",
    "    "
   ]
  },
  {
   "cell_type": "code",
   "execution_count": 70,
   "metadata": {},
   "outputs": [
    {
     "data": {
      "text/plain": [
       "2"
      ]
     },
     "execution_count": 70,
     "metadata": {},
     "output_type": "execute_result"
    }
   ],
   "source": [
    "matrix[0][1]"
   ]
  },
  {
   "cell_type": "code",
   "execution_count": 66,
   "metadata": {},
   "outputs": [
    {
     "data": {
      "text/plain": [
       "0"
      ]
     },
     "execution_count": 66,
     "metadata": {},
     "output_type": "execute_result"
    }
   ],
   "source": [
    "len([])"
   ]
  },
  {
   "cell_type": "code",
   "execution_count": 28,
   "metadata": {},
   "outputs": [
    {
     "data": {
      "text/plain": [
       "[3, 4]"
      ]
     },
     "execution_count": 28,
     "metadata": {},
     "output_type": "execute_result"
    }
   ],
   "source": [
    "i "
   ]
  },
  {
   "cell_type": "code",
   "execution_count": 29,
   "metadata": {},
   "outputs": [
    {
     "data": {
      "text/plain": [
       "4"
      ]
     },
     "execution_count": 29,
     "metadata": {},
     "output_type": "execute_result"
    }
   ],
   "source": [
    "target"
   ]
  },
  {
   "cell_type": "code",
   "execution_count": 74,
   "metadata": {},
   "outputs": [
    {
     "name": "stdout",
     "output_type": "stream",
     "text": [
      "3\n",
      "4\n"
     ]
    }
   ],
   "source": [
    "target=[3,4]\n",
    "\n",
    "for index, i in enumerate(target):\n",
    "    if \n",
    "\n",
    "target.append(3.5)"
   ]
  },
  {
   "cell_type": "code",
   "execution_count": 75,
   "metadata": {},
   "outputs": [
    {
     "data": {
      "text/plain": [
       "[3, 4, 3.5]"
      ]
     },
     "execution_count": 75,
     "metadata": {},
     "output_type": "execute_result"
    }
   ],
   "source": [
    "target"
   ]
  },
  {
   "cell_type": "code",
   "execution_count": null,
   "metadata": {},
   "outputs": [],
   "source": []
  }
 ],
 "metadata": {
  "kernelspec": {
   "display_name": "Python 3",
   "language": "python",
   "name": "python3"
  },
  "language_info": {
   "codemirror_mode": {
    "name": "ipython",
    "version": 3
   },
   "file_extension": ".py",
   "mimetype": "text/x-python",
   "name": "python",
   "nbconvert_exporter": "python",
   "pygments_lexer": "ipython3",
   "version": "3.11.2"
  },
  "orig_nbformat": 4
 },
 "nbformat": 4,
 "nbformat_minor": 2
}
