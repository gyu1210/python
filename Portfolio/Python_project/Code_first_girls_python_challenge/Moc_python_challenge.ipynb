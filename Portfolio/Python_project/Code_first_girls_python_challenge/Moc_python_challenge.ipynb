# Challenge Problem 1
# Should we round up the final grade? Every subject is graded from 0 to 100% less than 40% is a failing grade and more than 80% is a distinction.
# We can round up a grade:
# If the difference between the grade and the next multiple of 5 is less than 3, round up to the next multiple of 5.
# If the value is less than 40, no rounding occurs as the result will still be a falling grade.
# Given an input grade, round it up if appropriate and tell us if the student passed, filled or received a distinction. Wite a algorithm and produce 
# a flow chart
{
 "cells": [
  {
   "cell_type": "code",
   "execution_count": 14,
   "metadata": {},
   "outputs": [],
   "source": [
    "matrix = [[1,4,7,12,15,1000],\n",
    "          [2,5,19,31,32,1001],\n",
    "          [3,8,24,33,35,1002],\n",
    "          [40,41,42,44,45,1003],\n",
    "          [99,100,103,106,128,1004]]"
   ]
  },
  {
   "cell_type": "code",
   "execution_count": 15,
   "metadata": {},
   "outputs": [],
   "source": [
    "target = 44"
   ]
  },
  {
   "cell_type": "code",
   "execution_count": 16,
   "metadata": {},
   "outputs": [],
   "source": [
    "result = [] #create an empty list to store the result\n"
   ]
  },
  {
   "cell_type": "code",
   "execution_count": 17,
   "metadata": {},
   "outputs": [
    {
     "name": "stdout",
     "output_type": "stream",
     "text": [
      "[3, 3]\n"
     ]
    }
   ],
   "source": [
    "for index_x, i in enumerate(matrix): # Iterate over each element in the current row\n",
    "    for index_y, x in enumerate(i): # Check if the element matches the target\n",
    "        if x == target: # If a match is found, append the indices to the result list\n",
    "            result.append(index_x)\n",
    "            result.append(index_y)\n",
    "\n",
    "if len(result) == 0:\n",
    "    print(\"Integer is not in matrix\")\n",
    "else:\n",
    "    print(result)"
   ]
  },
  {
   "cell_type": "code",
   "execution_count": 13,
   "metadata": {},
   "outputs": [
    {
     "data": {
      "text/plain": [
       "4"
      ]
     },
     "execution_count": 13,
     "metadata": {},
     "output_type": "execute_result"
    }
   ],
   "source": [
    "matrix[0][1]"
   ]
  },
  {
   "cell_type": "code",
   "execution_count": 15,
   "metadata": {},
   "outputs": [
    {
     "data": {
      "text/plain": [
       "0"
      ]
     },
     "execution_count": 15,
     "metadata": {},
     "output_type": "execute_result"
    }
   ],
   "source": [
    "len([])"
   ]
  },
  {
   "cell_type": "code",
   "execution_count": 16,
   "metadata": {},
   "outputs": [
    {
     "data": {
      "text/plain": [
       "[3, 4]"
      ]
     },
     "execution_count": 16,
     "metadata": {},
     "output_type": "execute_result"
    }
   ],
   "source": [
    "i "
   ]
  },
  {
   "cell_type": "code",
   "execution_count": 17,
   "metadata": {},
   "outputs": [
    {
     "data": {
      "text/plain": [
       "2"
      ]
     },
     "execution_count": 17,
     "metadata": {},
     "output_type": "execute_result"
    }
   ],
   "source": [
    "target"
   ]
  },
  {
   "cell_type": "code",
   "execution_count": 11,
   "metadata": {},
   "outputs": [
    {
     "name": "stdout",
     "output_type": "stream",
     "text": [
      "73\n",
      "Original Grade: 73\n",
      "Rounded Grade: 75\n",
      "Original Grade: 37\n",
      "Rounded Grade: 37\n"
     ]
    }
   ],
   "source": [
    "def round_grade(grade):\n",
    "    if grade < 40:  # If grade is less than 40, no rounding occurs\n",
    "        return grade\n",
    "    \n",
    "    else:\n",
    "        next_multiple = ((grade // 5) + 1) * 5  # Calculate the next multiple of 5\n",
    "        if next_multiple - grade < 3:  # If the difference is less than 3, round up\n",
    "            return next_multiple\n",
    "        else:\n",
    "            return grade  # Otherwise, no rounding occurs\n",
    "        \n",
    "grade1 = 73\n",
    "grade2 = 37\n",
    "\n",
    "rounded_grade1 = round_grade(grade1)\n",
    "rounded_grade2 = round_grade(grade2)\n",
    "\n",
    "print(\"Original Grade:\", grade1)\n",
    "print(\"Rounded Grade:\", rounded_grade1)\n",
    "\n",
    "print(\"Original Grade:\", grade2)\n",
    "print(\"Rounded Grade:\", rounded_grade2)\n"
   ]
  },
  {
   "cell_type": "code",
   "execution_count": null,
   "metadata": {},
   "outputs": [],
   "source": []
  }
 ],
 "metadata": {
  "kernelspec": {
   "display_name": "Python 3",
   "language": "python",
   "name": "python3"
  },
  "language_info": {
   "codemirror_mode": {
    "name": "ipython",
    "version": 3
   },
   "file_extension": ".py",
   "mimetype": "text/x-python",
   "name": "python",
   "nbconvert_exporter": "python",
   "pygments_lexer": "ipython3",
   "version": "3.11.2"
  },
  "orig_nbformat": 4
 },
 "nbformat": 4,
 "nbformat_minor": 2
}
