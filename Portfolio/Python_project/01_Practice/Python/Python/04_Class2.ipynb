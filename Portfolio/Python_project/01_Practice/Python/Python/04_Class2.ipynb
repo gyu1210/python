{
 "cells": [
  {
   "cell_type": "code",
   "execution_count": 1,
   "metadata": {},
   "outputs": [],
   "source": [
    "##Class\n",
    "#1. User 클래스 생성\n",
    "# 생성자 함수는 유저의 정보 입력(이름, 휴대폰번호, 생년월일)\n",
    "# info() 함수생성; 유저의 정보 출력\n",
    "\n",
    "#2. Wallet 클래스 생성\n",
    "# User를 상속받을것임\n",
    "# 생성자 함수는 소유자의 정보(이름, 휴대폰번호, 생년월일), 지갑브랜드, 지갑의 가치, 잔액(0) 압력\n",
    "# work() 함수를 생성: 일의 종류는 'TM', 'Alba', 'Serving' 이고 TM을 하는 경우 지갑의 잔액이 5000증가,\n",
    "# Alba를 하는 경우 잔액이 10000 증가, Serving을 하는 경우 잔액이 15000원 증가\n",
    "# wallet_info() 함수를 생성 : 지갑의 소유자 정보와 잔액을 출력"
   ]
  },
  {
   "cell_type": "code",
   "execution_count": 2,
   "metadata": {},
   "outputs": [],
   "source": [
    "## User 클래스 선언\n",
    "class User: #() 넝어도 안넣어도 상관무\n",
    "    ##생성자 함수인 __init__ 생성 \n",
    "    ##self를 제외한 나머지 인자값 만들기##\n",
    "    def __init__(self, _name, _phone, _birth):\n",
    "        self.name = _name\n",
    "        self.phone = _phone\n",
    "        self.birth = _birth\n",
    "    ##유저의 정보를 출력하는 함수 생성\n",
    "    def info(self): #self는 무조건 넣어야함\n",
    "        self.result = [self.name, self.phone, self.birth]\n",
    "        return self.result"
   ]
  },
  {
   "cell_type": "code",
   "execution_count": 3,
   "metadata": {},
   "outputs": [],
   "source": [
    "user1 = User('test', '01022245678', '890101')\n",
    "user2 = User('test2', '01045678939', '900101')\n"
   ]
  },
  {
   "cell_type": "code",
   "execution_count": 4,
   "metadata": {},
   "outputs": [
    {
     "name": "stdout",
     "output_type": "stream",
     "text": [
      "['test', '01022245678', '890944']\n",
      "['test2', '01045678939', '908675']\n"
     ]
    }
   ],
   "source": [
    "print(user1.info())\n",
    "print(user2.info())"
   ]
  },
  {
   "cell_type": "code",
   "execution_count": 18,
   "metadata": {},
   "outputs": [],
   "source": [
    "## Wallet 클래스 선언\n",
    "class Wallet(User): #상속받을 클래스명 ()\n",
    "    ##생성자 함수 생성\n",
    "    def __init__(self, _name, _phone, _birth, _brand, _value, _balance = 0):\n",
    "        #부모클래스(User)의 생성자 함수를 실행\n",
    "        super().__init__(_name, _phone, _birth)\n",
    "        self.brand = _brand\n",
    "        self.value = _value\n",
    "        self.balance = _balance\n",
    "    ## work() 함수생성 -> 일의 종류\n",
    "    def work(self, _work_type):\n",
    "        if _work_type == \"TM\" : \n",
    "            self.cost = 5000\n",
    "        elif _work_type == 'Alba':\n",
    "            self.cost = 10000\n",
    "        elif _work_type == 'Serving':\n",
    "            self.cost = 15000\n",
    "        else : #모두 아닌경우\n",
    "            return 'work_type이 맞지 않습니다'\n",
    "    ##잔액 변경 ## f는 문자를 안에 넣어줄때 밑에 형식으로 써줄땐\n",
    "        self.balance += self.cost\n",
    "        return f'{_work_type} 일을 성공하였습니다. 현재잔액은 {self.balance} 입니다.' \n",
    "    ##지갑의 정보출력하는 함수\n",
    "    def wallet_info(self):\n",
    "        print(f'지갑의 소유자는 {self.name}')\n",
    "        print(f'현재잔액은 {self.balance}')\n",
    "    ## 오버라이딩 - 부모클래스의 기능을 변경하여 사용\n",
    "    def info(self): \n",
    "        print(f'소유자의 이름은 {self.name}')\n",
    "        print(f'지갑의 브랜드는 {self.brand}')\n",
    "        print(f'지갑의 가치는 {self.value}')\n",
    "        "
   ]
  },
  {
   "cell_type": "code",
   "execution_count": 20,
   "metadata": {},
   "outputs": [],
   "source": [
    "wallet1 = Wallet('test','01012345678', '800101', 'gucci', '1000000')\n",
    "wallet2 = Wallet('test2','01012345678', '800101', 'chanel', '5000000')"
   ]
  },
  {
   "cell_type": "code",
   "execution_count": 21,
   "metadata": {},
   "outputs": [
    {
     "name": "stdout",
     "output_type": "stream",
     "text": [
      "지갑의 소유자는 test\n",
      "현재잔액은 0\n"
     ]
    }
   ],
   "source": [
    "wallet1.wallet_info()"
   ]
  },
  {
   "cell_type": "code",
   "execution_count": 22,
   "metadata": {},
   "outputs": [
    {
     "name": "stdout",
     "output_type": "stream",
     "text": [
      "지갑의 소유자는 test2\n",
      "현재잔액은 0\n"
     ]
    }
   ],
   "source": [
    "wallet2.wallet_info()"
   ]
  },
  {
   "cell_type": "code",
   "execution_count": 23,
   "metadata": {},
   "outputs": [
    {
     "data": {
      "text/plain": [
       "'work_type이 맞지 않습니다'"
      ]
     },
     "execution_count": 23,
     "metadata": {},
     "output_type": "execute_result"
    }
   ],
   "source": [
    "wallet1.work('TM')\n",
    "wallet1.work('Alba')\n",
    "wallet1.work('Serving')\n",
    "wallet1.work('teaching')"
   ]
  },
  {
   "cell_type": "code",
   "execution_count": 25,
   "metadata": {},
   "outputs": [
    {
     "name": "stdout",
     "output_type": "stream",
     "text": [
      "지갑의 소유자는 test\n",
      "현재잔액은 30000\n"
     ]
    }
   ],
   "source": [
    "wallet1.wallet_info()"
   ]
  },
  {
   "cell_type": "code",
   "execution_count": 26,
   "metadata": {},
   "outputs": [
    {
     "name": "stdout",
     "output_type": "stream",
     "text": [
      "지갑의 소유자는 test2\n",
      "현재잔액은 0\n"
     ]
    }
   ],
   "source": [
    "wallet2.wallet_info()"
   ]
  },
  {
   "cell_type": "code",
   "execution_count": 16,
   "metadata": {},
   "outputs": [
    {
     "data": {
      "text/plain": [
       "'TM 일을 성공하였습니다. 현재잔액은 5000 입니다.'"
      ]
     },
     "execution_count": 16,
     "metadata": {},
     "output_type": "execute_result"
    }
   ],
   "source": [
    "wallet2.work('TM')"
   ]
  },
  {
   "cell_type": "code",
   "execution_count": 27,
   "metadata": {},
   "outputs": [
    {
     "name": "stdout",
     "output_type": "stream",
     "text": [
      "소유자의 이름은 test\n",
      "지갑의 브랜드는 gucci\n",
      "지갑의 가치는 1000000\n"
     ]
    }
   ],
   "source": [
    "wallet1.info()"
   ]
  },
  {
   "cell_type": "code",
   "execution_count": null,
   "metadata": {},
   "outputs": [],
   "source": []
  }
 ],
 "metadata": {
  "kernelspec": {
   "display_name": "Python 3",
   "language": "python",
   "name": "python3"
  },
  "language_info": {
   "codemirror_mode": {
    "name": "ipython",
    "version": 3
   },
   "file_extension": ".py",
   "mimetype": "text/x-python",
   "name": "python",
   "nbconvert_exporter": "python",
   "pygments_lexer": "ipython3",
   "version": "3.11.2"
  },
  "orig_nbformat": 4,
  "vscode": {
   "interpreter": {
    "hash": "a0ccebdd928ff8b1cacc3966d27986a3d3cb671a748452518fce4f1d921b7395"
   }
  }
 },
 "nbformat": 4,
 "nbformat_minor": 2
}
