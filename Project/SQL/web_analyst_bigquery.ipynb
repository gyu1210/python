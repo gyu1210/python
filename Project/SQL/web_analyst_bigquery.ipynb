{
 "cells": [
  {
   "cell_type": "markdown",
   "id": "a6165a21",
   "metadata": {
    "papermill": {
     "duration": 0.018576,
     "end_time": "2023-07-06T13:25:45.865771",
     "exception": false,
     "start_time": "2023-07-06T13:25:45.847195",
     "status": "completed"
    },
    "tags": []
   },
   "source": [
    "# **Focus on 3 main keys**\n",
    "\n",
    "* Understand the composition of current site traffic\n",
    "* Understand the flow and conversion path of users\n",
    "* Forecast product demand"
   ]
  },
  {
   "cell_type": "markdown",
   "id": "e4ca126d",
   "metadata": {
    "papermill": {
     "duration": 0.017298,
     "end_time": "2023-07-06T13:25:45.900137",
     "exception": false,
     "start_time": "2023-07-06T13:25:45.882839",
     "status": "completed"
    },
    "tags": []
   },
   "source": [
    "**In addition, we will use the following steps as a framework to organise our analysis**\n",
    "* Extract data and confirm structure/contents\n",
    "* Make our goals more concrete\n",
    "* Explore and analyse data\n",
    "* Visualise insights and interpret results"
   ]
  },
  {
   "cell_type": "code",
   "execution_count": 1,
   "id": "849efd11",
   "metadata": {
    "execution": {
     "iopub.execute_input": "2023-07-06T13:25:45.939079Z",
     "iopub.status.busy": "2023-07-06T13:25:45.938475Z",
     "iopub.status.idle": "2023-07-06T13:25:48.848369Z",
     "shell.execute_reply": "2023-07-06T13:25:48.846604Z"
    },
    "papermill": {
     "duration": 2.933782,
     "end_time": "2023-07-06T13:25:48.851986",
     "exception": false,
     "start_time": "2023-07-06T13:25:45.918204",
     "status": "completed"
    },
    "tags": []
   },
   "outputs": [
    {
     "data": {
      "text/html": [
       "        <script type=\"text/javascript\">\n",
       "        window.PlotlyConfig = {MathJaxConfig: 'local'};\n",
       "        if (window.MathJax && window.MathJax.Hub && window.MathJax.Hub.Config) {window.MathJax.Hub.Config({SVG: {font: \"STIX-Web\"}});}\n",
       "        if (typeof require !== 'undefined') {\n",
       "        require.undef(\"plotly\");\n",
       "        requirejs.config({\n",
       "            paths: {\n",
       "                'plotly': ['https://cdn.plot.ly/plotly-2.20.0.min']\n",
       "            }\n",
       "        });\n",
       "        require(['plotly'], function(Plotly) {\n",
       "            window._Plotly = Plotly;\n",
       "        });\n",
       "        }\n",
       "        </script>\n",
       "        "
      ]
     },
     "metadata": {},
     "output_type": "display_data"
    }
   ],
   "source": [
    "# Import libraries\n",
    "import pandas as pd \n",
    "import seaborn as sns\n",
    "import matplotlib.pyplot as plt\n",
    "sns.set()\n",
    "\n",
    "from plotly.offline import init_notebook_mode, iplot\n",
    "init_notebook_mode(connected=True)\n",
    "import plotly.graph_objs as go\n",
    "import plotly.express as px\n",
    "\n",
    "%matplotlib inline"
   ]
  },
  {
   "cell_type": "markdown",
   "id": "834d638b",
   "metadata": {
    "papermill": {
     "duration": 0.01906,
     "end_time": "2023-07-06T13:25:48.890792",
     "exception": false,
     "start_time": "2023-07-06T13:25:48.871732",
     "status": "completed"
    },
    "tags": []
   },
   "source": [
    "# 1. Extract Data and Confirm Structure/Contents\n",
    "First, let's connect to Bigquery and see what kind of data we'll be working with and how it's structured."
   ]
  },
  {
   "cell_type": "code",
   "execution_count": 2,
   "id": "5760b2aa",
   "metadata": {
    "execution": {
     "iopub.execute_input": "2023-07-06T13:25:48.931774Z",
     "iopub.status.busy": "2023-07-06T13:25:48.930620Z",
     "iopub.status.idle": "2023-07-06T13:25:49.430601Z",
     "shell.execute_reply": "2023-07-06T13:25:49.429393Z"
    },
    "papermill": {
     "duration": 0.523968,
     "end_time": "2023-07-06T13:25:49.433469",
     "exception": false,
     "start_time": "2023-07-06T13:25:48.909501",
     "status": "completed"
    },
    "tags": []
   },
   "outputs": [
    {
     "name": "stdout",
     "output_type": "stream",
     "text": [
      "Using Kaggle's public dataset BigQuery integration.\n"
     ]
    }
   ],
   "source": [
    "from google.cloud import bigquery\n",
    "\n",
    "# Create client object\n",
    "client = bigquery.Client()\n",
    "\n",
    "# Create dataset reference\n",
    "dataset_ref = client.dataset(\"google_analytics_sample\", project=\"bigquery-public-data\")\n",
    "\n",
    "# Retrieve dataset from reference\n",
    "dataset = client.get_dataset(dataset_ref)\n",
    "\n"
   ]
  },
  {
   "cell_type": "code",
   "execution_count": 3,
   "id": "ba88f721",
   "metadata": {
    "execution": {
     "iopub.execute_input": "2023-07-06T13:25:49.471923Z",
     "iopub.status.busy": "2023-07-06T13:25:49.471452Z",
     "iopub.status.idle": "2023-07-06T13:25:53.122796Z",
     "shell.execute_reply": "2023-07-06T13:25:53.121193Z"
    },
    "papermill": {
     "duration": 3.674343,
     "end_time": "2023-07-06T13:25:53.126079",
     "exception": false,
     "start_time": "2023-07-06T13:25:49.451736",
     "status": "completed"
    },
    "tags": []
   },
   "outputs": [
    {
     "data": {
      "text/plain": [
       "['ga_sessions_20160801',\n",
       " 'ga_sessions_20160802',\n",
       " 'ga_sessions_20160803',\n",
       " 'ga_sessions_20160804',\n",
       " 'ga_sessions_20160805']"
      ]
     },
     "execution_count": 3,
     "metadata": {},
     "output_type": "execute_result"
    }
   ],
   "source": [
    "# View tables in dataset\n",
    "[x.table_id for x in client.list_tables(dataset)][:5]"
   ]
  },
  {
   "cell_type": "code",
   "execution_count": 4,
   "id": "93fa390d",
   "metadata": {
    "execution": {
     "iopub.execute_input": "2023-07-06T13:25:53.167137Z",
     "iopub.status.busy": "2023-07-06T13:25:53.166397Z",
     "iopub.status.idle": "2023-07-06T13:25:55.832706Z",
     "shell.execute_reply": "2023-07-06T13:25:55.831466Z"
    },
    "papermill": {
     "duration": 2.690988,
     "end_time": "2023-07-06T13:25:55.835389",
     "exception": false,
     "start_time": "2023-07-06T13:25:53.144401",
     "status": "completed"
    },
    "tags": []
   },
   "outputs": [
    {
     "data": {
      "text/html": [
       "<div>\n",
       "<style scoped>\n",
       "    .dataframe tbody tr th:only-of-type {\n",
       "        vertical-align: middle;\n",
       "    }\n",
       "\n",
       "    .dataframe tbody tr th {\n",
       "        vertical-align: top;\n",
       "    }\n",
       "\n",
       "    .dataframe thead th {\n",
       "        text-align: right;\n",
       "    }\n",
       "</style>\n",
       "<table border=\"1\" class=\"dataframe\">\n",
       "  <thead>\n",
       "    <tr style=\"text-align: right;\">\n",
       "      <th></th>\n",
       "      <th>visitorId</th>\n",
       "      <th>visitNumber</th>\n",
       "      <th>visitId</th>\n",
       "      <th>visitStartTime</th>\n",
       "      <th>date</th>\n",
       "      <th>totals</th>\n",
       "      <th>trafficSource</th>\n",
       "      <th>device</th>\n",
       "      <th>geoNetwork</th>\n",
       "      <th>customDimensions</th>\n",
       "      <th>hits</th>\n",
       "      <th>fullVisitorId</th>\n",
       "      <th>userId</th>\n",
       "      <th>channelGrouping</th>\n",
       "      <th>socialEngagementType</th>\n",
       "    </tr>\n",
       "  </thead>\n",
       "  <tbody>\n",
       "    <tr>\n",
       "      <th>0</th>\n",
       "      <td>NaN</td>\n",
       "      <td>1</td>\n",
       "      <td>1470046245</td>\n",
       "      <td>1470046245</td>\n",
       "      <td>20160801</td>\n",
       "      <td>{'visits': 1, 'hits': 24, 'pageviews': 17, 'ti...</td>\n",
       "      <td>{'referralPath': None, 'campaign': '(not set)'...</td>\n",
       "      <td>{'browser': 'Firefox', 'browserVersion': 'not ...</td>\n",
       "      <td>{'continent': 'Europe', 'subContinent': 'Weste...</td>\n",
       "      <td>[{'index': 4, 'value': 'EMEA'}]</td>\n",
       "      <td>[{'hitNumber': 1, 'time': 0, 'hour': 3, 'minut...</td>\n",
       "      <td>895954260133011192</td>\n",
       "      <td>None</td>\n",
       "      <td>Organic Search</td>\n",
       "      <td>Not Socially Engaged</td>\n",
       "    </tr>\n",
       "    <tr>\n",
       "      <th>1</th>\n",
       "      <td>NaN</td>\n",
       "      <td>1</td>\n",
       "      <td>1470084717</td>\n",
       "      <td>1470084717</td>\n",
       "      <td>20160801</td>\n",
       "      <td>{'visits': 1, 'hits': 24, 'pageviews': 18, 'ti...</td>\n",
       "      <td>{'referralPath': None, 'campaign': '(not set)'...</td>\n",
       "      <td>{'browser': 'Internet Explorer', 'browserVersi...</td>\n",
       "      <td>{'continent': 'Americas', 'subContinent': 'Nor...</td>\n",
       "      <td>[{'index': 4, 'value': 'North America'}]</td>\n",
       "      <td>[{'hitNumber': 1, 'time': 0, 'hour': 13, 'minu...</td>\n",
       "      <td>0288478011259077136</td>\n",
       "      <td>None</td>\n",
       "      <td>Direct</td>\n",
       "      <td>Not Socially Engaged</td>\n",
       "    </tr>\n",
       "    <tr>\n",
       "      <th>2</th>\n",
       "      <td>NaN</td>\n",
       "      <td>3</td>\n",
       "      <td>1470078988</td>\n",
       "      <td>1470078988</td>\n",
       "      <td>20160801</td>\n",
       "      <td>{'visits': 1, 'hits': 27, 'pageviews': 17, 'ti...</td>\n",
       "      <td>{'referralPath': None, 'campaign': '(not set)'...</td>\n",
       "      <td>{'browser': 'Safari', 'browserVersion': 'not a...</td>\n",
       "      <td>{'continent': 'Americas', 'subContinent': 'Nor...</td>\n",
       "      <td>[{'index': 4, 'value': 'North America'}]</td>\n",
       "      <td>[{'hitNumber': 1, 'time': 0, 'hour': 12, 'minu...</td>\n",
       "      <td>6440789996634275026</td>\n",
       "      <td>None</td>\n",
       "      <td>Organic Search</td>\n",
       "      <td>Not Socially Engaged</td>\n",
       "    </tr>\n",
       "    <tr>\n",
       "      <th>3</th>\n",
       "      <td>NaN</td>\n",
       "      <td>4</td>\n",
       "      <td>1470075581</td>\n",
       "      <td>1470075581</td>\n",
       "      <td>20160801</td>\n",
       "      <td>{'visits': 1, 'hits': 27, 'pageviews': 19, 'ti...</td>\n",
       "      <td>{'referralPath': '/', 'campaign': '(not set)',...</td>\n",
       "      <td>{'browser': 'Chrome', 'browserVersion': 'not a...</td>\n",
       "      <td>{'continent': 'Americas', 'subContinent': 'Nor...</td>\n",
       "      <td>[{'index': 4, 'value': 'North America'}]</td>\n",
       "      <td>[{'hitNumber': 1, 'time': 0, 'hour': 11, 'minu...</td>\n",
       "      <td>8520115029387302083</td>\n",
       "      <td>None</td>\n",
       "      <td>Referral</td>\n",
       "      <td>Not Socially Engaged</td>\n",
       "    </tr>\n",
       "    <tr>\n",
       "      <th>4</th>\n",
       "      <td>NaN</td>\n",
       "      <td>30</td>\n",
       "      <td>1470099026</td>\n",
       "      <td>1470099026</td>\n",
       "      <td>20160801</td>\n",
       "      <td>{'visits': 1, 'hits': 27, 'pageviews': 17, 'ti...</td>\n",
       "      <td>{'referralPath': None, 'campaign': '(not set)'...</td>\n",
       "      <td>{'browser': 'Chrome', 'browserVersion': 'not a...</td>\n",
       "      <td>{'continent': 'Americas', 'subContinent': 'Nor...</td>\n",
       "      <td>[{'index': 4, 'value': 'North America'}]</td>\n",
       "      <td>[{'hitNumber': 1, 'time': 0, 'hour': 17, 'minu...</td>\n",
       "      <td>6792260745822342947</td>\n",
       "      <td>None</td>\n",
       "      <td>Organic Search</td>\n",
       "      <td>Not Socially Engaged</td>\n",
       "    </tr>\n",
       "  </tbody>\n",
       "</table>\n",
       "</div>"
      ],
      "text/plain": [
       "   visitorId  visitNumber     visitId  visitStartTime      date  \\\n",
       "0        NaN            1  1470046245      1470046245  20160801   \n",
       "1        NaN            1  1470084717      1470084717  20160801   \n",
       "2        NaN            3  1470078988      1470078988  20160801   \n",
       "3        NaN            4  1470075581      1470075581  20160801   \n",
       "4        NaN           30  1470099026      1470099026  20160801   \n",
       "\n",
       "                                              totals  \\\n",
       "0  {'visits': 1, 'hits': 24, 'pageviews': 17, 'ti...   \n",
       "1  {'visits': 1, 'hits': 24, 'pageviews': 18, 'ti...   \n",
       "2  {'visits': 1, 'hits': 27, 'pageviews': 17, 'ti...   \n",
       "3  {'visits': 1, 'hits': 27, 'pageviews': 19, 'ti...   \n",
       "4  {'visits': 1, 'hits': 27, 'pageviews': 17, 'ti...   \n",
       "\n",
       "                                       trafficSource  \\\n",
       "0  {'referralPath': None, 'campaign': '(not set)'...   \n",
       "1  {'referralPath': None, 'campaign': '(not set)'...   \n",
       "2  {'referralPath': None, 'campaign': '(not set)'...   \n",
       "3  {'referralPath': '/', 'campaign': '(not set)',...   \n",
       "4  {'referralPath': None, 'campaign': '(not set)'...   \n",
       "\n",
       "                                              device  \\\n",
       "0  {'browser': 'Firefox', 'browserVersion': 'not ...   \n",
       "1  {'browser': 'Internet Explorer', 'browserVersi...   \n",
       "2  {'browser': 'Safari', 'browserVersion': 'not a...   \n",
       "3  {'browser': 'Chrome', 'browserVersion': 'not a...   \n",
       "4  {'browser': 'Chrome', 'browserVersion': 'not a...   \n",
       "\n",
       "                                          geoNetwork  \\\n",
       "0  {'continent': 'Europe', 'subContinent': 'Weste...   \n",
       "1  {'continent': 'Americas', 'subContinent': 'Nor...   \n",
       "2  {'continent': 'Americas', 'subContinent': 'Nor...   \n",
       "3  {'continent': 'Americas', 'subContinent': 'Nor...   \n",
       "4  {'continent': 'Americas', 'subContinent': 'Nor...   \n",
       "\n",
       "                           customDimensions  \\\n",
       "0           [{'index': 4, 'value': 'EMEA'}]   \n",
       "1  [{'index': 4, 'value': 'North America'}]   \n",
       "2  [{'index': 4, 'value': 'North America'}]   \n",
       "3  [{'index': 4, 'value': 'North America'}]   \n",
       "4  [{'index': 4, 'value': 'North America'}]   \n",
       "\n",
       "                                                hits        fullVisitorId  \\\n",
       "0  [{'hitNumber': 1, 'time': 0, 'hour': 3, 'minut...   895954260133011192   \n",
       "1  [{'hitNumber': 1, 'time': 0, 'hour': 13, 'minu...  0288478011259077136   \n",
       "2  [{'hitNumber': 1, 'time': 0, 'hour': 12, 'minu...  6440789996634275026   \n",
       "3  [{'hitNumber': 1, 'time': 0, 'hour': 11, 'minu...  8520115029387302083   \n",
       "4  [{'hitNumber': 1, 'time': 0, 'hour': 17, 'minu...  6792260745822342947   \n",
       "\n",
       "  userId channelGrouping  socialEngagementType  \n",
       "0   None  Organic Search  Not Socially Engaged  \n",
       "1   None          Direct  Not Socially Engaged  \n",
       "2   None  Organic Search  Not Socially Engaged  \n",
       "3   None        Referral  Not Socially Engaged  \n",
       "4   None  Organic Search  Not Socially Engaged  "
      ]
     },
     "execution_count": 4,
     "metadata": {},
     "output_type": "execute_result"
    }
   ],
   "source": [
    "# Create table reference\n",
    "table_ref_20160801 = dataset_ref.table('ga_sessions_20160801')\n",
    "\n",
    "# Retrieve table from reference\n",
    "table_20160801 = client.get_table(table_ref_20160801)\n",
    "\n",
    "# View columns\n",
    "client.list_rows(table_20160801, max_results=5).to_dataframe()"
   ]
  },
  {
   "cell_type": "code",
   "execution_count": 5,
   "id": "7956a337",
   "metadata": {
    "execution": {
     "iopub.execute_input": "2023-07-06T13:25:55.876064Z",
     "iopub.status.busy": "2023-07-06T13:25:55.875579Z",
     "iopub.status.idle": "2023-07-06T13:25:55.885486Z",
     "shell.execute_reply": "2023-07-06T13:25:55.883915Z"
    },
    "papermill": {
     "duration": 0.033752,
     "end_time": "2023-07-06T13:25:55.888301",
     "exception": false,
     "start_time": "2023-07-06T13:25:55.854549",
     "status": "completed"
    },
    "tags": []
   },
   "outputs": [
    {
     "name": "stdout",
     "output_type": "stream",
     "text": [
      "SchemaField('trafficSource', 'RECORD', 'NULLABLE', None, (SchemaField('referralPath', 'STRING', 'NULLABLE', None, (), None), SchemaField('campaign', 'STRING', 'NULLABLE', None, (), None), SchemaField('source', 'STRING', 'NULLABLE', None, (), None), SchemaField('medium', 'STRING', 'NULLABLE', None, (), None), SchemaField('keyword', 'STRING', 'NULLABLE', None, (), None), SchemaField('adContent', 'STRING', 'NULLABLE', None, (), None), SchemaField('adwordsClickInfo', 'RECORD', 'NULLABLE', None, (SchemaField('campaignId', 'INTEGER', 'NULLABLE', None, (), None), SchemaField('adGroupId', 'INTEGER', 'NULLABLE', None, (), None), SchemaField('creativeId', 'INTEGER', 'NULLABLE', None, (), None), SchemaField('criteriaId', 'INTEGER', 'NULLABLE', None, (), None), SchemaField('page', 'INTEGER', 'NULLABLE', None, (), None), SchemaField('slot', 'STRING', 'NULLABLE', None, (), None), SchemaField('criteriaParameters', 'STRING', 'NULLABLE', None, (), None), SchemaField('gclId', 'STRING', 'NULLABLE', None, (), None), SchemaField('customerId', 'INTEGER', 'NULLABLE', None, (), None), SchemaField('adNetworkType', 'STRING', 'NULLABLE', None, (), None), SchemaField('targetingCriteria', 'RECORD', 'NULLABLE', None, (SchemaField('boomUserlistId', 'INTEGER', 'NULLABLE', None, (), None),), None), SchemaField('isVideoAd', 'BOOLEAN', 'NULLABLE', None, (), None)), None), SchemaField('isTrueDirect', 'BOOLEAN', 'NULLABLE', None, (), None), SchemaField('campaignCode', 'STRING', 'NULLABLE', None, (), None)), None)\n"
     ]
    }
   ],
   "source": [
    "print(table_20160801.schema[6])"
   ]
  },
  {
   "cell_type": "code",
   "execution_count": 6,
   "id": "aa474376",
   "metadata": {
    "execution": {
     "iopub.execute_input": "2023-07-06T13:25:55.931539Z",
     "iopub.status.busy": "2023-07-06T13:25:55.931116Z",
     "iopub.status.idle": "2023-07-06T13:26:10.009115Z",
     "shell.execute_reply": "2023-07-06T13:26:10.007589Z"
    },
    "papermill": {
     "duration": 14.10356,
     "end_time": "2023-07-06T13:26:10.012246",
     "exception": false,
     "start_time": "2023-07-06T13:25:55.908686",
     "status": "completed"
    },
    "tags": []
   },
   "outputs": [
    {
     "data": {
      "text/html": [
       "<div>\n",
       "<style scoped>\n",
       "    .dataframe tbody tr th:only-of-type {\n",
       "        vertical-align: middle;\n",
       "    }\n",
       "\n",
       "    .dataframe tbody tr th {\n",
       "        vertical-align: top;\n",
       "    }\n",
       "\n",
       "    .dataframe thead th {\n",
       "        text-align: right;\n",
       "    }\n",
       "</style>\n",
       "<table border=\"1\" class=\"dataframe\">\n",
       "  <thead>\n",
       "    <tr style=\"text-align: right;\">\n",
       "      <th></th>\n",
       "      <th>trafficSource</th>\n",
       "    </tr>\n",
       "  </thead>\n",
       "  <tbody>\n",
       "    <tr>\n",
       "      <th>0</th>\n",
       "      <td>{'referralPath': '/yt/about/', 'campaign': '(n...</td>\n",
       "    </tr>\n",
       "    <tr>\n",
       "      <th>1</th>\n",
       "      <td>{'referralPath': None, 'campaign': '(not set)'...</td>\n",
       "    </tr>\n",
       "    <tr>\n",
       "      <th>2</th>\n",
       "      <td>{'referralPath': None, 'campaign': '(not set)'...</td>\n",
       "    </tr>\n",
       "    <tr>\n",
       "      <th>3</th>\n",
       "      <td>{'referralPath': None, 'campaign': '(not set)'...</td>\n",
       "    </tr>\n",
       "    <tr>\n",
       "      <th>4</th>\n",
       "      <td>{'referralPath': None, 'campaign': '(not set)'...</td>\n",
       "    </tr>\n",
       "    <tr>\n",
       "      <th>5</th>\n",
       "      <td>{'referralPath': None, 'campaign': '(not set)'...</td>\n",
       "    </tr>\n",
       "    <tr>\n",
       "      <th>6</th>\n",
       "      <td>{'referralPath': '/analytics/web/', 'campaign'...</td>\n",
       "    </tr>\n",
       "    <tr>\n",
       "      <th>7</th>\n",
       "      <td>{'referralPath': None, 'campaign': '(not set)'...</td>\n",
       "    </tr>\n",
       "    <tr>\n",
       "      <th>8</th>\n",
       "      <td>{'referralPath': None, 'campaign': '(not set)'...</td>\n",
       "    </tr>\n",
       "    <tr>\n",
       "      <th>9</th>\n",
       "      <td>{'referralPath': None, 'campaign': '(not set)'...</td>\n",
       "    </tr>\n",
       "  </tbody>\n",
       "</table>\n",
       "</div>"
      ],
      "text/plain": [
       "                                       trafficSource\n",
       "0  {'referralPath': '/yt/about/', 'campaign': '(n...\n",
       "1  {'referralPath': None, 'campaign': '(not set)'...\n",
       "2  {'referralPath': None, 'campaign': '(not set)'...\n",
       "3  {'referralPath': None, 'campaign': '(not set)'...\n",
       "4  {'referralPath': None, 'campaign': '(not set)'...\n",
       "5  {'referralPath': None, 'campaign': '(not set)'...\n",
       "6  {'referralPath': '/analytics/web/', 'campaign'...\n",
       "7  {'referralPath': None, 'campaign': '(not set)'...\n",
       "8  {'referralPath': None, 'campaign': '(not set)'...\n",
       "9  {'referralPath': None, 'campaign': '(not set)'..."
      ]
     },
     "execution_count": 6,
     "metadata": {},
     "output_type": "execute_result"
    }
   ],
   "source": [
    "query = \"\"\"\n",
    "        SELECT \n",
    "          trafficSource  \n",
    "        FROM \n",
    "            `bigquery-public-data.google_analytics_sample.ga_sessions_*`    \n",
    "        WHERE\n",
    "            _TABLE_SUFFIX BETWEEN '20160801' AND '20170801'\n",
    "        LIMIT 10\n",
    "        \"\"\"\n",
    "\n",
    "result = client.query(query).result().to_dataframe()\n",
    "result.head(10)"
   ]
  },
  {
   "cell_type": "markdown",
   "id": "4668c600",
   "metadata": {
    "papermill": {
     "duration": 0.021221,
     "end_time": "2023-07-06T13:26:10.051851",
     "exception": false,
     "start_time": "2023-07-06T13:26:10.030630",
     "status": "completed"
    },
    "tags": []
   },
   "source": [
    "It looks like the totals, trafficSource, device, geoNetwork, customDimensions, and hits columns contain nested data.\n",
    "\n",
    "Let's check the schema for these columns and see what kind of data they contain."
   ]
  },
  {
   "cell_type": "code",
   "execution_count": 7,
   "id": "9900db8f",
   "metadata": {
    "execution": {
     "iopub.execute_input": "2023-07-06T13:26:10.103958Z",
     "iopub.status.busy": "2023-07-06T13:26:10.102587Z",
     "iopub.status.idle": "2023-07-06T13:26:10.136165Z",
     "shell.execute_reply": "2023-07-06T13:26:10.133646Z"
    },
    "papermill": {
     "duration": 0.06419,
     "end_time": "2023-07-06T13:26:10.139749",
     "exception": false,
     "start_time": "2023-07-06T13:26:10.075559",
     "status": "completed"
    },
    "tags": []
   },
   "outputs": [
    {
     "name": "stdout",
     "output_type": "stream",
     "text": [
      "SCHEMA field for the 'totals' column:\n",
      "\n",
      "SchemaField('totals', 'RECORD', 'NULLABLE', None, (SchemaField('visits', 'INTEGER', 'NULLABLE', None, (), None), SchemaField('hits', 'INTEGER', 'NULLABLE', None, (), None), SchemaField('pageviews', 'INTEGER', 'NULLABLE', None, (), None), SchemaField('timeOnSite', 'INTEGER', 'NULLABLE', None, (), None), SchemaField('bounces', 'INTEGER', 'NULLABLE', None, (), None), SchemaField('transactions', 'INTEGER', 'NULLABLE', None, (), None), SchemaField('transactionRevenue', 'INTEGER', 'NULLABLE', None, (), None), SchemaField('newVisits', 'INTEGER', 'NULLABLE', None, (), None), SchemaField('screenviews', 'INTEGER', 'NULLABLE', None, (), None), SchemaField('uniqueScreenviews', 'INTEGER', 'NULLABLE', None, (), None), SchemaField('timeOnScreen', 'INTEGER', 'NULLABLE', None, (), None), SchemaField('totalTransactionRevenue', 'INTEGER', 'NULLABLE', None, (), None), SchemaField('sessionQualityDim', 'INTEGER', 'NULLABLE', None, (), None)), None)\n",
      "\n",
      "SCHEMA field for the 'trafficSource' column:\n",
      "\n",
      "SchemaField('trafficSource', 'RECORD', 'NULLABLE', None, (SchemaField('referralPath', 'STRING', 'NULLABLE', None, (), None), SchemaField('campaign', 'STRING', 'NULLABLE', None, (), None), SchemaField('source', 'STRING', 'NULLABLE', None, (), None), SchemaField('medium', 'STRING', 'NULLABLE', None, (), None), SchemaField('keyword', 'STRING', 'NULLABLE', None, (), None), SchemaField('adContent', 'STRING', 'NULLABLE', None, (), None), SchemaField('adwordsClickInfo', 'RECORD', 'NULLABLE', None, (SchemaField('campaignId', 'INTEGER', 'NULLABLE', None, (), None), SchemaField('adGroupId', 'INTEGER', 'NULLABLE', None, (), None), SchemaField('creativeId', 'INTEGER', 'NULLABLE', None, (), None), SchemaField('criteriaId', 'INTEGER', 'NULLABLE', None, (), None), SchemaField('page', 'INTEGER', 'NULLABLE', None, (), None), SchemaField('slot', 'STRING', 'NULLABLE', None, (), None), SchemaField('criteriaParameters', 'STRING', 'NULLABLE', None, (), None), SchemaField('gclId', 'STRING', 'NULLABLE', None, (), None), SchemaField('customerId', 'INTEGER', 'NULLABLE', None, (), None), SchemaField('adNetworkType', 'STRING', 'NULLABLE', None, (), None), SchemaField('targetingCriteria', 'RECORD', 'NULLABLE', None, (SchemaField('boomUserlistId', 'INTEGER', 'NULLABLE', None, (), None),), None), SchemaField('isVideoAd', 'BOOLEAN', 'NULLABLE', None, (), None)), None), SchemaField('isTrueDirect', 'BOOLEAN', 'NULLABLE', None, (), None), SchemaField('campaignCode', 'STRING', 'NULLABLE', None, (), None)), None)\n",
      "\n",
      "SCHEMA field for the 'device' column:\n",
      "\n",
      "SchemaField('device', 'RECORD', 'NULLABLE', None, (SchemaField('browser', 'STRING', 'NULLABLE', None, (), None), SchemaField('browserVersion', 'STRING', 'NULLABLE', None, (), None), SchemaField('browserSize', 'STRING', 'NULLABLE', None, (), None), SchemaField('operatingSystem', 'STRING', 'NULLABLE', None, (), None), SchemaField('operatingSystemVersion', 'STRING', 'NULLABLE', None, (), None), SchemaField('isMobile', 'BOOLEAN', 'NULLABLE', None, (), None), SchemaField('mobileDeviceBranding', 'STRING', 'NULLABLE', None, (), None), SchemaField('mobileDeviceModel', 'STRING', 'NULLABLE', None, (), None), SchemaField('mobileInputSelector', 'STRING', 'NULLABLE', None, (), None), SchemaField('mobileDeviceInfo', 'STRING', 'NULLABLE', None, (), None), SchemaField('mobileDeviceMarketingName', 'STRING', 'NULLABLE', None, (), None), SchemaField('flashVersion', 'STRING', 'NULLABLE', None, (), None), SchemaField('javaEnabled', 'BOOLEAN', 'NULLABLE', None, (), None), SchemaField('language', 'STRING', 'NULLABLE', None, (), None), SchemaField('screenColors', 'STRING', 'NULLABLE', None, (), None), SchemaField('screenResolution', 'STRING', 'NULLABLE', None, (), None), SchemaField('deviceCategory', 'STRING', 'NULLABLE', None, (), None)), None)\n",
      "\n",
      "SCHEMA field for the 'geoNetwork' column:\n",
      "\n",
      "SchemaField('geoNetwork', 'RECORD', 'NULLABLE', None, (SchemaField('continent', 'STRING', 'NULLABLE', None, (), None), SchemaField('subContinent', 'STRING', 'NULLABLE', None, (), None), SchemaField('country', 'STRING', 'NULLABLE', None, (), None), SchemaField('region', 'STRING', 'NULLABLE', None, (), None), SchemaField('metro', 'STRING', 'NULLABLE', None, (), None), SchemaField('city', 'STRING', 'NULLABLE', None, (), None), SchemaField('cityId', 'STRING', 'NULLABLE', None, (), None), SchemaField('networkDomain', 'STRING', 'NULLABLE', None, (), None), SchemaField('latitude', 'STRING', 'NULLABLE', None, (), None), SchemaField('longitude', 'STRING', 'NULLABLE', None, (), None), SchemaField('networkLocation', 'STRING', 'NULLABLE', None, (), None)), None)\n",
      "\n",
      "SCHEMA field for the 'customDimensions' column:\n",
      "\n",
      "SchemaField('customDimensions', 'RECORD', 'REPEATED', None, (SchemaField('index', 'INTEGER', 'NULLABLE', None, (), None), SchemaField('value', 'STRING', 'NULLABLE', None, (), None)), None)\n",
      "\n",
      "SCHEMA field for the 'hits' column:\n",
      "\n",
      "SchemaField('hits', 'RECORD', 'REPEATED', None, (SchemaField('hitNumber', 'INTEGER', 'NULLABLE', None, (), None), SchemaField('time', 'INTEGER', 'NULLABLE', None, (), None), SchemaField('hour', 'INTEGER', 'NULLABLE', None, (), None), SchemaField('minute', 'INTEGER', 'NULLABLE', None, (), None), SchemaField('isSecure', 'BOOLEAN', 'NULLABLE', None, (), None), SchemaField('isInteraction', 'BOOLEAN', 'NULLABLE', None, (), None), SchemaField('isEntrance', 'BOOLEAN', 'NULLABLE', None, (), None), SchemaField('isExit', 'BOOLEAN', 'NULLABLE', None, (), None), SchemaField('referer', 'STRING', 'NULLABLE', None, (), None), SchemaField('page', 'RECORD', 'NULLABLE', None, (SchemaField('pagePath', 'STRING', 'NULLABLE', None, (), None), SchemaField('hostname', 'STRING', 'NULLABLE', None, (), None), SchemaField('pageTitle', 'STRING', 'NULLABLE', None, (), None), SchemaField('searchKeyword', 'STRING', 'NULLABLE', None, (), None), SchemaField('searchCategory', 'STRING', 'NULLABLE', None, (), None), SchemaField('pagePathLevel1', 'STRING', 'NULLABLE', None, (), None), SchemaField('pagePathLevel2', 'STRING', 'NULLABLE', None, (), None), SchemaField('pagePathLevel3', 'STRING', 'NULLABLE', None, (), None), SchemaField('pagePathLevel4', 'STRING', 'NULLABLE', None, (), None)), None), SchemaField('transaction', 'RECORD', 'NULLABLE', None, (SchemaField('transactionId', 'STRING', 'NULLABLE', None, (), None), SchemaField('transactionRevenue', 'INTEGER', 'NULLABLE', None, (), None), SchemaField('transactionTax', 'INTEGER', 'NULLABLE', None, (), None), SchemaField('transactionShipping', 'INTEGER', 'NULLABLE', None, (), None), SchemaField('affiliation', 'STRING', 'NULLABLE', None, (), None), SchemaField('currencyCode', 'STRING', 'NULLABLE', None, (), None), SchemaField('localTransactionRevenue', 'INTEGER', 'NULLABLE', None, (), None), SchemaField('localTransactionTax', 'INTEGER', 'NULLABLE', None, (), None), SchemaField('localTransactionShipping', 'INTEGER', 'NULLABLE', None, (), None), SchemaField('transactionCoupon', 'STRING', 'NULLABLE', None, (), None)), None), SchemaField('item', 'RECORD', 'NULLABLE', None, (SchemaField('transactionId', 'STRING', 'NULLABLE', None, (), None), SchemaField('productName', 'STRING', 'NULLABLE', None, (), None), SchemaField('productCategory', 'STRING', 'NULLABLE', None, (), None), SchemaField('productSku', 'STRING', 'NULLABLE', None, (), None), SchemaField('itemQuantity', 'INTEGER', 'NULLABLE', None, (), None), SchemaField('itemRevenue', 'INTEGER', 'NULLABLE', None, (), None), SchemaField('currencyCode', 'STRING', 'NULLABLE', None, (), None), SchemaField('localItemRevenue', 'INTEGER', 'NULLABLE', None, (), None)), None), SchemaField('contentInfo', 'RECORD', 'NULLABLE', None, (SchemaField('contentDescription', 'STRING', 'NULLABLE', None, (), None),), None), SchemaField('appInfo', 'RECORD', 'NULLABLE', None, (SchemaField('name', 'STRING', 'NULLABLE', None, (), None), SchemaField('version', 'STRING', 'NULLABLE', None, (), None), SchemaField('id', 'STRING', 'NULLABLE', None, (), None), SchemaField('installerId', 'STRING', 'NULLABLE', None, (), None), SchemaField('appInstallerId', 'STRING', 'NULLABLE', None, (), None), SchemaField('appName', 'STRING', 'NULLABLE', None, (), None), SchemaField('appVersion', 'STRING', 'NULLABLE', None, (), None), SchemaField('appId', 'STRING', 'NULLABLE', None, (), None), SchemaField('screenName', 'STRING', 'NULLABLE', None, (), None), SchemaField('landingScreenName', 'STRING', 'NULLABLE', None, (), None), SchemaField('exitScreenName', 'STRING', 'NULLABLE', None, (), None), SchemaField('screenDepth', 'STRING', 'NULLABLE', None, (), None)), None), SchemaField('exceptionInfo', 'RECORD', 'NULLABLE', None, (SchemaField('description', 'STRING', 'NULLABLE', None, (), None), SchemaField('isFatal', 'BOOLEAN', 'NULLABLE', None, (), None), SchemaField('exceptions', 'INTEGER', 'NULLABLE', None, (), None), SchemaField('fatalExceptions', 'INTEGER', 'NULLABLE', None, (), None)), None), SchemaField('eventInfo', 'RECORD', 'NULLABLE', None, (SchemaField('eventCategory', 'STRING', 'NULLABLE', None, (), None), SchemaField('eventAction', 'STRING', 'NULLABLE', None, (), None), SchemaField('eventLabel', 'STRING', 'NULLABLE', None, (), None), SchemaField('eventValue', 'INTEGER', 'NULLABLE', None, (), None)), None), SchemaField('product', 'RECORD', 'REPEATED', None, (SchemaField('productSKU', 'STRING', 'NULLABLE', None, (), None), SchemaField('v2ProductName', 'STRING', 'NULLABLE', None, (), None), SchemaField('v2ProductCategory', 'STRING', 'NULLABLE', None, (), None), SchemaField('productVariant', 'STRING', 'NULLABLE', None, (), None), SchemaField('productBrand', 'STRING', 'NULLABLE', None, (), None), SchemaField('productRevenue', 'INTEGER', 'NULLABLE', None, (), None), SchemaField('localProductRevenue', 'INTEGER', 'NULLABLE', None, (), None), SchemaField('productPrice', 'INTEGER', 'NULLABLE', None, (), None), SchemaField('localProductPrice', 'INTEGER', 'NULLABLE', None, (), None), SchemaField('productQuantity', 'INTEGER', 'NULLABLE', None, (), None), SchemaField('productRefundAmount', 'INTEGER', 'NULLABLE', None, (), None), SchemaField('localProductRefundAmount', 'INTEGER', 'NULLABLE', None, (), None), SchemaField('isImpression', 'BOOLEAN', 'NULLABLE', None, (), None), SchemaField('isClick', 'BOOLEAN', 'NULLABLE', None, (), None), SchemaField('customDimensions', 'RECORD', 'REPEATED', None, (SchemaField('index', 'INTEGER', 'NULLABLE', None, (), None), SchemaField('value', 'STRING', 'NULLABLE', None, (), None)), None), SchemaField('customMetrics', 'RECORD', 'REPEATED', None, (SchemaField('index', 'INTEGER', 'NULLABLE', None, (), None), SchemaField('value', 'INTEGER', 'NULLABLE', None, (), None)), None), SchemaField('productListName', 'STRING', 'NULLABLE', None, (), None), SchemaField('productListPosition', 'INTEGER', 'NULLABLE', None, (), None)), None), SchemaField('promotion', 'RECORD', 'REPEATED', None, (SchemaField('promoId', 'STRING', 'NULLABLE', None, (), None), SchemaField('promoName', 'STRING', 'NULLABLE', None, (), None), SchemaField('promoCreative', 'STRING', 'NULLABLE', None, (), None), SchemaField('promoPosition', 'STRING', 'NULLABLE', None, (), None)), None), SchemaField('promotionActionInfo', 'RECORD', 'NULLABLE', None, (SchemaField('promoIsView', 'BOOLEAN', 'NULLABLE', None, (), None), SchemaField('promoIsClick', 'BOOLEAN', 'NULLABLE', None, (), None)), None), SchemaField('refund', 'RECORD', 'NULLABLE', None, (SchemaField('refundAmount', 'INTEGER', 'NULLABLE', None, (), None), SchemaField('localRefundAmount', 'INTEGER', 'NULLABLE', None, (), None)), None), SchemaField('eCommerceAction', 'RECORD', 'NULLABLE', None, (SchemaField('action_type', 'STRING', 'NULLABLE', None, (), None), SchemaField('step', 'INTEGER', 'NULLABLE', None, (), None), SchemaField('option', 'STRING', 'NULLABLE', None, (), None)), None), SchemaField('experiment', 'RECORD', 'REPEATED', None, (SchemaField('experimentId', 'STRING', 'NULLABLE', None, (), None), SchemaField('experimentVariant', 'STRING', 'NULLABLE', None, (), None)), None), SchemaField('publisher', 'RECORD', 'NULLABLE', None, (SchemaField('dfpClicks', 'INTEGER', 'NULLABLE', None, (), None), SchemaField('dfpImpressions', 'INTEGER', 'NULLABLE', None, (), None), SchemaField('dfpMatchedQueries', 'INTEGER', 'NULLABLE', None, (), None), SchemaField('dfpMeasurableImpressions', 'INTEGER', 'NULLABLE', None, (), None), SchemaField('dfpQueries', 'INTEGER', 'NULLABLE', None, (), None), SchemaField('dfpRevenueCpm', 'INTEGER', 'NULLABLE', None, (), None), SchemaField('dfpRevenueCpc', 'INTEGER', 'NULLABLE', None, (), None), SchemaField('dfpViewableImpressions', 'INTEGER', 'NULLABLE', None, (), None), SchemaField('dfpPagesViewed', 'INTEGER', 'NULLABLE', None, (), None), SchemaField('adsenseBackfillDfpClicks', 'INTEGER', 'NULLABLE', None, (), None), SchemaField('adsenseBackfillDfpImpressions', 'INTEGER', 'NULLABLE', None, (), None), SchemaField('adsenseBackfillDfpMatchedQueries', 'INTEGER', 'NULLABLE', None, (), None), SchemaField('adsenseBackfillDfpMeasurableImpressions', 'INTEGER', 'NULLABLE', None, (), None), SchemaField('adsenseBackfillDfpQueries', 'INTEGER', 'NULLABLE', None, (), None), SchemaField('adsenseBackfillDfpRevenueCpm', 'INTEGER', 'NULLABLE', None, (), None), SchemaField('adsenseBackfillDfpRevenueCpc', 'INTEGER', 'NULLABLE', None, (), None), SchemaField('adsenseBackfillDfpViewableImpressions', 'INTEGER', 'NULLABLE', None, (), None), SchemaField('adsenseBackfillDfpPagesViewed', 'INTEGER', 'NULLABLE', None, (), None), SchemaField('adxBackfillDfpClicks', 'INTEGER', 'NULLABLE', None, (), None), SchemaField('adxBackfillDfpImpressions', 'INTEGER', 'NULLABLE', None, (), None), SchemaField('adxBackfillDfpMatchedQueries', 'INTEGER', 'NULLABLE', None, (), None), SchemaField('adxBackfillDfpMeasurableImpressions', 'INTEGER', 'NULLABLE', None, (), None), SchemaField('adxBackfillDfpQueries', 'INTEGER', 'NULLABLE', None, (), None), SchemaField('adxBackfillDfpRevenueCpm', 'INTEGER', 'NULLABLE', None, (), None), SchemaField('adxBackfillDfpRevenueCpc', 'INTEGER', 'NULLABLE', None, (), None), SchemaField('adxBackfillDfpViewableImpressions', 'INTEGER', 'NULLABLE', None, (), None), SchemaField('adxBackfillDfpPagesViewed', 'INTEGER', 'NULLABLE', None, (), None), SchemaField('adxClicks', 'INTEGER', 'NULLABLE', None, (), None), SchemaField('adxImpressions', 'INTEGER', 'NULLABLE', None, (), None), SchemaField('adxMatchedQueries', 'INTEGER', 'NULLABLE', None, (), None), SchemaField('adxMeasurableImpressions', 'INTEGER', 'NULLABLE', None, (), None), SchemaField('adxQueries', 'INTEGER', 'NULLABLE', None, (), None), SchemaField('adxRevenue', 'INTEGER', 'NULLABLE', None, (), None), SchemaField('adxViewableImpressions', 'INTEGER', 'NULLABLE', None, (), None), SchemaField('adxPagesViewed', 'INTEGER', 'NULLABLE', None, (), None), SchemaField('adsViewed', 'INTEGER', 'NULLABLE', None, (), None), SchemaField('adsUnitsViewed', 'INTEGER', 'NULLABLE', None, (), None), SchemaField('adsUnitsMatched', 'INTEGER', 'NULLABLE', None, (), None), SchemaField('viewableAdsViewed', 'INTEGER', 'NULLABLE', None, (), None), SchemaField('measurableAdsViewed', 'INTEGER', 'NULLABLE', None, (), None), SchemaField('adsPagesViewed', 'INTEGER', 'NULLABLE', None, (), None), SchemaField('adsClicked', 'INTEGER', 'NULLABLE', None, (), None), SchemaField('adsRevenue', 'INTEGER', 'NULLABLE', None, (), None), SchemaField('dfpAdGroup', 'STRING', 'NULLABLE', None, (), None), SchemaField('dfpAdUnits', 'STRING', 'NULLABLE', None, (), None), SchemaField('dfpNetworkId', 'STRING', 'NULLABLE', None, (), None)), None), SchemaField('customVariables', 'RECORD', 'REPEATED', None, (SchemaField('index', 'INTEGER', 'NULLABLE', None, (), None), SchemaField('customVarName', 'STRING', 'NULLABLE', None, (), None), SchemaField('customVarValue', 'STRING', 'NULLABLE', None, (), None)), None), SchemaField('customDimensions', 'RECORD', 'REPEATED', None, (SchemaField('index', 'INTEGER', 'NULLABLE', None, (), None), SchemaField('value', 'STRING', 'NULLABLE', None, (), None)), None), SchemaField('customMetrics', 'RECORD', 'REPEATED', None, (SchemaField('index', 'INTEGER', 'NULLABLE', None, (), None), SchemaField('value', 'INTEGER', 'NULLABLE', None, (), None)), None), SchemaField('type', 'STRING', 'NULLABLE', None, (), None), SchemaField('social', 'RECORD', 'NULLABLE', None, (SchemaField('socialInteractionNetwork', 'STRING', 'NULLABLE', None, (), None), SchemaField('socialInteractionAction', 'STRING', 'NULLABLE', None, (), None), SchemaField('socialInteractions', 'INTEGER', 'NULLABLE', None, (), None), SchemaField('socialInteractionTarget', 'STRING', 'NULLABLE', None, (), None), SchemaField('socialNetwork', 'STRING', 'NULLABLE', None, (), None), SchemaField('uniqueSocialInteractions', 'INTEGER', 'NULLABLE', None, (), None), SchemaField('hasSocialSourceReferral', 'STRING', 'NULLABLE', None, (), None), SchemaField('socialInteractionNetworkAction', 'STRING', 'NULLABLE', None, (), None)), None), SchemaField('latencyTracking', 'RECORD', 'NULLABLE', None, (SchemaField('pageLoadSample', 'INTEGER', 'NULLABLE', None, (), None), SchemaField('pageLoadTime', 'INTEGER', 'NULLABLE', None, (), None), SchemaField('pageDownloadTime', 'INTEGER', 'NULLABLE', None, (), None), SchemaField('redirectionTime', 'INTEGER', 'NULLABLE', None, (), None), SchemaField('speedMetricsSample', 'INTEGER', 'NULLABLE', None, (), None), SchemaField('domainLookupTime', 'INTEGER', 'NULLABLE', None, (), None), SchemaField('serverConnectionTime', 'INTEGER', 'NULLABLE', None, (), None), SchemaField('serverResponseTime', 'INTEGER', 'NULLABLE', None, (), None), SchemaField('domLatencyMetricsSample', 'INTEGER', 'NULLABLE', None, (), None), SchemaField('domInteractiveTime', 'INTEGER', 'NULLABLE', None, (), None), SchemaField('domContentLoadedTime', 'INTEGER', 'NULLABLE', None, (), None), SchemaField('userTimingValue', 'INTEGER', 'NULLABLE', None, (), None), SchemaField('userTimingSample', 'INTEGER', 'NULLABLE', None, (), None), SchemaField('userTimingVariable', 'STRING', 'NULLABLE', None, (), None), SchemaField('userTimingCategory', 'STRING', 'NULLABLE', None, (), None), SchemaField('userTimingLabel', 'STRING', 'NULLABLE', None, (), None)), None), SchemaField('sourcePropertyInfo', 'RECORD', 'NULLABLE', None, (SchemaField('sourcePropertyDisplayName', 'STRING', 'NULLABLE', None, (), None), SchemaField('sourcePropertyTrackingId', 'STRING', 'NULLABLE', None, (), None)), None), SchemaField('contentGroup', 'RECORD', 'NULLABLE', None, (SchemaField('contentGroup1', 'STRING', 'NULLABLE', None, (), None), SchemaField('contentGroup2', 'STRING', 'NULLABLE', None, (), None), SchemaField('contentGroup3', 'STRING', 'NULLABLE', None, (), None), SchemaField('contentGroup4', 'STRING', 'NULLABLE', None, (), None), SchemaField('contentGroup5', 'STRING', 'NULLABLE', None, (), None), SchemaField('previousContentGroup1', 'STRING', 'NULLABLE', None, (), None), SchemaField('previousContentGroup2', 'STRING', 'NULLABLE', None, (), None), SchemaField('previousContentGroup3', 'STRING', 'NULLABLE', None, (), None), SchemaField('previousContentGroup4', 'STRING', 'NULLABLE', None, (), None), SchemaField('previousContentGroup5', 'STRING', 'NULLABLE', None, (), None), SchemaField('contentGroupUniqueViews1', 'INTEGER', 'NULLABLE', None, (), None), SchemaField('contentGroupUniqueViews2', 'INTEGER', 'NULLABLE', None, (), None), SchemaField('contentGroupUniqueViews3', 'INTEGER', 'NULLABLE', None, (), None), SchemaField('contentGroupUniqueViews4', 'INTEGER', 'NULLABLE', None, (), None), SchemaField('contentGroupUniqueViews5', 'INTEGER', 'NULLABLE', None, (), None)), None), SchemaField('dataSource', 'STRING', 'NULLABLE', None, (), None), SchemaField('publisher_infos', 'RECORD', 'REPEATED', None, (SchemaField('dfpClicks', 'INTEGER', 'NULLABLE', None, (), None), SchemaField('dfpImpressions', 'INTEGER', 'NULLABLE', None, (), None), SchemaField('dfpMatchedQueries', 'INTEGER', 'NULLABLE', None, (), None), SchemaField('dfpMeasurableImpressions', 'INTEGER', 'NULLABLE', None, (), None), SchemaField('dfpQueries', 'INTEGER', 'NULLABLE', None, (), None), SchemaField('dfpRevenueCpm', 'INTEGER', 'NULLABLE', None, (), None), SchemaField('dfpRevenueCpc', 'INTEGER', 'NULLABLE', None, (), None), SchemaField('dfpViewableImpressions', 'INTEGER', 'NULLABLE', None, (), None), SchemaField('dfpPagesViewed', 'INTEGER', 'NULLABLE', None, (), None), SchemaField('adsenseBackfillDfpClicks', 'INTEGER', 'NULLABLE', None, (), None), SchemaField('adsenseBackfillDfpImpressions', 'INTEGER', 'NULLABLE', None, (), None), SchemaField('adsenseBackfillDfpMatchedQueries', 'INTEGER', 'NULLABLE', None, (), None), SchemaField('adsenseBackfillDfpMeasurableImpressions', 'INTEGER', 'NULLABLE', None, (), None), SchemaField('adsenseBackfillDfpQueries', 'INTEGER', 'NULLABLE', None, (), None), SchemaField('adsenseBackfillDfpRevenueCpm', 'INTEGER', 'NULLABLE', None, (), None), SchemaField('adsenseBackfillDfpRevenueCpc', 'INTEGER', 'NULLABLE', None, (), None), SchemaField('adsenseBackfillDfpViewableImpressions', 'INTEGER', 'NULLABLE', None, (), None), SchemaField('adsenseBackfillDfpPagesViewed', 'INTEGER', 'NULLABLE', None, (), None), SchemaField('adxBackfillDfpClicks', 'INTEGER', 'NULLABLE', None, (), None), SchemaField('adxBackfillDfpImpressions', 'INTEGER', 'NULLABLE', None, (), None), SchemaField('adxBackfillDfpMatchedQueries', 'INTEGER', 'NULLABLE', None, (), None), SchemaField('adxBackfillDfpMeasurableImpressions', 'INTEGER', 'NULLABLE', None, (), None), SchemaField('adxBackfillDfpQueries', 'INTEGER', 'NULLABLE', None, (), None), SchemaField('adxBackfillDfpRevenueCpm', 'INTEGER', 'NULLABLE', None, (), None), SchemaField('adxBackfillDfpRevenueCpc', 'INTEGER', 'NULLABLE', None, (), None), SchemaField('adxBackfillDfpViewableImpressions', 'INTEGER', 'NULLABLE', None, (), None), SchemaField('adxBackfillDfpPagesViewed', 'INTEGER', 'NULLABLE', None, (), None), SchemaField('adxClicks', 'INTEGER', 'NULLABLE', None, (), None), SchemaField('adxImpressions', 'INTEGER', 'NULLABLE', None, (), None), SchemaField('adxMatchedQueries', 'INTEGER', 'NULLABLE', None, (), None), SchemaField('adxMeasurableImpressions', 'INTEGER', 'NULLABLE', None, (), None), SchemaField('adxQueries', 'INTEGER', 'NULLABLE', None, (), None), SchemaField('adxRevenue', 'INTEGER', 'NULLABLE', None, (), None), SchemaField('adxViewableImpressions', 'INTEGER', 'NULLABLE', None, (), None), SchemaField('adxPagesViewed', 'INTEGER', 'NULLABLE', None, (), None), SchemaField('adsViewed', 'INTEGER', 'NULLABLE', None, (), None), SchemaField('adsUnitsViewed', 'INTEGER', 'NULLABLE', None, (), None), SchemaField('adsUnitsMatched', 'INTEGER', 'NULLABLE', None, (), None), SchemaField('viewableAdsViewed', 'INTEGER', 'NULLABLE', None, (), None), SchemaField('measurableAdsViewed', 'INTEGER', 'NULLABLE', None, (), None), SchemaField('adsPagesViewed', 'INTEGER', 'NULLABLE', None, (), None), SchemaField('adsClicked', 'INTEGER', 'NULLABLE', None, (), None), SchemaField('adsRevenue', 'INTEGER', 'NULLABLE', None, (), None), SchemaField('dfpAdGroup', 'STRING', 'NULLABLE', None, (), None), SchemaField('dfpAdUnits', 'STRING', 'NULLABLE', None, (), None), SchemaField('dfpNetworkId', 'STRING', 'NULLABLE', None, (), None)), None)), None)\n"
     ]
    }
   ],
   "source": [
    "# Display schemas\n",
    "print(\"SCHEMA field for the 'totals' column:\\n\")\n",
    "print(table_20160801.schema[5])\n",
    "\n",
    "print(\"\\nSCHEMA field for the 'trafficSource' column:\\n\")\n",
    "print(table_20160801.schema[6])\n",
    "\n",
    "print(\"\\nSCHEMA field for the 'device' column:\\n\")\n",
    "print(table_20160801.schema[7])\n",
    "\n",
    "print(\"\\nSCHEMA field for the 'geoNetwork' column:\\n\")\n",
    "print(table_20160801.schema[8])\n",
    "\n",
    "print(\"\\nSCHEMA field for the 'customDimensions' column:\\n\")\n",
    "print(table_20160801.schema[9])\n",
    "\n",
    "print(\"\\nSCHEMA field for the 'hits' column:\\n\")\n",
    "print(table_20160801.schema[10])"
   ]
  },
  {
   "cell_type": "markdown",
   "id": "3a12091a",
   "metadata": {
    "papermill": {
     "duration": 0.01929,
     "end_time": "2023-07-06T13:26:10.181767",
     "exception": false,
     "start_time": "2023-07-06T13:26:10.162477",
     "status": "completed"
    },
    "tags": []
   },
   "source": [
    "After checking the schema, we can see that the hits column contains page view, transaction, product, Google Ads, and other data. \n",
    "\n",
    "The full data dictionary can be found here: https://support.google.com/analytics/answer/3437719?hl=en"
   ]
  },
  {
   "cell_type": "markdown",
   "id": "9332722b",
   "metadata": {
    "papermill": {
     "duration": 0.01807,
     "end_time": "2023-07-06T13:26:10.219093",
     "exception": false,
     "start_time": "2023-07-06T13:26:10.201023",
     "status": "completed"
    },
    "tags": []
   },
   "source": [
    "# 2. Make Our Goals Concrete\n",
    "After confirming the content and structure of the data that we'll be working with, we can now define our goals in more detail.\n",
    "\n",
    "* Analyze which pages are the most popular, as well as their bounce/exit rates\n",
    "* Examine number of sessions by browser and device \n",
    "* Explore the type and quality of site traffic\n",
    "* Identify the customer conversion path and any potential bottlenecks\n",
    "* Identify the best-selling product categories and forecast their demand"
   ]
  },
  {
   "cell_type": "markdown",
   "id": "c5cc8b5f",
   "metadata": {
    "papermill": {
     "duration": 0.018671,
     "end_time": "2023-07-06T13:26:10.257770",
     "exception": false,
     "start_time": "2023-07-06T13:26:10.239099",
     "status": "completed"
    },
    "tags": []
   },
   "source": [
    "# 3. Explore and Analyze Data"
   ]
  },
  {
   "cell_type": "markdown",
   "id": "489bd0d6",
   "metadata": {
    "papermill": {
     "duration": 0.018655,
     "end_time": "2023-07-06T13:26:10.296230",
     "exception": false,
     "start_time": "2023-07-06T13:26:10.277575",
     "status": "completed"
    },
    "tags": []
   },
   "source": [
    "## Most Popular Pages\n",
    "First, let's look at the most frequently visited landing pages and their respective bounce rates.\n",
    "\n",
    "The bounce rate is the number of bounces (sessions where the user entered the site and then immediately left) divided by the total number of sessions.\n",
    "\n",
    "A high bounce rate can indicate either:\n",
    "1. Users are not seeing what they expect when they enter the site, and Search Engine Optimization (SEO) needs to be done\n",
    "2. There is a functionality or display issue with the landing page"
   ]
  },
  {
   "cell_type": "code",
   "execution_count": 8,
   "id": "d9058005",
   "metadata": {
    "execution": {
     "iopub.execute_input": "2023-07-06T13:26:10.339263Z",
     "iopub.status.busy": "2023-07-06T13:26:10.338348Z",
     "iopub.status.idle": "2023-07-06T13:26:26.254137Z",
     "shell.execute_reply": "2023-07-06T13:26:26.252459Z"
    },
    "papermill": {
     "duration": 15.941409,
     "end_time": "2023-07-06T13:26:26.257551",
     "exception": false,
     "start_time": "2023-07-06T13:26:10.316142",
     "status": "completed"
    },
    "tags": []
   },
   "outputs": [
    {
     "data": {
      "text/html": [
       "<div>\n",
       "<style scoped>\n",
       "    .dataframe tbody tr th:only-of-type {\n",
       "        vertical-align: middle;\n",
       "    }\n",
       "\n",
       "    .dataframe tbody tr th {\n",
       "        vertical-align: top;\n",
       "    }\n",
       "\n",
       "    .dataframe thead th {\n",
       "        text-align: right;\n",
       "    }\n",
       "</style>\n",
       "<table border=\"1\" class=\"dataframe\">\n",
       "  <thead>\n",
       "    <tr style=\"text-align: right;\">\n",
       "      <th></th>\n",
       "      <th>channelgrouping</th>\n",
       "      <th>browser</th>\n",
       "      <th>landing_page</th>\n",
       "      <th>views</th>\n",
       "      <th>bounce_rate</th>\n",
       "    </tr>\n",
       "  </thead>\n",
       "  <tbody>\n",
       "    <tr>\n",
       "      <th>0</th>\n",
       "      <td>Organic Search</td>\n",
       "      <td>Chrome</td>\n",
       "      <td>/home</td>\n",
       "      <td>290245</td>\n",
       "      <td>0.250213</td>\n",
       "    </tr>\n",
       "    <tr>\n",
       "      <th>1</th>\n",
       "      <td>Social</td>\n",
       "      <td>Chrome</td>\n",
       "      <td>/home</td>\n",
       "      <td>143256</td>\n",
       "      <td>0.505473</td>\n",
       "    </tr>\n",
       "    <tr>\n",
       "      <th>2</th>\n",
       "      <td>Referral</td>\n",
       "      <td>Chrome</td>\n",
       "      <td>/home</td>\n",
       "      <td>105603</td>\n",
       "      <td>0.132553</td>\n",
       "    </tr>\n",
       "    <tr>\n",
       "      <th>3</th>\n",
       "      <td>Organic Search</td>\n",
       "      <td>Safari</td>\n",
       "      <td>/home</td>\n",
       "      <td>92350</td>\n",
       "      <td>0.167342</td>\n",
       "    </tr>\n",
       "    <tr>\n",
       "      <th>4</th>\n",
       "      <td>Social</td>\n",
       "      <td>Safari</td>\n",
       "      <td>/home</td>\n",
       "      <td>87445</td>\n",
       "      <td>0.496701</td>\n",
       "    </tr>\n",
       "    <tr>\n",
       "      <th>5</th>\n",
       "      <td>Direct</td>\n",
       "      <td>Chrome</td>\n",
       "      <td>/home</td>\n",
       "      <td>85853</td>\n",
       "      <td>0.300584</td>\n",
       "    </tr>\n",
       "    <tr>\n",
       "      <th>6</th>\n",
       "      <td>Referral</td>\n",
       "      <td>Chrome</td>\n",
       "      <td>/basket.html</td>\n",
       "      <td>63119</td>\n",
       "      <td>0.014861</td>\n",
       "    </tr>\n",
       "    <tr>\n",
       "      <th>7</th>\n",
       "      <td>Organic Search</td>\n",
       "      <td>Chrome</td>\n",
       "      <td>/basket.html</td>\n",
       "      <td>59770</td>\n",
       "      <td>0.011712</td>\n",
       "    </tr>\n",
       "    <tr>\n",
       "      <th>8</th>\n",
       "      <td>Organic Search</td>\n",
       "      <td>Chrome</td>\n",
       "      <td>/google+redesign/shop+by+brand/youtube</td>\n",
       "      <td>53934</td>\n",
       "      <td>0.327752</td>\n",
       "    </tr>\n",
       "    <tr>\n",
       "      <th>9</th>\n",
       "      <td>Direct</td>\n",
       "      <td>Chrome</td>\n",
       "      <td>/basket.html</td>\n",
       "      <td>34301</td>\n",
       "      <td>0.026821</td>\n",
       "    </tr>\n",
       "  </tbody>\n",
       "</table>\n",
       "</div>"
      ],
      "text/plain": [
       "  channelgrouping browser                            landing_page   views  \\\n",
       "0  Organic Search  Chrome                                   /home  290245   \n",
       "1          Social  Chrome                                   /home  143256   \n",
       "2        Referral  Chrome                                   /home  105603   \n",
       "3  Organic Search  Safari                                   /home   92350   \n",
       "4          Social  Safari                                   /home   87445   \n",
       "5          Direct  Chrome                                   /home   85853   \n",
       "6        Referral  Chrome                            /basket.html   63119   \n",
       "7  Organic Search  Chrome                            /basket.html   59770   \n",
       "8  Organic Search  Chrome  /google+redesign/shop+by+brand/youtube   53934   \n",
       "9          Direct  Chrome                            /basket.html   34301   \n",
       "\n",
       "   bounce_rate  \n",
       "0     0.250213  \n",
       "1     0.505473  \n",
       "2     0.132553  \n",
       "3     0.167342  \n",
       "4     0.496701  \n",
       "5     0.300584  \n",
       "6     0.014861  \n",
       "7     0.011712  \n",
       "8     0.327752  \n",
       "9     0.026821  "
      ]
     },
     "execution_count": 8,
     "metadata": {},
     "output_type": "execute_result"
    }
   ],
   "source": [
    "query = \"\"\"\n",
    "        SELECT \n",
    "            channelgrouping,\n",
    "            device.browser,\n",
    "            hits.page.pagePath AS landing_page,\n",
    "            COUNT(*) AS views,\n",
    "            SUM(totals.bounces)/COUNT(*) AS bounce_rate\n",
    "        FROM \n",
    "            `bigquery-public-data.google_analytics_sample.ga_sessions_*`,\n",
    "                 UNNEST(hits) AS hits\n",
    "        WHERE\n",
    "            _TABLE_SUFFIX BETWEEN '20160801' AND '20170801'\n",
    "            AND\n",
    "            hits.type='PAGE'\n",
    "            \n",
    "            \n",
    "        GROUP BY landing_page, channelgrouping, device.browser\n",
    "        ORDER BY views DESC\n",
    "        LIMIT 10\n",
    "        \"\"\"\n",
    "\n",
    "result = client.query(query).result().to_dataframe()\n",
    "result.head(10)"
   ]
  },
  {
   "cell_type": "code",
   "execution_count": 9,
   "id": "10e31b79",
   "metadata": {
    "execution": {
     "iopub.execute_input": "2023-07-06T13:26:26.304601Z",
     "iopub.status.busy": "2023-07-06T13:26:26.304129Z",
     "iopub.status.idle": "2023-07-06T13:26:42.810498Z",
     "shell.execute_reply": "2023-07-06T13:26:42.809525Z"
    },
    "papermill": {
     "duration": 16.533361,
     "end_time": "2023-07-06T13:26:42.813466",
     "exception": false,
     "start_time": "2023-07-06T13:26:26.280105",
     "status": "completed"
    },
    "tags": []
   },
   "outputs": [
    {
     "data": {
      "text/html": [
       "<div>\n",
       "<style scoped>\n",
       "    .dataframe tbody tr th:only-of-type {\n",
       "        vertical-align: middle;\n",
       "    }\n",
       "\n",
       "    .dataframe tbody tr th {\n",
       "        vertical-align: top;\n",
       "    }\n",
       "\n",
       "    .dataframe thead th {\n",
       "        text-align: right;\n",
       "    }\n",
       "</style>\n",
       "<table border=\"1\" class=\"dataframe\">\n",
       "  <thead>\n",
       "    <tr style=\"text-align: right;\">\n",
       "      <th></th>\n",
       "      <th>landing_page</th>\n",
       "      <th>views</th>\n",
       "      <th>bounce_rate</th>\n",
       "    </tr>\n",
       "  </thead>\n",
       "  <tbody>\n",
       "    <tr>\n",
       "      <th>0</th>\n",
       "      <td>/home</td>\n",
       "      <td>612140</td>\n",
       "      <td>0.495475</td>\n",
       "    </tr>\n",
       "    <tr>\n",
       "      <th>1</th>\n",
       "      <td>/google+redesign/shop+by+brand/youtube</td>\n",
       "      <td>81512</td>\n",
       "      <td>0.562347</td>\n",
       "    </tr>\n",
       "    <tr>\n",
       "      <th>2</th>\n",
       "      <td>/google+redesign/apparel/men++s/men++s+t+shirts</td>\n",
       "      <td>20685</td>\n",
       "      <td>0.441141</td>\n",
       "    </tr>\n",
       "    <tr>\n",
       "      <th>3</th>\n",
       "      <td>/signin.html</td>\n",
       "      <td>16296</td>\n",
       "      <td>0.361622</td>\n",
       "    </tr>\n",
       "    <tr>\n",
       "      <th>4</th>\n",
       "      <td>/google+redesign/apparel/mens/mens+t+shirts</td>\n",
       "      <td>12691</td>\n",
       "      <td>0.475061</td>\n",
       "    </tr>\n",
       "    <tr>\n",
       "      <th>5</th>\n",
       "      <td>/basket.html</td>\n",
       "      <td>9431</td>\n",
       "      <td>0.454565</td>\n",
       "    </tr>\n",
       "    <tr>\n",
       "      <th>6</th>\n",
       "      <td>/google+redesign/drinkware</td>\n",
       "      <td>8833</td>\n",
       "      <td>0.533794</td>\n",
       "    </tr>\n",
       "    <tr>\n",
       "      <th>7</th>\n",
       "      <td>/google+redesign/bags</td>\n",
       "      <td>8608</td>\n",
       "      <td>0.451208</td>\n",
       "    </tr>\n",
       "    <tr>\n",
       "      <th>8</th>\n",
       "      <td>/google+redesign/apparel/men++s/men++s+outerwear</td>\n",
       "      <td>6345</td>\n",
       "      <td>0.432782</td>\n",
       "    </tr>\n",
       "    <tr>\n",
       "      <th>9</th>\n",
       "      <td>/google+redesign/apparel</td>\n",
       "      <td>6326</td>\n",
       "      <td>0.448150</td>\n",
       "    </tr>\n",
       "  </tbody>\n",
       "</table>\n",
       "</div>"
      ],
      "text/plain": [
       "                                       landing_page   views  bounce_rate\n",
       "0                                             /home  612140     0.495475\n",
       "1            /google+redesign/shop+by+brand/youtube   81512     0.562347\n",
       "2   /google+redesign/apparel/men++s/men++s+t+shirts   20685     0.441141\n",
       "3                                      /signin.html   16296     0.361622\n",
       "4       /google+redesign/apparel/mens/mens+t+shirts   12691     0.475061\n",
       "5                                      /basket.html    9431     0.454565\n",
       "6                        /google+redesign/drinkware    8833     0.533794\n",
       "7                             /google+redesign/bags    8608     0.451208\n",
       "8  /google+redesign/apparel/men++s/men++s+outerwear    6345     0.432782\n",
       "9                          /google+redesign/apparel    6326     0.448150"
      ]
     },
     "execution_count": 9,
     "metadata": {},
     "output_type": "execute_result"
    }
   ],
   "source": [
    "# 「ｈitＮumber=1」Indicates the first hit of a session\n",
    "query = \"\"\"\n",
    "        SELECT \n",
    "            hits.page.pagePath AS landing_page,\n",
    "            COUNT(*) AS views,\n",
    "            SUM(totals.bounces)/COUNT(*) AS bounce_rate\n",
    "        FROM \n",
    "            `bigquery-public-data.google_analytics_sample.ga_sessions_*`,\n",
    "                 UNNEST(hits) AS hits\n",
    "        WHERE\n",
    "            _TABLE_SUFFIX BETWEEN '20160801' AND '20170801'\n",
    "            AND\n",
    "            hits.type='PAGE'\n",
    "            AND\n",
    "            hits.hitNumber=1\n",
    "        GROUP BY landing_page\n",
    "        ORDER BY views DESC\n",
    "        LIMIT 10\n",
    "        \"\"\"\n",
    "\n",
    "result = client.query(query).result().to_dataframe()\n",
    "result.head(10)"
   ]
  },
  {
   "cell_type": "markdown",
   "id": "64e99c4a",
   "metadata": {
    "papermill": {
     "duration": 0.018906,
     "end_time": "2023-07-06T13:26:42.852744",
     "exception": false,
     "start_time": "2023-07-06T13:26:42.833838",
     "status": "completed"
    },
    "tags": []
   },
   "source": [
    "Looking at the bounce rates, it looks like Men's Apparel and Bags are comparatively lower than the other pages.\n",
    "\n",
    "We can also see that the YouTube and Drinkware pages have a lot of views, but have a high bounce rate, indicating either a problem with the page's functionality, or users not seeing what they were expecting to when they entered the site."
   ]
  },
  {
   "cell_type": "markdown",
   "id": "2a1a997a",
   "metadata": {
    "papermill": {
     "duration": 0.022396,
     "end_time": "2023-07-06T13:26:42.895189",
     "exception": false,
     "start_time": "2023-07-06T13:26:42.872793",
     "status": "completed"
    },
    "tags": []
   },
   "source": [
    "Let's take a look at the exit rate next.\n",
    "\n",
    "The exit rate is similar to the bounce rate, except that it is calculated for all pages and not just landing pages. It is the number of exits (sessions where the user navigated to a page and then exited the site) divided by the total number of sessions.\n",
    "\n",
    "A high exit rate can indicate either:\n",
    "1. Users are not seeing what they expect when they navigate to a page\n",
    "2. There is a functionality or display issue with the page"
   ]
  },
  {
   "cell_type": "code",
   "execution_count": 10,
   "id": "afe4a873",
   "metadata": {
    "execution": {
     "iopub.execute_input": "2023-07-06T13:26:42.940789Z",
     "iopub.status.busy": "2023-07-06T13:26:42.940351Z",
     "iopub.status.idle": "2023-07-06T13:27:00.287574Z",
     "shell.execute_reply": "2023-07-06T13:27:00.286019Z"
    },
    "papermill": {
     "duration": 17.374295,
     "end_time": "2023-07-06T13:27:00.290742",
     "exception": false,
     "start_time": "2023-07-06T13:26:42.916447",
     "status": "completed"
    },
    "tags": []
   },
   "outputs": [
    {
     "data": {
      "text/html": [
       "<div>\n",
       "<style scoped>\n",
       "    .dataframe tbody tr th:only-of-type {\n",
       "        vertical-align: middle;\n",
       "    }\n",
       "\n",
       "    .dataframe tbody tr th {\n",
       "        vertical-align: top;\n",
       "    }\n",
       "\n",
       "    .dataframe thead th {\n",
       "        text-align: right;\n",
       "    }\n",
       "</style>\n",
       "<table border=\"1\" class=\"dataframe\">\n",
       "  <thead>\n",
       "    <tr style=\"text-align: right;\">\n",
       "      <th></th>\n",
       "      <th>page</th>\n",
       "      <th>views</th>\n",
       "      <th>exit_rate</th>\n",
       "    </tr>\n",
       "  </thead>\n",
       "  <tbody>\n",
       "    <tr>\n",
       "      <th>0</th>\n",
       "      <td>/home</td>\n",
       "      <td>981285</td>\n",
       "      <td>0.309920</td>\n",
       "    </tr>\n",
       "    <tr>\n",
       "      <th>1</th>\n",
       "      <td>/basket.html</td>\n",
       "      <td>209360</td>\n",
       "      <td>0.020524</td>\n",
       "    </tr>\n",
       "    <tr>\n",
       "      <th>2</th>\n",
       "      <td>/google+redesign/shop+by+brand/youtube</td>\n",
       "      <td>145026</td>\n",
       "      <td>0.316198</td>\n",
       "    </tr>\n",
       "    <tr>\n",
       "      <th>3</th>\n",
       "      <td>/signin.html</td>\n",
       "      <td>101299</td>\n",
       "      <td>0.058322</td>\n",
       "    </tr>\n",
       "    <tr>\n",
       "      <th>4</th>\n",
       "      <td>/store.html</td>\n",
       "      <td>93551</td>\n",
       "      <td>0.025505</td>\n",
       "    </tr>\n",
       "    <tr>\n",
       "      <th>5</th>\n",
       "      <td>/google+redesign/apparel/men++s/men++s+t+shirts</td>\n",
       "      <td>67471</td>\n",
       "      <td>0.135392</td>\n",
       "    </tr>\n",
       "    <tr>\n",
       "      <th>6</th>\n",
       "      <td>/asearch.html</td>\n",
       "      <td>62380</td>\n",
       "      <td>0.031677</td>\n",
       "    </tr>\n",
       "    <tr>\n",
       "      <th>7</th>\n",
       "      <td>/google+redesign/electronics</td>\n",
       "      <td>56839</td>\n",
       "      <td>0.047116</td>\n",
       "    </tr>\n",
       "    <tr>\n",
       "      <th>8</th>\n",
       "      <td>/google+redesign/apparel</td>\n",
       "      <td>56552</td>\n",
       "      <td>0.050272</td>\n",
       "    </tr>\n",
       "    <tr>\n",
       "      <th>9</th>\n",
       "      <td>/google+redesign/bags</td>\n",
       "      <td>53686</td>\n",
       "      <td>0.072458</td>\n",
       "    </tr>\n",
       "    <tr>\n",
       "      <th>10</th>\n",
       "      <td>/google+redesign/drinkware</td>\n",
       "      <td>51706</td>\n",
       "      <td>0.091324</td>\n",
       "    </tr>\n",
       "    <tr>\n",
       "      <th>11</th>\n",
       "      <td>/google+redesign/office</td>\n",
       "      <td>49580</td>\n",
       "      <td>0.026039</td>\n",
       "    </tr>\n",
       "    <tr>\n",
       "      <th>12</th>\n",
       "      <td>/google+redesign/shop+by+brand/google</td>\n",
       "      <td>43022</td>\n",
       "      <td>0.030543</td>\n",
       "    </tr>\n",
       "    <tr>\n",
       "      <th>13</th>\n",
       "      <td>/google+redesign/apparel/mens/mens+t+shirts</td>\n",
       "      <td>38358</td>\n",
       "      <td>0.157360</td>\n",
       "    </tr>\n",
       "    <tr>\n",
       "      <th>14</th>\n",
       "      <td>/google+redesign/apparel/men++s/men++s+outerwear</td>\n",
       "      <td>37872</td>\n",
       "      <td>0.072613</td>\n",
       "    </tr>\n",
       "    <tr>\n",
       "      <th>15</th>\n",
       "      <td>/yourinfo.html</td>\n",
       "      <td>37532</td>\n",
       "      <td>0.000187</td>\n",
       "    </tr>\n",
       "    <tr>\n",
       "      <th>16</th>\n",
       "      <td>/payment.html</td>\n",
       "      <td>35810</td>\n",
       "      <td>0.000084</td>\n",
       "    </tr>\n",
       "    <tr>\n",
       "      <th>17</th>\n",
       "      <td>/google+redesign/accessories/fun</td>\n",
       "      <td>32369</td>\n",
       "      <td>0.013006</td>\n",
       "    </tr>\n",
       "    <tr>\n",
       "      <th>18</th>\n",
       "      <td>/google+redesign/accessories</td>\n",
       "      <td>30358</td>\n",
       "      <td>0.030700</td>\n",
       "    </tr>\n",
       "    <tr>\n",
       "      <th>19</th>\n",
       "      <td>/google+redesign/shop+by+brand/youtube/quickview</td>\n",
       "      <td>25944</td>\n",
       "      <td>0.000771</td>\n",
       "    </tr>\n",
       "  </tbody>\n",
       "</table>\n",
       "</div>"
      ],
      "text/plain": [
       "                                                page   views  exit_rate\n",
       "0                                              /home  981285   0.309920\n",
       "1                                       /basket.html  209360   0.020524\n",
       "2             /google+redesign/shop+by+brand/youtube  145026   0.316198\n",
       "3                                       /signin.html  101299   0.058322\n",
       "4                                        /store.html   93551   0.025505\n",
       "5    /google+redesign/apparel/men++s/men++s+t+shirts   67471   0.135392\n",
       "6                                      /asearch.html   62380   0.031677\n",
       "7                       /google+redesign/electronics   56839   0.047116\n",
       "8                           /google+redesign/apparel   56552   0.050272\n",
       "9                              /google+redesign/bags   53686   0.072458\n",
       "10                        /google+redesign/drinkware   51706   0.091324\n",
       "11                           /google+redesign/office   49580   0.026039\n",
       "12             /google+redesign/shop+by+brand/google   43022   0.030543\n",
       "13       /google+redesign/apparel/mens/mens+t+shirts   38358   0.157360\n",
       "14  /google+redesign/apparel/men++s/men++s+outerwear   37872   0.072613\n",
       "15                                    /yourinfo.html   37532   0.000187\n",
       "16                                     /payment.html   35810   0.000084\n",
       "17                  /google+redesign/accessories/fun   32369   0.013006\n",
       "18                      /google+redesign/accessories   30358   0.030700\n",
       "19  /google+redesign/shop+by+brand/youtube/quickview   25944   0.000771"
      ]
     },
     "execution_count": 10,
     "metadata": {},
     "output_type": "execute_result"
    }
   ],
   "source": [
    "query = \"\"\"\n",
    "        SELECT \n",
    "            hits.page.pagePath AS page,\n",
    "            COUNT(*) AS views,\n",
    "            SUM(totals.bounces)/COUNT(*) AS exit_rate\n",
    "        FROM \n",
    "            `bigquery-public-data.google_analytics_sample.ga_sessions_*`,\n",
    "                 UNNEST(hits) AS hits\n",
    "        WHERE\n",
    "            _TABLE_SUFFIX BETWEEN '20160801' AND '20170801'\n",
    "            AND\n",
    "            hits.type='PAGE'\n",
    "        GROUP BY page\n",
    "        ORDER BY views DESC\n",
    "        \"\"\"\n",
    "\n",
    "result = client.query(query).result().to_dataframe()\n",
    "result.head(20)"
   ]
  },
  {
   "cell_type": "markdown",
   "id": "68c63dd4",
   "metadata": {
    "papermill": {
     "duration": 0.020828,
     "end_time": "2023-07-06T13:27:00.333791",
     "exception": false,
     "start_time": "2023-07-06T13:27:00.312963",
     "status": "completed"
    },
    "tags": []
   },
   "source": [
    "Compared with other pages, exit rates for pages related to Men's Apparel are slightly high, and the exit rate for YouTube is very high."
   ]
  },
  {
   "cell_type": "markdown",
   "id": "d8a3b7c2",
   "metadata": {
    "papermill": {
     "duration": 0.021473,
     "end_time": "2023-07-06T13:27:00.375192",
     "exception": false,
     "start_time": "2023-07-06T13:27:00.353719",
     "status": "completed"
    },
    "tags": []
   },
   "source": [
    "## Browser and Device\n",
    "Next, let's look at sessions by browser and device to see if there are any compatibility issues."
   ]
  },
  {
   "cell_type": "code",
   "execution_count": 11,
   "id": "a338e661",
   "metadata": {
    "execution": {
     "iopub.execute_input": "2023-07-06T13:27:00.420707Z",
     "iopub.status.busy": "2023-07-06T13:27:00.419737Z",
     "iopub.status.idle": "2023-07-06T13:27:14.226713Z",
     "shell.execute_reply": "2023-07-06T13:27:14.225178Z"
    },
    "papermill": {
     "duration": 13.834238,
     "end_time": "2023-07-06T13:27:14.230045",
     "exception": false,
     "start_time": "2023-07-06T13:27:00.395807",
     "status": "completed"
    },
    "tags": []
   },
   "outputs": [
    {
     "data": {
      "text/html": [
       "<div>\n",
       "<style scoped>\n",
       "    .dataframe tbody tr th:only-of-type {\n",
       "        vertical-align: middle;\n",
       "    }\n",
       "\n",
       "    .dataframe tbody tr th {\n",
       "        vertical-align: top;\n",
       "    }\n",
       "\n",
       "    .dataframe thead th {\n",
       "        text-align: right;\n",
       "    }\n",
       "</style>\n",
       "<table border=\"1\" class=\"dataframe\">\n",
       "  <thead>\n",
       "    <tr style=\"text-align: right;\">\n",
       "      <th></th>\n",
       "      <th>browser</th>\n",
       "      <th>sessions</th>\n",
       "      <th>exit_rate</th>\n",
       "    </tr>\n",
       "  </thead>\n",
       "  <tbody>\n",
       "    <tr>\n",
       "      <th>0</th>\n",
       "      <td>Chrome</td>\n",
       "      <td>3197849</td>\n",
       "      <td>0.091878</td>\n",
       "    </tr>\n",
       "    <tr>\n",
       "      <th>1</th>\n",
       "      <td>Safari</td>\n",
       "      <td>629906</td>\n",
       "      <td>0.157622</td>\n",
       "    </tr>\n",
       "    <tr>\n",
       "      <th>2</th>\n",
       "      <td>Firefox</td>\n",
       "      <td>133880</td>\n",
       "      <td>0.168195</td>\n",
       "    </tr>\n",
       "    <tr>\n",
       "      <th>3</th>\n",
       "      <td>Internet Explorer</td>\n",
       "      <td>62405</td>\n",
       "      <td>0.190369</td>\n",
       "    </tr>\n",
       "    <tr>\n",
       "      <th>4</th>\n",
       "      <td>Edge</td>\n",
       "      <td>38063</td>\n",
       "      <td>0.150934</td>\n",
       "    </tr>\n",
       "    <tr>\n",
       "      <th>5</th>\n",
       "      <td>Android Webview</td>\n",
       "      <td>25979</td>\n",
       "      <td>0.174872</td>\n",
       "    </tr>\n",
       "    <tr>\n",
       "      <th>6</th>\n",
       "      <td>Safari (in-app)</td>\n",
       "      <td>19037</td>\n",
       "      <td>0.213532</td>\n",
       "    </tr>\n",
       "    <tr>\n",
       "      <th>7</th>\n",
       "      <td>Opera</td>\n",
       "      <td>15439</td>\n",
       "      <td>0.209988</td>\n",
       "    </tr>\n",
       "    <tr>\n",
       "      <th>8</th>\n",
       "      <td>Opera Mini</td>\n",
       "      <td>12767</td>\n",
       "      <td>0.314639</td>\n",
       "    </tr>\n",
       "    <tr>\n",
       "      <th>9</th>\n",
       "      <td>UC Browser</td>\n",
       "      <td>5807</td>\n",
       "      <td>0.283968</td>\n",
       "    </tr>\n",
       "  </tbody>\n",
       "</table>\n",
       "</div>"
      ],
      "text/plain": [
       "             browser  sessions  exit_rate\n",
       "0             Chrome   3197849   0.091878\n",
       "1             Safari    629906   0.157622\n",
       "2            Firefox    133880   0.168195\n",
       "3  Internet Explorer     62405   0.190369\n",
       "4               Edge     38063   0.150934\n",
       "5    Android Webview     25979   0.174872\n",
       "6    Safari (in-app)     19037   0.213532\n",
       "7              Opera     15439   0.209988\n",
       "8         Opera Mini     12767   0.314639\n",
       "9         UC Browser      5807   0.283968"
      ]
     },
     "execution_count": 11,
     "metadata": {},
     "output_type": "execute_result"
    }
   ],
   "source": [
    "query = \"\"\"\n",
    "        SELECT \n",
    "            device.Browser AS browser,\n",
    "            COUNT(*) AS sessions,\n",
    "            SUM(totals.bounces)/COUNT(*) AS exit_rate\n",
    "        FROM \n",
    "            `bigquery-public-data.google_analytics_sample.ga_sessions_*`,\n",
    "                 UNNEST(hits) AS hits\n",
    "        WHERE\n",
    "            _TABLE_SUFFIX BETWEEN '20160801' AND '20170801'\n",
    "        GROUP BY browser\n",
    "        ORDER BY sessions DESC\n",
    "        LIMIT 10\n",
    "        \"\"\"\n",
    "\n",
    "result = client.query(query).result().to_dataframe()\n",
    "result.head(10)"
   ]
  },
  {
   "cell_type": "markdown",
   "id": "ad71cf02",
   "metadata": {
    "papermill": {
     "duration": 0.022894,
     "end_time": "2023-07-06T13:27:14.273402",
     "exception": false,
     "start_time": "2023-07-06T13:27:14.250508",
     "status": "completed"
    },
    "tags": []
   },
   "source": [
    "Among the top 5 browsers, the exit rate for Chrome is comparatively low at 9%, while the other browsers are roughly 7% - 8% higher with the exception of Internet Explorer, having an exit rate of 19%."
   ]
  },
  {
   "cell_type": "markdown",
   "id": "0daead7e",
   "metadata": {
    "papermill": {
     "duration": 0.021808,
     "end_time": "2023-07-06T13:27:14.315730",
     "exception": false,
     "start_time": "2023-07-06T13:27:14.293922",
     "status": "completed"
    },
    "tags": []
   },
   "source": [
    "Let's check the devices."
   ]
  },
  {
   "cell_type": "code",
   "execution_count": 12,
   "id": "b9ec2bb8",
   "metadata": {
    "execution": {
     "iopub.execute_input": "2023-07-06T13:27:14.361516Z",
     "iopub.status.busy": "2023-07-06T13:27:14.359562Z",
     "iopub.status.idle": "2023-07-06T13:27:29.922057Z",
     "shell.execute_reply": "2023-07-06T13:27:29.920772Z"
    },
    "papermill": {
     "duration": 15.587915,
     "end_time": "2023-07-06T13:27:29.924748",
     "exception": false,
     "start_time": "2023-07-06T13:27:14.336833",
     "status": "completed"
    },
    "tags": []
   },
   "outputs": [
    {
     "data": {
      "text/html": [
       "<div>\n",
       "<style scoped>\n",
       "    .dataframe tbody tr th:only-of-type {\n",
       "        vertical-align: middle;\n",
       "    }\n",
       "\n",
       "    .dataframe tbody tr th {\n",
       "        vertical-align: top;\n",
       "    }\n",
       "\n",
       "    .dataframe thead th {\n",
       "        text-align: right;\n",
       "    }\n",
       "</style>\n",
       "<table border=\"1\" class=\"dataframe\">\n",
       "  <thead>\n",
       "    <tr style=\"text-align: right;\">\n",
       "      <th></th>\n",
       "      <th>device</th>\n",
       "      <th>sessions</th>\n",
       "      <th>exit_rate</th>\n",
       "    </tr>\n",
       "  </thead>\n",
       "  <tbody>\n",
       "    <tr>\n",
       "      <th>0</th>\n",
       "      <td>desktop</td>\n",
       "      <td>3171344</td>\n",
       "      <td>0.104038</td>\n",
       "    </tr>\n",
       "    <tr>\n",
       "      <th>1</th>\n",
       "      <td>mobile</td>\n",
       "      <td>838327</td>\n",
       "      <td>0.130486</td>\n",
       "    </tr>\n",
       "    <tr>\n",
       "      <th>2</th>\n",
       "      <td>tablet</td>\n",
       "      <td>144004</td>\n",
       "      <td>0.105907</td>\n",
       "    </tr>\n",
       "  </tbody>\n",
       "</table>\n",
       "</div>"
      ],
      "text/plain": [
       "    device  sessions  exit_rate\n",
       "0  desktop   3171344   0.104038\n",
       "1   mobile    838327   0.130486\n",
       "2   tablet    144004   0.105907"
      ]
     },
     "execution_count": 12,
     "metadata": {},
     "output_type": "execute_result"
    }
   ],
   "source": [
    "query = \"\"\"\n",
    "        SELECT \n",
    "            device.deviceCategory AS device,\n",
    "            COUNT(*) AS sessions,\n",
    "            SUM(totals.bounces)/COUNT(*) AS exit_rate\n",
    "        FROM \n",
    "            `bigquery-public-data.google_analytics_sample.ga_sessions_*`,\n",
    "                 UNNEST(hits) AS hits\n",
    "        WHERE\n",
    "            _TABLE_SUFFIX BETWEEN '20160801' AND '20170801'\n",
    "        GROUP BY device\n",
    "        ORDER BY sessions DESC\n",
    "        \"\"\"\n",
    "\n",
    "result = client.query(query).result().to_dataframe()\n",
    "result.head(10)"
   ]
  },
  {
   "cell_type": "markdown",
   "id": "f4a7f1a1",
   "metadata": {
    "papermill": {
     "duration": 0.023172,
     "end_time": "2023-07-06T13:27:29.972669",
     "exception": false,
     "start_time": "2023-07-06T13:27:29.949497",
     "status": "completed"
    },
    "tags": []
   },
   "source": [
    "Looking at the exit rates, we can see that Mobile is about 2.5% higher than other devices. It's possible that the site is not optimized for mobile viewing. "
   ]
  },
  {
   "cell_type": "markdown",
   "id": "4fbfc8c6",
   "metadata": {
    "papermill": {
     "duration": 0.022931,
     "end_time": "2023-07-06T13:27:30.017720",
     "exception": false,
     "start_time": "2023-07-06T13:27:29.994789",
     "status": "completed"
    },
    "tags": []
   },
   "source": [
    "## Traffic Type and Quality\n",
    "Now let's examine session and transaction data for each source of traffic to our site."
   ]
  },
  {
   "cell_type": "code",
   "execution_count": 13,
   "id": "342597e6",
   "metadata": {
    "execution": {
     "iopub.execute_input": "2023-07-06T13:27:30.067534Z",
     "iopub.status.busy": "2023-07-06T13:27:30.066471Z",
     "iopub.status.idle": "2023-07-06T13:27:45.058936Z",
     "shell.execute_reply": "2023-07-06T13:27:45.057618Z"
    },
    "papermill": {
     "duration": 15.022937,
     "end_time": "2023-07-06T13:27:45.061770",
     "exception": false,
     "start_time": "2023-07-06T13:27:30.038833",
     "status": "completed"
    },
    "tags": []
   },
   "outputs": [
    {
     "data": {
      "text/html": [
       "<div>\n",
       "<style scoped>\n",
       "    .dataframe tbody tr th:only-of-type {\n",
       "        vertical-align: middle;\n",
       "    }\n",
       "\n",
       "    .dataframe tbody tr th {\n",
       "        vertical-align: top;\n",
       "    }\n",
       "\n",
       "    .dataframe thead th {\n",
       "        text-align: right;\n",
       "    }\n",
       "</style>\n",
       "<table border=\"1\" class=\"dataframe\">\n",
       "  <thead>\n",
       "    <tr style=\"text-align: right;\">\n",
       "      <th></th>\n",
       "      <th>medium</th>\n",
       "      <th>sessions</th>\n",
       "      <th>exit_rate</th>\n",
       "      <th>transactions</th>\n",
       "      <th>total_revenue</th>\n",
       "      <th>conversion_rate</th>\n",
       "    </tr>\n",
       "  </thead>\n",
       "  <tbody>\n",
       "    <tr>\n",
       "      <th>0</th>\n",
       "      <td>(none)</td>\n",
       "      <td>2246040</td>\n",
       "      <td>0.069684</td>\n",
       "      <td>363228</td>\n",
       "      <td>69842914.68</td>\n",
       "      <td>0.161719</td>\n",
       "    </tr>\n",
       "    <tr>\n",
       "      <th>1</th>\n",
       "      <td>organic</td>\n",
       "      <td>1141113</td>\n",
       "      <td>0.101857</td>\n",
       "      <td>97332</td>\n",
       "      <td>19504702.25</td>\n",
       "      <td>0.085296</td>\n",
       "    </tr>\n",
       "    <tr>\n",
       "      <th>2</th>\n",
       "      <td>referral</td>\n",
       "      <td>580309</td>\n",
       "      <td>0.285806</td>\n",
       "      <td>22040</td>\n",
       "      <td>3501224.27</td>\n",
       "      <td>0.037980</td>\n",
       "    </tr>\n",
       "    <tr>\n",
       "      <th>3</th>\n",
       "      <td>cpc</td>\n",
       "      <td>88591</td>\n",
       "      <td>0.055028</td>\n",
       "      <td>9457</td>\n",
       "      <td>1528330.72</td>\n",
       "      <td>0.106749</td>\n",
       "    </tr>\n",
       "    <tr>\n",
       "      <th>4</th>\n",
       "      <td>affiliate</td>\n",
       "      <td>55860</td>\n",
       "      <td>0.157698</td>\n",
       "      <td>334</td>\n",
       "      <td>29118.69</td>\n",
       "      <td>0.005979</td>\n",
       "    </tr>\n",
       "    <tr>\n",
       "      <th>5</th>\n",
       "      <td>cpm</td>\n",
       "      <td>41253</td>\n",
       "      <td>0.054372</td>\n",
       "      <td>5951</td>\n",
       "      <td>8676307.66</td>\n",
       "      <td>0.144256</td>\n",
       "    </tr>\n",
       "    <tr>\n",
       "      <th>6</th>\n",
       "      <td>(not set)</td>\n",
       "      <td>509</td>\n",
       "      <td>0.108055</td>\n",
       "      <td>17</td>\n",
       "      <td>203.83</td>\n",
       "      <td>0.033399</td>\n",
       "    </tr>\n",
       "  </tbody>\n",
       "</table>\n",
       "</div>"
      ],
      "text/plain": [
       "      medium  sessions  exit_rate  transactions  total_revenue  \\\n",
       "0     (none)   2246040   0.069684        363228    69842914.68   \n",
       "1    organic   1141113   0.101857         97332    19504702.25   \n",
       "2   referral    580309   0.285806         22040     3501224.27   \n",
       "3        cpc     88591   0.055028          9457     1528330.72   \n",
       "4  affiliate     55860   0.157698           334       29118.69   \n",
       "5        cpm     41253   0.054372          5951     8676307.66   \n",
       "6  (not set)       509   0.108055            17         203.83   \n",
       "\n",
       "   conversion_rate  \n",
       "0         0.161719  \n",
       "1         0.085296  \n",
       "2         0.037980  \n",
       "3         0.106749  \n",
       "4         0.005979  \n",
       "5         0.144256  \n",
       "6         0.033399  "
      ]
     },
     "execution_count": 13,
     "metadata": {},
     "output_type": "execute_result"
    }
   ],
   "source": [
    "query = \"\"\"\n",
    "        SELECT \n",
    "            trafficSource.medium AS medium,\n",
    "            COUNT(*) AS sessions,\n",
    "            SUM(totals.bounces)/COUNT(*) AS exit_rate,\n",
    "            SUM(totals.transactions) AS transactions,\n",
    "            SUM(totals.totalTransactionRevenue)/1000000 AS total_revenue,\n",
    "            SUM(totals.transactions)/COUNT(*) AS conversion_rate\n",
    "        FROM \n",
    "            `bigquery-public-data.google_analytics_sample.ga_sessions_*`,\n",
    "                 UNNEST(hits) AS hits\n",
    "        WHERE\n",
    "            _TABLE_SUFFIX BETWEEN '20160801' AND '20170801'\n",
    "        GROUP BY medium\n",
    "        ORDER BY sessions DESC\n",
    "        LIMIT 10\n",
    "        \"\"\"\n",
    "\n",
    "result = client.query(query).result().to_dataframe()\n",
    "result.head(10)"
   ]
  },
  {
   "cell_type": "markdown",
   "id": "0966b8e3",
   "metadata": {
    "papermill": {
     "duration": 0.022652,
     "end_time": "2023-07-06T13:27:45.106687",
     "exception": false,
     "start_time": "2023-07-06T13:27:45.084035",
     "status": "completed"
    },
    "tags": []
   },
   "source": [
    "It looks like most traffic is either Organic or Referral.\n",
    "\n",
    "We can also see that the conversion rate for CPC and CPM is quite high compared to other sources.\n",
    "\n",
    "\n",
    "Here the conversion rate refers to the percentage of sessions that resulted in a transaction being completed."
   ]
  },
  {
   "cell_type": "markdown",
   "id": "d2560ffe",
   "metadata": {
    "papermill": {
     "duration": 0.022991,
     "end_time": "2023-07-06T13:27:45.152651",
     "exception": false,
     "start_time": "2023-07-06T13:27:45.129660",
     "status": "completed"
    },
    "tags": []
   },
   "source": [
    "## Identify Conversion Path and Possible Bottlenecks\n",
    "Next, we will identify the customer's conversion path through the site, as well as areas in the conversion process where users are leaving the site."
   ]
  },
  {
   "cell_type": "code",
   "execution_count": 14,
   "id": "a3a1828f",
   "metadata": {
    "execution": {
     "iopub.execute_input": "2023-07-06T13:27:45.200801Z",
     "iopub.status.busy": "2023-07-06T13:27:45.199851Z",
     "iopub.status.idle": "2023-07-06T13:28:03.247751Z",
     "shell.execute_reply": "2023-07-06T13:28:03.245527Z"
    },
    "papermill": {
     "duration": 18.075981,
     "end_time": "2023-07-06T13:28:03.252316",
     "exception": false,
     "start_time": "2023-07-06T13:27:45.176335",
     "status": "completed"
    },
    "tags": []
   },
   "outputs": [
    {
     "data": {
      "text/html": [
       "<div>\n",
       "<style scoped>\n",
       "    .dataframe tbody tr th:only-of-type {\n",
       "        vertical-align: middle;\n",
       "    }\n",
       "\n",
       "    .dataframe tbody tr th {\n",
       "        vertical-align: top;\n",
       "    }\n",
       "\n",
       "    .dataframe thead th {\n",
       "        text-align: right;\n",
       "    }\n",
       "</style>\n",
       "<table border=\"1\" class=\"dataframe\">\n",
       "  <thead>\n",
       "    <tr style=\"text-align: right;\">\n",
       "      <th></th>\n",
       "      <th>action</th>\n",
       "      <th>users</th>\n",
       "    </tr>\n",
       "  </thead>\n",
       "  <tbody>\n",
       "    <tr>\n",
       "      <th>0</th>\n",
       "      <td>Click through of product lists</td>\n",
       "      <td>445760</td>\n",
       "    </tr>\n",
       "    <tr>\n",
       "      <th>1</th>\n",
       "      <td>Product detail views</td>\n",
       "      <td>362607</td>\n",
       "    </tr>\n",
       "    <tr>\n",
       "      <th>2</th>\n",
       "      <td>Check out</td>\n",
       "      <td>248936</td>\n",
       "    </tr>\n",
       "    <tr>\n",
       "      <th>3</th>\n",
       "      <td>Completed purchase</td>\n",
       "      <td>74457</td>\n",
       "    </tr>\n",
       "  </tbody>\n",
       "</table>\n",
       "</div>"
      ],
      "text/plain": [
       "                           action   users\n",
       "0  Click through of product lists  445760\n",
       "1            Product detail views  362607\n",
       "2                       Check out  248936\n",
       "3              Completed purchase   74457"
      ]
     },
     "execution_count": 14,
     "metadata": {},
     "output_type": "execute_result"
    }
   ],
   "source": [
    "# Aggregate hits by action type\n",
    "query = \"\"\"\n",
    "        SELECT \n",
    "            CASE WHEN hits.eCommerceAction.action_type = '1' THEN 'Click through of product lists'\n",
    "                 WHEN hits.eCommerceAction.action_type = '2' THEN 'Product detail views'\n",
    "                 WHEN hits.eCommerceAction.action_type = '5' THEN 'Check out'\n",
    "                 WHEN hits.eCommerceAction.action_type = '6' THEN 'Completed purchase'\n",
    "            END AS action,\n",
    "            COUNT(fullVisitorID) AS users,\n",
    "        FROM \n",
    "            `bigquery-public-data.google_analytics_sample.ga_sessions_*`,\n",
    "                 UNNEST(hits) AS hits,\n",
    "                 UNNEST(hits.product) AS product\n",
    "        WHERE\n",
    "            _TABLE_SUFFIX BETWEEN '20160801' AND '20170801'\n",
    "            AND\n",
    "            (\n",
    "            hits.eCommerceAction.action_type != '0' \n",
    "            AND \n",
    "            hits.eCommerceAction.action_type != '3' \n",
    "            AND \n",
    "            hits.eCommerceAction.action_type != '4'\n",
    "            )\n",
    "        GROUP BY action\n",
    "        ORDER BY users DESC\n",
    "        \"\"\"\n",
    "\n",
    "result = client.query(query).result().to_dataframe()\n",
    "result.head(10)"
   ]
  },
  {
   "cell_type": "code",
   "execution_count": 15,
   "id": "70d6533b",
   "metadata": {
    "execution": {
     "iopub.execute_input": "2023-07-06T13:28:03.304079Z",
     "iopub.status.busy": "2023-07-06T13:28:03.303343Z",
     "iopub.status.idle": "2023-07-06T13:28:03.417701Z",
     "shell.execute_reply": "2023-07-06T13:28:03.415949Z"
    },
    "papermill": {
     "duration": 0.144169,
     "end_time": "2023-07-06T13:28:03.421808",
     "exception": false,
     "start_time": "2023-07-06T13:28:03.277639",
     "status": "completed"
    },
    "tags": []
   },
   "outputs": [
    {
     "data": {
      "application/vnd.plotly.v1+json": {
       "config": {
        "plotlyServerURL": "https://plot.ly"
       },
       "data": [
        {
         "textinfo": "value+percent initial",
         "textposition": "inside",
         "type": "funnel",
         "x": [
          445760,
          362607,
          248936,
          74457
         ],
         "y": [
          "Click through of product lists",
          "Product detail views",
          "Check out",
          "Completed purchase"
         ]
        }
       ],
       "layout": {
        "template": {
         "data": {
          "bar": [
           {
            "error_x": {
             "color": "#2a3f5f"
            },
            "error_y": {
             "color": "#2a3f5f"
            },
            "marker": {
             "line": {
              "color": "#E5ECF6",
              "width": 0.5
             },
             "pattern": {
              "fillmode": "overlay",
              "size": 10,
              "solidity": 0.2
             }
            },
            "type": "bar"
           }
          ],
          "barpolar": [
           {
            "marker": {
             "line": {
              "color": "#E5ECF6",
              "width": 0.5
             },
             "pattern": {
              "fillmode": "overlay",
              "size": 10,
              "solidity": 0.2
             }
            },
            "type": "barpolar"
           }
          ],
          "carpet": [
           {
            "aaxis": {
             "endlinecolor": "#2a3f5f",
             "gridcolor": "white",
             "linecolor": "white",
             "minorgridcolor": "white",
             "startlinecolor": "#2a3f5f"
            },
            "baxis": {
             "endlinecolor": "#2a3f5f",
             "gridcolor": "white",
             "linecolor": "white",
             "minorgridcolor": "white",
             "startlinecolor": "#2a3f5f"
            },
            "type": "carpet"
           }
          ],
          "choropleth": [
           {
            "colorbar": {
             "outlinewidth": 0,
             "ticks": ""
            },
            "type": "choropleth"
           }
          ],
          "contour": [
           {
            "colorbar": {
             "outlinewidth": 0,
             "ticks": ""
            },
            "colorscale": [
             [
              0.0,
              "#0d0887"
             ],
             [
              0.1111111111111111,
              "#46039f"
             ],
             [
              0.2222222222222222,
              "#7201a8"
             ],
             [
              0.3333333333333333,
              "#9c179e"
             ],
             [
              0.4444444444444444,
              "#bd3786"
             ],
             [
              0.5555555555555556,
              "#d8576b"
             ],
             [
              0.6666666666666666,
              "#ed7953"
             ],
             [
              0.7777777777777778,
              "#fb9f3a"
             ],
             [
              0.8888888888888888,
              "#fdca26"
             ],
             [
              1.0,
              "#f0f921"
             ]
            ],
            "type": "contour"
           }
          ],
          "contourcarpet": [
           {
            "colorbar": {
             "outlinewidth": 0,
             "ticks": ""
            },
            "type": "contourcarpet"
           }
          ],
          "heatmap": [
           {
            "colorbar": {
             "outlinewidth": 0,
             "ticks": ""
            },
            "colorscale": [
             [
              0.0,
              "#0d0887"
             ],
             [
              0.1111111111111111,
              "#46039f"
             ],
             [
              0.2222222222222222,
              "#7201a8"
             ],
             [
              0.3333333333333333,
              "#9c179e"
             ],
             [
              0.4444444444444444,
              "#bd3786"
             ],
             [
              0.5555555555555556,
              "#d8576b"
             ],
             [
              0.6666666666666666,
              "#ed7953"
             ],
             [
              0.7777777777777778,
              "#fb9f3a"
             ],
             [
              0.8888888888888888,
              "#fdca26"
             ],
             [
              1.0,
              "#f0f921"
             ]
            ],
            "type": "heatmap"
           }
          ],
          "heatmapgl": [
           {
            "colorbar": {
             "outlinewidth": 0,
             "ticks": ""
            },
            "colorscale": [
             [
              0.0,
              "#0d0887"
             ],
             [
              0.1111111111111111,
              "#46039f"
             ],
             [
              0.2222222222222222,
              "#7201a8"
             ],
             [
              0.3333333333333333,
              "#9c179e"
             ],
             [
              0.4444444444444444,
              "#bd3786"
             ],
             [
              0.5555555555555556,
              "#d8576b"
             ],
             [
              0.6666666666666666,
              "#ed7953"
             ],
             [
              0.7777777777777778,
              "#fb9f3a"
             ],
             [
              0.8888888888888888,
              "#fdca26"
             ],
             [
              1.0,
              "#f0f921"
             ]
            ],
            "type": "heatmapgl"
           }
          ],
          "histogram": [
           {
            "marker": {
             "pattern": {
              "fillmode": "overlay",
              "size": 10,
              "solidity": 0.2
             }
            },
            "type": "histogram"
           }
          ],
          "histogram2d": [
           {
            "colorbar": {
             "outlinewidth": 0,
             "ticks": ""
            },
            "colorscale": [
             [
              0.0,
              "#0d0887"
             ],
             [
              0.1111111111111111,
              "#46039f"
             ],
             [
              0.2222222222222222,
              "#7201a8"
             ],
             [
              0.3333333333333333,
              "#9c179e"
             ],
             [
              0.4444444444444444,
              "#bd3786"
             ],
             [
              0.5555555555555556,
              "#d8576b"
             ],
             [
              0.6666666666666666,
              "#ed7953"
             ],
             [
              0.7777777777777778,
              "#fb9f3a"
             ],
             [
              0.8888888888888888,
              "#fdca26"
             ],
             [
              1.0,
              "#f0f921"
             ]
            ],
            "type": "histogram2d"
           }
          ],
          "histogram2dcontour": [
           {
            "colorbar": {
             "outlinewidth": 0,
             "ticks": ""
            },
            "colorscale": [
             [
              0.0,
              "#0d0887"
             ],
             [
              0.1111111111111111,
              "#46039f"
             ],
             [
              0.2222222222222222,
              "#7201a8"
             ],
             [
              0.3333333333333333,
              "#9c179e"
             ],
             [
              0.4444444444444444,
              "#bd3786"
             ],
             [
              0.5555555555555556,
              "#d8576b"
             ],
             [
              0.6666666666666666,
              "#ed7953"
             ],
             [
              0.7777777777777778,
              "#fb9f3a"
             ],
             [
              0.8888888888888888,
              "#fdca26"
             ],
             [
              1.0,
              "#f0f921"
             ]
            ],
            "type": "histogram2dcontour"
           }
          ],
          "mesh3d": [
           {
            "colorbar": {
             "outlinewidth": 0,
             "ticks": ""
            },
            "type": "mesh3d"
           }
          ],
          "parcoords": [
           {
            "line": {
             "colorbar": {
              "outlinewidth": 0,
              "ticks": ""
             }
            },
            "type": "parcoords"
           }
          ],
          "pie": [
           {
            "automargin": true,
            "type": "pie"
           }
          ],
          "scatter": [
           {
            "fillpattern": {
             "fillmode": "overlay",
             "size": 10,
             "solidity": 0.2
            },
            "type": "scatter"
           }
          ],
          "scatter3d": [
           {
            "line": {
             "colorbar": {
              "outlinewidth": 0,
              "ticks": ""
             }
            },
            "marker": {
             "colorbar": {
              "outlinewidth": 0,
              "ticks": ""
             }
            },
            "type": "scatter3d"
           }
          ],
          "scattercarpet": [
           {
            "marker": {
             "colorbar": {
              "outlinewidth": 0,
              "ticks": ""
             }
            },
            "type": "scattercarpet"
           }
          ],
          "scattergeo": [
           {
            "marker": {
             "colorbar": {
              "outlinewidth": 0,
              "ticks": ""
             }
            },
            "type": "scattergeo"
           }
          ],
          "scattergl": [
           {
            "marker": {
             "colorbar": {
              "outlinewidth": 0,
              "ticks": ""
             }
            },
            "type": "scattergl"
           }
          ],
          "scattermapbox": [
           {
            "marker": {
             "colorbar": {
              "outlinewidth": 0,
              "ticks": ""
             }
            },
            "type": "scattermapbox"
           }
          ],
          "scatterpolar": [
           {
            "marker": {
             "colorbar": {
              "outlinewidth": 0,
              "ticks": ""
             }
            },
            "type": "scatterpolar"
           }
          ],
          "scatterpolargl": [
           {
            "marker": {
             "colorbar": {
              "outlinewidth": 0,
              "ticks": ""
             }
            },
            "type": "scatterpolargl"
           }
          ],
          "scatterternary": [
           {
            "marker": {
             "colorbar": {
              "outlinewidth": 0,
              "ticks": ""
             }
            },
            "type": "scatterternary"
           }
          ],
          "surface": [
           {
            "colorbar": {
             "outlinewidth": 0,
             "ticks": ""
            },
            "colorscale": [
             [
              0.0,
              "#0d0887"
             ],
             [
              0.1111111111111111,
              "#46039f"
             ],
             [
              0.2222222222222222,
              "#7201a8"
             ],
             [
              0.3333333333333333,
              "#9c179e"
             ],
             [
              0.4444444444444444,
              "#bd3786"
             ],
             [
              0.5555555555555556,
              "#d8576b"
             ],
             [
              0.6666666666666666,
              "#ed7953"
             ],
             [
              0.7777777777777778,
              "#fb9f3a"
             ],
             [
              0.8888888888888888,
              "#fdca26"
             ],
             [
              1.0,
              "#f0f921"
             ]
            ],
            "type": "surface"
           }
          ],
          "table": [
           {
            "cells": {
             "fill": {
              "color": "#EBF0F8"
             },
             "line": {
              "color": "white"
             }
            },
            "header": {
             "fill": {
              "color": "#C8D4E3"
             },
             "line": {
              "color": "white"
             }
            },
            "type": "table"
           }
          ]
         },
         "layout": {
          "annotationdefaults": {
           "arrowcolor": "#2a3f5f",
           "arrowhead": 0,
           "arrowwidth": 1
          },
          "autotypenumbers": "strict",
          "coloraxis": {
           "colorbar": {
            "outlinewidth": 0,
            "ticks": ""
           }
          },
          "colorscale": {
           "diverging": [
            [
             0,
             "#8e0152"
            ],
            [
             0.1,
             "#c51b7d"
            ],
            [
             0.2,
             "#de77ae"
            ],
            [
             0.3,
             "#f1b6da"
            ],
            [
             0.4,
             "#fde0ef"
            ],
            [
             0.5,
             "#f7f7f7"
            ],
            [
             0.6,
             "#e6f5d0"
            ],
            [
             0.7,
             "#b8e186"
            ],
            [
             0.8,
             "#7fbc41"
            ],
            [
             0.9,
             "#4d9221"
            ],
            [
             1,
             "#276419"
            ]
           ],
           "sequential": [
            [
             0.0,
             "#0d0887"
            ],
            [
             0.1111111111111111,
             "#46039f"
            ],
            [
             0.2222222222222222,
             "#7201a8"
            ],
            [
             0.3333333333333333,
             "#9c179e"
            ],
            [
             0.4444444444444444,
             "#bd3786"
            ],
            [
             0.5555555555555556,
             "#d8576b"
            ],
            [
             0.6666666666666666,
             "#ed7953"
            ],
            [
             0.7777777777777778,
             "#fb9f3a"
            ],
            [
             0.8888888888888888,
             "#fdca26"
            ],
            [
             1.0,
             "#f0f921"
            ]
           ],
           "sequentialminus": [
            [
             0.0,
             "#0d0887"
            ],
            [
             0.1111111111111111,
             "#46039f"
            ],
            [
             0.2222222222222222,
             "#7201a8"
            ],
            [
             0.3333333333333333,
             "#9c179e"
            ],
            [
             0.4444444444444444,
             "#bd3786"
            ],
            [
             0.5555555555555556,
             "#d8576b"
            ],
            [
             0.6666666666666666,
             "#ed7953"
            ],
            [
             0.7777777777777778,
             "#fb9f3a"
            ],
            [
             0.8888888888888888,
             "#fdca26"
            ],
            [
             1.0,
             "#f0f921"
            ]
           ]
          },
          "colorway": [
           "#636efa",
           "#EF553B",
           "#00cc96",
           "#ab63fa",
           "#FFA15A",
           "#19d3f3",
           "#FF6692",
           "#B6E880",
           "#FF97FF",
           "#FECB52"
          ],
          "font": {
           "color": "#2a3f5f"
          },
          "geo": {
           "bgcolor": "white",
           "lakecolor": "white",
           "landcolor": "#E5ECF6",
           "showlakes": true,
           "showland": true,
           "subunitcolor": "white"
          },
          "hoverlabel": {
           "align": "left"
          },
          "hovermode": "closest",
          "mapbox": {
           "style": "light"
          },
          "paper_bgcolor": "white",
          "plot_bgcolor": "#E5ECF6",
          "polar": {
           "angularaxis": {
            "gridcolor": "white",
            "linecolor": "white",
            "ticks": ""
           },
           "bgcolor": "#E5ECF6",
           "radialaxis": {
            "gridcolor": "white",
            "linecolor": "white",
            "ticks": ""
           }
          },
          "scene": {
           "xaxis": {
            "backgroundcolor": "#E5ECF6",
            "gridcolor": "white",
            "gridwidth": 2,
            "linecolor": "white",
            "showbackground": true,
            "ticks": "",
            "zerolinecolor": "white"
           },
           "yaxis": {
            "backgroundcolor": "#E5ECF6",
            "gridcolor": "white",
            "gridwidth": 2,
            "linecolor": "white",
            "showbackground": true,
            "ticks": "",
            "zerolinecolor": "white"
           },
           "zaxis": {
            "backgroundcolor": "#E5ECF6",
            "gridcolor": "white",
            "gridwidth": 2,
            "linecolor": "white",
            "showbackground": true,
            "ticks": "",
            "zerolinecolor": "white"
           }
          },
          "shapedefaults": {
           "line": {
            "color": "#2a3f5f"
           }
          },
          "ternary": {
           "aaxis": {
            "gridcolor": "white",
            "linecolor": "white",
            "ticks": ""
           },
           "baxis": {
            "gridcolor": "white",
            "linecolor": "white",
            "ticks": ""
           },
           "bgcolor": "#E5ECF6",
           "caxis": {
            "gridcolor": "white",
            "linecolor": "white",
            "ticks": ""
           }
          },
          "title": {
           "x": 0.05
          },
          "xaxis": {
           "automargin": true,
           "gridcolor": "white",
           "linecolor": "white",
           "ticks": "",
           "title": {
            "standoff": 15
           },
           "zerolinecolor": "white",
           "zerolinewidth": 2
          },
          "yaxis": {
           "automargin": true,
           "gridcolor": "white",
           "linecolor": "white",
           "ticks": "",
           "title": {
            "standoff": 15
           },
           "zerolinecolor": "white",
           "zerolinewidth": 2
          }
         }
        },
        "title": {
         "text": "Google Merchandise Store Conversion Path"
        }
       }
      },
      "text/html": [
       "<div>                            <div id=\"c092f5d4-3e52-4b31-a4c6-559e4e566d99\" class=\"plotly-graph-div\" style=\"height:525px; width:100%;\"></div>            <script type=\"text/javascript\">                require([\"plotly\"], function(Plotly) {                    window.PLOTLYENV=window.PLOTLYENV || {};                                    if (document.getElementById(\"c092f5d4-3e52-4b31-a4c6-559e4e566d99\")) {                    Plotly.newPlot(                        \"c092f5d4-3e52-4b31-a4c6-559e4e566d99\",                        [{\"textinfo\":\"value+percent initial\",\"textposition\":\"inside\",\"x\":[445760,362607,248936,74457],\"y\":[\"Click through of product lists\",\"Product detail views\",\"Check out\",\"Completed purchase\"],\"type\":\"funnel\"}],                        {\"template\":{\"data\":{\"histogram2dcontour\":[{\"type\":\"histogram2dcontour\",\"colorbar\":{\"outlinewidth\":0,\"ticks\":\"\"},\"colorscale\":[[0.0,\"#0d0887\"],[0.1111111111111111,\"#46039f\"],[0.2222222222222222,\"#7201a8\"],[0.3333333333333333,\"#9c179e\"],[0.4444444444444444,\"#bd3786\"],[0.5555555555555556,\"#d8576b\"],[0.6666666666666666,\"#ed7953\"],[0.7777777777777778,\"#fb9f3a\"],[0.8888888888888888,\"#fdca26\"],[1.0,\"#f0f921\"]]}],\"choropleth\":[{\"type\":\"choropleth\",\"colorbar\":{\"outlinewidth\":0,\"ticks\":\"\"}}],\"histogram2d\":[{\"type\":\"histogram2d\",\"colorbar\":{\"outlinewidth\":0,\"ticks\":\"\"},\"colorscale\":[[0.0,\"#0d0887\"],[0.1111111111111111,\"#46039f\"],[0.2222222222222222,\"#7201a8\"],[0.3333333333333333,\"#9c179e\"],[0.4444444444444444,\"#bd3786\"],[0.5555555555555556,\"#d8576b\"],[0.6666666666666666,\"#ed7953\"],[0.7777777777777778,\"#fb9f3a\"],[0.8888888888888888,\"#fdca26\"],[1.0,\"#f0f921\"]]}],\"heatmap\":[{\"type\":\"heatmap\",\"colorbar\":{\"outlinewidth\":0,\"ticks\":\"\"},\"colorscale\":[[0.0,\"#0d0887\"],[0.1111111111111111,\"#46039f\"],[0.2222222222222222,\"#7201a8\"],[0.3333333333333333,\"#9c179e\"],[0.4444444444444444,\"#bd3786\"],[0.5555555555555556,\"#d8576b\"],[0.6666666666666666,\"#ed7953\"],[0.7777777777777778,\"#fb9f3a\"],[0.8888888888888888,\"#fdca26\"],[1.0,\"#f0f921\"]]}],\"heatmapgl\":[{\"type\":\"heatmapgl\",\"colorbar\":{\"outlinewidth\":0,\"ticks\":\"\"},\"colorscale\":[[0.0,\"#0d0887\"],[0.1111111111111111,\"#46039f\"],[0.2222222222222222,\"#7201a8\"],[0.3333333333333333,\"#9c179e\"],[0.4444444444444444,\"#bd3786\"],[0.5555555555555556,\"#d8576b\"],[0.6666666666666666,\"#ed7953\"],[0.7777777777777778,\"#fb9f3a\"],[0.8888888888888888,\"#fdca26\"],[1.0,\"#f0f921\"]]}],\"contourcarpet\":[{\"type\":\"contourcarpet\",\"colorbar\":{\"outlinewidth\":0,\"ticks\":\"\"}}],\"contour\":[{\"type\":\"contour\",\"colorbar\":{\"outlinewidth\":0,\"ticks\":\"\"},\"colorscale\":[[0.0,\"#0d0887\"],[0.1111111111111111,\"#46039f\"],[0.2222222222222222,\"#7201a8\"],[0.3333333333333333,\"#9c179e\"],[0.4444444444444444,\"#bd3786\"],[0.5555555555555556,\"#d8576b\"],[0.6666666666666666,\"#ed7953\"],[0.7777777777777778,\"#fb9f3a\"],[0.8888888888888888,\"#fdca26\"],[1.0,\"#f0f921\"]]}],\"surface\":[{\"type\":\"surface\",\"colorbar\":{\"outlinewidth\":0,\"ticks\":\"\"},\"colorscale\":[[0.0,\"#0d0887\"],[0.1111111111111111,\"#46039f\"],[0.2222222222222222,\"#7201a8\"],[0.3333333333333333,\"#9c179e\"],[0.4444444444444444,\"#bd3786\"],[0.5555555555555556,\"#d8576b\"],[0.6666666666666666,\"#ed7953\"],[0.7777777777777778,\"#fb9f3a\"],[0.8888888888888888,\"#fdca26\"],[1.0,\"#f0f921\"]]}],\"mesh3d\":[{\"type\":\"mesh3d\",\"colorbar\":{\"outlinewidth\":0,\"ticks\":\"\"}}],\"scatter\":[{\"fillpattern\":{\"fillmode\":\"overlay\",\"size\":10,\"solidity\":0.2},\"type\":\"scatter\"}],\"parcoords\":[{\"type\":\"parcoords\",\"line\":{\"colorbar\":{\"outlinewidth\":0,\"ticks\":\"\"}}}],\"scatterpolargl\":[{\"type\":\"scatterpolargl\",\"marker\":{\"colorbar\":{\"outlinewidth\":0,\"ticks\":\"\"}}}],\"bar\":[{\"error_x\":{\"color\":\"#2a3f5f\"},\"error_y\":{\"color\":\"#2a3f5f\"},\"marker\":{\"line\":{\"color\":\"#E5ECF6\",\"width\":0.5},\"pattern\":{\"fillmode\":\"overlay\",\"size\":10,\"solidity\":0.2}},\"type\":\"bar\"}],\"scattergeo\":[{\"type\":\"scattergeo\",\"marker\":{\"colorbar\":{\"outlinewidth\":0,\"ticks\":\"\"}}}],\"scatterpolar\":[{\"type\":\"scatterpolar\",\"marker\":{\"colorbar\":{\"outlinewidth\":0,\"ticks\":\"\"}}}],\"histogram\":[{\"marker\":{\"pattern\":{\"fillmode\":\"overlay\",\"size\":10,\"solidity\":0.2}},\"type\":\"histogram\"}],\"scattergl\":[{\"type\":\"scattergl\",\"marker\":{\"colorbar\":{\"outlinewidth\":0,\"ticks\":\"\"}}}],\"scatter3d\":[{\"type\":\"scatter3d\",\"line\":{\"colorbar\":{\"outlinewidth\":0,\"ticks\":\"\"}},\"marker\":{\"colorbar\":{\"outlinewidth\":0,\"ticks\":\"\"}}}],\"scattermapbox\":[{\"type\":\"scattermapbox\",\"marker\":{\"colorbar\":{\"outlinewidth\":0,\"ticks\":\"\"}}}],\"scatterternary\":[{\"type\":\"scatterternary\",\"marker\":{\"colorbar\":{\"outlinewidth\":0,\"ticks\":\"\"}}}],\"scattercarpet\":[{\"type\":\"scattercarpet\",\"marker\":{\"colorbar\":{\"outlinewidth\":0,\"ticks\":\"\"}}}],\"carpet\":[{\"aaxis\":{\"endlinecolor\":\"#2a3f5f\",\"gridcolor\":\"white\",\"linecolor\":\"white\",\"minorgridcolor\":\"white\",\"startlinecolor\":\"#2a3f5f\"},\"baxis\":{\"endlinecolor\":\"#2a3f5f\",\"gridcolor\":\"white\",\"linecolor\":\"white\",\"minorgridcolor\":\"white\",\"startlinecolor\":\"#2a3f5f\"},\"type\":\"carpet\"}],\"table\":[{\"cells\":{\"fill\":{\"color\":\"#EBF0F8\"},\"line\":{\"color\":\"white\"}},\"header\":{\"fill\":{\"color\":\"#C8D4E3\"},\"line\":{\"color\":\"white\"}},\"type\":\"table\"}],\"barpolar\":[{\"marker\":{\"line\":{\"color\":\"#E5ECF6\",\"width\":0.5},\"pattern\":{\"fillmode\":\"overlay\",\"size\":10,\"solidity\":0.2}},\"type\":\"barpolar\"}],\"pie\":[{\"automargin\":true,\"type\":\"pie\"}]},\"layout\":{\"autotypenumbers\":\"strict\",\"colorway\":[\"#636efa\",\"#EF553B\",\"#00cc96\",\"#ab63fa\",\"#FFA15A\",\"#19d3f3\",\"#FF6692\",\"#B6E880\",\"#FF97FF\",\"#FECB52\"],\"font\":{\"color\":\"#2a3f5f\"},\"hovermode\":\"closest\",\"hoverlabel\":{\"align\":\"left\"},\"paper_bgcolor\":\"white\",\"plot_bgcolor\":\"#E5ECF6\",\"polar\":{\"bgcolor\":\"#E5ECF6\",\"angularaxis\":{\"gridcolor\":\"white\",\"linecolor\":\"white\",\"ticks\":\"\"},\"radialaxis\":{\"gridcolor\":\"white\",\"linecolor\":\"white\",\"ticks\":\"\"}},\"ternary\":{\"bgcolor\":\"#E5ECF6\",\"aaxis\":{\"gridcolor\":\"white\",\"linecolor\":\"white\",\"ticks\":\"\"},\"baxis\":{\"gridcolor\":\"white\",\"linecolor\":\"white\",\"ticks\":\"\"},\"caxis\":{\"gridcolor\":\"white\",\"linecolor\":\"white\",\"ticks\":\"\"}},\"coloraxis\":{\"colorbar\":{\"outlinewidth\":0,\"ticks\":\"\"}},\"colorscale\":{\"sequential\":[[0.0,\"#0d0887\"],[0.1111111111111111,\"#46039f\"],[0.2222222222222222,\"#7201a8\"],[0.3333333333333333,\"#9c179e\"],[0.4444444444444444,\"#bd3786\"],[0.5555555555555556,\"#d8576b\"],[0.6666666666666666,\"#ed7953\"],[0.7777777777777778,\"#fb9f3a\"],[0.8888888888888888,\"#fdca26\"],[1.0,\"#f0f921\"]],\"sequentialminus\":[[0.0,\"#0d0887\"],[0.1111111111111111,\"#46039f\"],[0.2222222222222222,\"#7201a8\"],[0.3333333333333333,\"#9c179e\"],[0.4444444444444444,\"#bd3786\"],[0.5555555555555556,\"#d8576b\"],[0.6666666666666666,\"#ed7953\"],[0.7777777777777778,\"#fb9f3a\"],[0.8888888888888888,\"#fdca26\"],[1.0,\"#f0f921\"]],\"diverging\":[[0,\"#8e0152\"],[0.1,\"#c51b7d\"],[0.2,\"#de77ae\"],[0.3,\"#f1b6da\"],[0.4,\"#fde0ef\"],[0.5,\"#f7f7f7\"],[0.6,\"#e6f5d0\"],[0.7,\"#b8e186\"],[0.8,\"#7fbc41\"],[0.9,\"#4d9221\"],[1,\"#276419\"]]},\"xaxis\":{\"gridcolor\":\"white\",\"linecolor\":\"white\",\"ticks\":\"\",\"title\":{\"standoff\":15},\"zerolinecolor\":\"white\",\"automargin\":true,\"zerolinewidth\":2},\"yaxis\":{\"gridcolor\":\"white\",\"linecolor\":\"white\",\"ticks\":\"\",\"title\":{\"standoff\":15},\"zerolinecolor\":\"white\",\"automargin\":true,\"zerolinewidth\":2},\"scene\":{\"xaxis\":{\"backgroundcolor\":\"#E5ECF6\",\"gridcolor\":\"white\",\"linecolor\":\"white\",\"showbackground\":true,\"ticks\":\"\",\"zerolinecolor\":\"white\",\"gridwidth\":2},\"yaxis\":{\"backgroundcolor\":\"#E5ECF6\",\"gridcolor\":\"white\",\"linecolor\":\"white\",\"showbackground\":true,\"ticks\":\"\",\"zerolinecolor\":\"white\",\"gridwidth\":2},\"zaxis\":{\"backgroundcolor\":\"#E5ECF6\",\"gridcolor\":\"white\",\"linecolor\":\"white\",\"showbackground\":true,\"ticks\":\"\",\"zerolinecolor\":\"white\",\"gridwidth\":2}},\"shapedefaults\":{\"line\":{\"color\":\"#2a3f5f\"}},\"annotationdefaults\":{\"arrowcolor\":\"#2a3f5f\",\"arrowhead\":0,\"arrowwidth\":1},\"geo\":{\"bgcolor\":\"white\",\"landcolor\":\"#E5ECF6\",\"subunitcolor\":\"white\",\"showland\":true,\"showlakes\":true,\"lakecolor\":\"white\"},\"title\":{\"x\":0.05},\"mapbox\":{\"style\":\"light\"}}},\"title\":{\"text\":\"Google Merchandise Store Conversion Path\"}},                        {\"responsive\": true}                    ).then(function(){\n",
       "                            \n",
       "var gd = document.getElementById('c092f5d4-3e52-4b31-a4c6-559e4e566d99');\n",
       "var x = new MutationObserver(function (mutations, observer) {{\n",
       "        var display = window.getComputedStyle(gd).display;\n",
       "        if (!display || display === 'none') {{\n",
       "            console.log([gd, 'removed!']);\n",
       "            Plotly.purge(gd);\n",
       "            observer.disconnect();\n",
       "        }}\n",
       "}});\n",
       "\n",
       "// Listen for the removal of the full notebook cells\n",
       "var notebookContainer = gd.closest('#notebook-container');\n",
       "if (notebookContainer) {{\n",
       "    x.observe(notebookContainer, {childList: true});\n",
       "}}\n",
       "\n",
       "// Listen for the clearing of the current output cell\n",
       "var outputEl = gd.closest('.output');\n",
       "if (outputEl) {{\n",
       "    x.observe(outputEl, {childList: true});\n",
       "}}\n",
       "\n",
       "                        })                };                });            </script>        </div>"
      ]
     },
     "metadata": {},
     "output_type": "display_data"
    }
   ],
   "source": [
    "# Create funnel graph\n",
    "fig = go.Figure(go.Funnel(y = result['action'], x = result['users'], textposition = 'inside', textinfo = 'value+percent initial'))\n",
    "fig.update_layout(title_text = 'Google Merchandise Store Conversion Path')\n",
    "\n",
    "fig.show()"
   ]
  },
  {
   "cell_type": "markdown",
   "id": "3c9b438d",
   "metadata": {
    "papermill": {
     "duration": 0.029373,
     "end_time": "2023-07-06T13:28:03.480928",
     "exception": false,
     "start_time": "2023-07-06T13:28:03.451555",
     "status": "completed"
    },
    "tags": []
   },
   "source": [
    "69% of users who viewed the product details proceeded to the check out page.\n",
    "\n",
    "We can see however that of those users, only 30% actually completed a purchase."
   ]
  },
  {
   "cell_type": "markdown",
   "id": "f99e0a80",
   "metadata": {
    "papermill": {
     "duration": 0.030053,
     "end_time": "2023-07-06T13:28:03.540094",
     "exception": false,
     "start_time": "2023-07-06T13:28:03.510041",
     "status": "completed"
    },
    "tags": []
   },
   "source": [
    "## Identify Best-Selling Product Categories and Forecast Demand"
   ]
  },
  {
   "cell_type": "markdown",
   "id": "86dfc412",
   "metadata": {
    "papermill": {
     "duration": 0.030548,
     "end_time": "2023-07-06T13:28:03.601368",
     "exception": false,
     "start_time": "2023-07-06T13:28:03.570820",
     "status": "completed"
    },
    "tags": []
   },
   "source": [
    "Now that we understand what the conversion path is for visitors to the site, let's see what product categories are the most popular."
   ]
  },
  {
   "cell_type": "code",
   "execution_count": 16,
   "id": "c146b1e6",
   "metadata": {
    "execution": {
     "iopub.execute_input": "2023-07-06T13:28:03.665090Z",
     "iopub.status.busy": "2023-07-06T13:28:03.664286Z",
     "iopub.status.idle": "2023-07-06T13:28:19.729040Z",
     "shell.execute_reply": "2023-07-06T13:28:19.727407Z"
    },
    "papermill": {
     "duration": 16.100225,
     "end_time": "2023-07-06T13:28:19.732006",
     "exception": false,
     "start_time": "2023-07-06T13:28:03.631781",
     "status": "completed"
    },
    "tags": []
   },
   "outputs": [
    {
     "data": {
      "text/html": [
       "<div>\n",
       "<style scoped>\n",
       "    .dataframe tbody tr th:only-of-type {\n",
       "        vertical-align: middle;\n",
       "    }\n",
       "\n",
       "    .dataframe tbody tr th {\n",
       "        vertical-align: top;\n",
       "    }\n",
       "\n",
       "    .dataframe thead th {\n",
       "        text-align: right;\n",
       "    }\n",
       "</style>\n",
       "<table border=\"1\" class=\"dataframe\">\n",
       "  <thead>\n",
       "    <tr style=\"text-align: right;\">\n",
       "      <th></th>\n",
       "      <th>category</th>\n",
       "      <th>transactions</th>\n",
       "      <th>total_revenue</th>\n",
       "    </tr>\n",
       "  </thead>\n",
       "  <tbody>\n",
       "    <tr>\n",
       "      <th>0</th>\n",
       "      <td>(not set)</td>\n",
       "      <td>155239</td>\n",
       "      <td>51801830.97</td>\n",
       "    </tr>\n",
       "    <tr>\n",
       "      <th>1</th>\n",
       "      <td>Apparel</td>\n",
       "      <td>133504</td>\n",
       "      <td>44923859.06</td>\n",
       "    </tr>\n",
       "    <tr>\n",
       "      <th>2</th>\n",
       "      <td>Home/Apparel/Men's/Men's-T-Shirts/</td>\n",
       "      <td>147131</td>\n",
       "      <td>25222312.08</td>\n",
       "    </tr>\n",
       "    <tr>\n",
       "      <th>3</th>\n",
       "      <td>Home/Office/</td>\n",
       "      <td>100994</td>\n",
       "      <td>20222511.87</td>\n",
       "    </tr>\n",
       "    <tr>\n",
       "      <th>4</th>\n",
       "      <td>Home/Electronics/</td>\n",
       "      <td>62603</td>\n",
       "      <td>13716689.08</td>\n",
       "    </tr>\n",
       "    <tr>\n",
       "      <th>5</th>\n",
       "      <td>Office</td>\n",
       "      <td>41837</td>\n",
       "      <td>12733564.97</td>\n",
       "    </tr>\n",
       "    <tr>\n",
       "      <th>6</th>\n",
       "      <td>Home/Apparel/</td>\n",
       "      <td>61127</td>\n",
       "      <td>11863650.76</td>\n",
       "    </tr>\n",
       "    <tr>\n",
       "      <th>7</th>\n",
       "      <td>Home/Apparel/Women's/Women's-T-Shirts/</td>\n",
       "      <td>58134</td>\n",
       "      <td>11448008.84</td>\n",
       "    </tr>\n",
       "    <tr>\n",
       "      <th>8</th>\n",
       "      <td>Home/Drinkware/Water Bottles and Tumblers/</td>\n",
       "      <td>44300</td>\n",
       "      <td>10600034.98</td>\n",
       "    </tr>\n",
       "    <tr>\n",
       "      <th>9</th>\n",
       "      <td>Home/Apparel/Men's/</td>\n",
       "      <td>77731</td>\n",
       "      <td>9781940.51</td>\n",
       "    </tr>\n",
       "  </tbody>\n",
       "</table>\n",
       "</div>"
      ],
      "text/plain": [
       "                                     category  transactions  total_revenue\n",
       "0                                   (not set)        155239    51801830.97\n",
       "1                                     Apparel        133504    44923859.06\n",
       "2          Home/Apparel/Men's/Men's-T-Shirts/        147131    25222312.08\n",
       "3                                Home/Office/        100994    20222511.87\n",
       "4                           Home/Electronics/         62603    13716689.08\n",
       "5                                      Office         41837    12733564.97\n",
       "6                               Home/Apparel/         61127    11863650.76\n",
       "7      Home/Apparel/Women's/Women's-T-Shirts/         58134    11448008.84\n",
       "8  Home/Drinkware/Water Bottles and Tumblers/         44300    10600034.98\n",
       "9                         Home/Apparel/Men's/         77731     9781940.51"
      ]
     },
     "execution_count": 16,
     "metadata": {},
     "output_type": "execute_result"
    }
   ],
   "source": [
    "query = \"\"\" \n",
    "        SELECT\n",
    "            product.v2ProductCategory AS category,\n",
    "            SUM(totals.transactions) AS transactions,\n",
    "            SUM(totals.totalTransactionRevenue)/1000000 AS total_revenue\n",
    "        FROM \n",
    "            `bigquery-public-data.google_analytics_sample.ga_sessions_*`,\n",
    "                 UNNEST(hits) AS hits,\n",
    "                 UNNEST(hits.product) AS product\n",
    "        WHERE\n",
    "            _TABLE_SUFFIX BETWEEN '20160801' AND '20170801'\n",
    "        GROUP BY category\n",
    "        ORDER BY total_revenue DESC\n",
    "        LIMIT 10\n",
    "        \"\"\"\n",
    "\n",
    "cat_result = client.query(query).result().to_dataframe()\n",
    "cat_result.head(10)"
   ]
  },
  {
   "cell_type": "markdown",
   "id": "2ac7ba03",
   "metadata": {
    "papermill": {
     "duration": 0.029191,
     "end_time": "2023-07-06T13:28:19.790785",
     "exception": false,
     "start_time": "2023-07-06T13:28:19.761594",
     "status": "completed"
    },
    "tags": []
   },
   "source": [
    "Several of the best-selling categories are related to Apparel, with Men's-T-Shirts being near the top. We can also see that Office, Electronics, and Water Bottles and Tumblers are selling well.\n",
    "\n",
    "In order to forecast demand for Men's T-Shirts, the best-selling product in the Apparel category, let's calculate the 7-day moving average for transactions."
   ]
  },
  {
   "cell_type": "code",
   "execution_count": 17,
   "id": "ef818210",
   "metadata": {
    "execution": {
     "iopub.execute_input": "2023-07-06T13:28:19.856830Z",
     "iopub.status.busy": "2023-07-06T13:28:19.855538Z",
     "iopub.status.idle": "2023-07-06T13:28:37.240304Z",
     "shell.execute_reply": "2023-07-06T13:28:37.238452Z"
    },
    "papermill": {
     "duration": 17.419376,
     "end_time": "2023-07-06T13:28:37.243249",
     "exception": false,
     "start_time": "2023-07-06T13:28:19.823873",
     "status": "completed"
    },
    "tags": []
   },
   "outputs": [
    {
     "data": {
      "text/plain": [
       "<Axes: title={'center': \"Men's T-Shirts Weekly Moving Average\"}, xlabel='date'>"
      ]
     },
     "execution_count": 17,
     "metadata": {},
     "output_type": "execute_result"
    },
    {
     "data": {
      "image/png": "[encoded data removed]",
      "text/plain": [
       "<Figure size 640x480 with 1 Axes>"
      ]
     },
     "metadata": {},
     "output_type": "display_data"
    }
   ],
   "source": [
    "query = \"\"\" \n",
    "        WITH daily_mens_tshirt_transactions AS\n",
    "        (\n",
    "        SELECT \n",
    "            date,\n",
    "            SUM(totals.transactions) AS transactions\n",
    "        FROM \n",
    "            `bigquery-public-data.google_analytics_sample.ga_sessions_*`,\n",
    "                 UNNEST(hits) AS hits,\n",
    "                 UNNEST(hits.product) AS product\n",
    "        WHERE\n",
    "            _TABLE_SUFFIX BETWEEN '20160801' AND '20170801'\n",
    "            AND\n",
    "            product.v2ProductCategory = \"Home/Apparel/Men's/Men's-T-Shirts/\"\n",
    "        GROUP BY date\n",
    "        ORDER BY date\n",
    "        )\n",
    "        SELECT\n",
    "            date,\n",
    "            AVG(transactions)\n",
    "            OVER (\n",
    "                  ORDER BY date\n",
    "                  ROWS BETWEEN CURRENT ROW AND 7 FOLLOWING    \n",
    "                 ) AS avg_transactions\n",
    "        FROM \n",
    "            daily_mens_tshirt_transactions\n",
    "        \"\"\"\n",
    "\n",
    "result = client.query(query).result().to_dataframe()\n",
    "result['date'] = pd.to_datetime(result['date'])\n",
    "result.plot(y='avg_transactions', x='date', kind='line', title='Men\\'s T-Shirts Weekly Moving Average')"
   ]
  },
  {
   "cell_type": "markdown",
   "id": "04ccc148",
   "metadata": {
    "papermill": {
     "duration": 0.030047,
     "end_time": "2023-07-06T13:28:37.302647",
     "exception": false,
     "start_time": "2023-07-06T13:28:37.272600",
     "status": "completed"
    },
    "tags": []
   },
   "source": [
    "Looking at the chart above, it would seem there is some seasonality in the demand for Men's T-shirts.\n",
    "\n",
    "Let's look at the moving averages for Office and Water Bottles and Tumblers as well and see if there is a similar trend."
   ]
  },
  {
   "cell_type": "code",
   "execution_count": 18,
   "id": "672fab51",
   "metadata": {
    "execution": {
     "iopub.execute_input": "2023-07-06T13:28:37.369110Z",
     "iopub.status.busy": "2023-07-06T13:28:37.368563Z",
     "iopub.status.idle": "2023-07-06T13:28:55.837565Z",
     "shell.execute_reply": "2023-07-06T13:28:55.836443Z"
    },
    "papermill": {
     "duration": 18.504945,
     "end_time": "2023-07-06T13:28:55.840755",
     "exception": false,
     "start_time": "2023-07-06T13:28:37.335810",
     "status": "completed"
    },
    "tags": []
   },
   "outputs": [
    {
     "data": {
      "text/plain": [
       "<Axes: title={'center': 'Drinkware Weekly Moving Average'}, xlabel='date'>"
      ]
     },
     "execution_count": 18,
     "metadata": {},
     "output_type": "execute_result"
    },
    {
     "data": {
      "image/png": "[encoded data removed]",
      "text/plain": [
       "<Figure size 640x480 with 1 Axes>"
      ]
     },
     "metadata": {},
     "output_type": "display_data"
    }
   ],
   "source": [
    "query = \"\"\" \n",
    "        WITH daily_drinkware_transactions AS\n",
    "        (\n",
    "        SELECT \n",
    "            date,\n",
    "            SUM(totals.transactions) AS transactions\n",
    "        FROM \n",
    "            `bigquery-public-data.google_analytics_sample.ga_sessions_*`,\n",
    "                 UNNEST(hits) AS hits,\n",
    "                 UNNEST(hits.product) AS product\n",
    "        WHERE\n",
    "            _TABLE_SUFFIX BETWEEN '20160801' AND '20170801'\n",
    "            AND\n",
    "            product.v2ProductCategory = \"Home/Drinkware/Water Bottles and Tumblers/\"\n",
    "        GROUP BY date\n",
    "        ORDER BY date\n",
    "        )\n",
    "        SELECT\n",
    "            date,\n",
    "            AVG(transactions)\n",
    "            OVER (\n",
    "                  ORDER BY date\n",
    "                  ROWS BETWEEN CURRENT ROW AND 7 FOLLOWING    \n",
    "                 ) AS avg_transactions\n",
    "        FROM \n",
    "            daily_drinkware_transactions\n",
    "        \"\"\"\n",
    "\n",
    "result = client.query(query).result().to_dataframe()\n",
    "result['date'] = pd.to_datetime(result['date'])\n",
    "result.plot(y='avg_transactions', x='date', kind='line', title='Drinkware Weekly Moving Average')"
   ]
  },
  {
   "cell_type": "code",
   "execution_count": 19,
   "id": "3a660eda",
   "metadata": {
    "execution": {
     "iopub.execute_input": "2023-07-06T13:28:55.906041Z",
     "iopub.status.busy": "2023-07-06T13:28:55.905566Z",
     "iopub.status.idle": "2023-07-06T13:29:11.953875Z",
     "shell.execute_reply": "2023-07-06T13:29:11.952986Z"
    },
    "papermill": {
     "duration": 16.083734,
     "end_time": "2023-07-06T13:29:11.956323",
     "exception": false,
     "start_time": "2023-07-06T13:28:55.872589",
     "status": "completed"
    },
    "tags": []
   },
   "outputs": [
    {
     "data": {
      "text/plain": [
       "<Axes: title={'center': 'Electronics Weekly Moving Average'}, xlabel='date'>"
      ]
     },
     "execution_count": 19,
     "metadata": {},
     "output_type": "execute_result"
    },
    {
     "data": {
      "image/png": "[encoded data removed]",
      "text/plain": [
       "<Figure size 640x480 with 1 Axes>"
      ]
     },
     "metadata": {},
     "output_type": "display_data"
    }
   ],
   "source": [
    "query = \"\"\" \n",
    "        WITH daily_electronics_transactions AS\n",
    "        (\n",
    "        SELECT \n",
    "            date,\n",
    "            SUM(totals.transactions) AS transactions\n",
    "        FROM \n",
    "            `bigquery-public-data.google_analytics_sample.ga_sessions_*`,\n",
    "                 UNNEST(hits) AS hits,\n",
    "                 UNNEST(hits.product) AS product\n",
    "        WHERE\n",
    "            _TABLE_SUFFIX BETWEEN '20160801' AND '20170801'\n",
    "            AND\n",
    "            product.v2ProductCategory = \"Home/Electronics/\"\n",
    "        GROUP BY date\n",
    "        ORDER BY date\n",
    "        )\n",
    "        SELECT\n",
    "            date,\n",
    "            AVG(transactions)\n",
    "            OVER (\n",
    "                  ORDER BY date\n",
    "                  ROWS BETWEEN CURRENT ROW AND 7 FOLLOWING    \n",
    "                 ) AS avg_transactions\n",
    "        FROM \n",
    "            daily_electronics_transactions\n",
    "        \"\"\"\n",
    "\n",
    "result = client.query(query).result().to_dataframe()\n",
    "result['date'] = pd.to_datetime(result['date'])\n",
    "result.plot(y='avg_transactions', x='date', kind='line', title='Electronics Weekly Moving Average')"
   ]
  },
  {
   "cell_type": "code",
   "execution_count": 20,
   "id": "4394c234",
   "metadata": {
    "execution": {
     "iopub.execute_input": "2023-07-06T13:29:12.022405Z",
     "iopub.status.busy": "2023-07-06T13:29:12.020738Z",
     "iopub.status.idle": "2023-07-06T13:29:27.401463Z",
     "shell.execute_reply": "2023-07-06T13:29:27.400165Z"
    },
    "papermill": {
     "duration": 15.416352,
     "end_time": "2023-07-06T13:29:27.404419",
     "exception": false,
     "start_time": "2023-07-06T13:29:11.988067",
     "status": "completed"
    },
    "tags": []
   },
   "outputs": [
    {
     "data": {
      "text/plain": [
       "<Axes: title={'center': 'Office Weekly Moving Average'}, xlabel='date'>"
      ]
     },
     "execution_count": 20,
     "metadata": {},
     "output_type": "execute_result"
    },
    {
     "data": {
      "image/png": "[encoded data removed]",
      "text/plain": [
       "<Figure size 640x480 with 1 Axes>"
      ]
     },
     "metadata": {},
     "output_type": "display_data"
    }
   ],
   "source": [
    "query = \"\"\" \n",
    "        WITH daily_office_transactions AS\n",
    "        (\n",
    "        SELECT \n",
    "            date,\n",
    "            SUM(totals.transactions) AS transactions\n",
    "        FROM \n",
    "            `bigquery-public-data.google_analytics_sample.ga_sessions_*`,\n",
    "                 UNNEST(hits) AS hits,\n",
    "                 UNNEST(hits.product) AS product\n",
    "        WHERE\n",
    "            _TABLE_SUFFIX BETWEEN '20160801' AND '20170801'\n",
    "            AND\n",
    "            product.v2ProductCategory = \"Home/Office/\"\n",
    "        GROUP BY date\n",
    "        ORDER BY date\n",
    "        )\n",
    "        SELECT\n",
    "            date,\n",
    "            AVG(transactions)\n",
    "            OVER (\n",
    "                  ORDER BY date\n",
    "                  ROWS BETWEEN CURRENT ROW AND 7 FOLLOWING    \n",
    "                 ) AS avg_transactions\n",
    "        FROM \n",
    "            daily_office_transactions\n",
    "        \"\"\"\n",
    "\n",
    "result = client.query(query).result().to_dataframe()\n",
    "result['date'] = pd.to_datetime(result['date'])\n",
    "result.plot(y='avg_transactions', x='date', kind='line', title='Office Weekly Moving Average')"
   ]
  },
  {
   "cell_type": "markdown",
   "id": "ae0ae1c3",
   "metadata": {
    "papermill": {
     "duration": 0.033972,
     "end_time": "2023-07-06T13:29:27.473551",
     "exception": false,
     "start_time": "2023-07-06T13:29:27.439579",
     "status": "completed"
    },
    "tags": []
   },
   "source": [
    "The average transactions for August 2016 are very high compared to later periods, but since we don't know the cause of this we will ignore it for now.\n",
    "\n",
    "Office and Electronics products seem to have steady demand year-round, Drinkware seems to see a spike in demand in December and March, and demand for Men's T-Shirts seem to increase in September, March, and August."
   ]
  },
  {
   "cell_type": "markdown",
   "id": "79a2a27b",
   "metadata": {
    "papermill": {
     "duration": 0.035111,
     "end_time": "2023-07-06T13:29:27.540534",
     "exception": false,
     "start_time": "2023-07-06T13:29:27.505423",
     "status": "completed"
    },
    "tags": []
   },
   "source": [
    "# 4. Visualize Insights and Interpret Results"
   ]
  },
  {
   "cell_type": "markdown",
   "id": "2096bc69",
   "metadata": {
    "papermill": {
     "duration": 0.037464,
     "end_time": "2023-07-06T13:29:27.613454",
     "exception": false,
     "start_time": "2023-07-06T13:29:27.575990",
     "status": "completed"
    },
    "tags": []
   },
   "source": [
    "## Most Popular Landing Pages and Bounce Rates\n",
    "The following are the most visited landing pages and their respective bounce rates:"
   ]
  },
  {
   "cell_type": "code",
   "execution_count": 21,
   "id": "8bebeaa6",
   "metadata": {
    "execution": {
     "iopub.execute_input": "2023-07-06T13:29:27.685338Z",
     "iopub.status.busy": "2023-07-06T13:29:27.684571Z",
     "iopub.status.idle": "2023-07-06T13:29:44.208686Z",
     "shell.execute_reply": "2023-07-06T13:29:44.207072Z"
    },
    "papermill": {
     "duration": 16.564786,
     "end_time": "2023-07-06T13:29:44.211816",
     "exception": false,
     "start_time": "2023-07-06T13:29:27.647030",
     "status": "completed"
    },
    "tags": []
   },
   "outputs": [
    {
     "data": {
      "image/png": "[encoded data removed]",
      "text/plain": [
       "<Figure size 1000x600 with 1 Axes>"
      ]
     },
     "metadata": {},
     "output_type": "display_data"
    }
   ],
   "source": [
    "query = \"\"\"\n",
    "        SELECT \n",
    "            hits.page.pagePath AS landing_page,\n",
    "            COUNT(*) AS views,\n",
    "            SUM(totals.bounces)/COUNT(*) AS bounce_rate\n",
    "        FROM \n",
    "            `bigquery-public-data.google_analytics_sample.ga_sessions_*`,\n",
    "                 UNNEST(hits) AS hits\n",
    "        WHERE\n",
    "            _TABLE_SUFFIX BETWEEN '20160801' AND '20170801'\n",
    "            AND\n",
    "            hits.type='PAGE'\n",
    "            AND\n",
    "            hits.hitNumber=1\n",
    "        GROUP BY landing_page\n",
    "        ORDER BY views DESC\n",
    "        LIMIT 10\n",
    "        \"\"\"\n",
    "\n",
    "result = client.query(query).result().to_dataframe()\n",
    "fig, ax = plt.subplots(figsize=(10,6))\n",
    "result.plot(y=['bounce_rate'], x='landing_page', kind='barh', legend=False, title='Bounce Rates for Top 10 Landing Pages', ax=ax)\n",
    "ax.set_ylabel('')\n",
    "\n",
    "plt.show()"
   ]
  },
  {
   "cell_type": "markdown",
   "id": "16599d1b",
   "metadata": {
    "papermill": {
     "duration": 0.036809,
     "end_time": "2023-07-06T13:29:44.284042",
     "exception": false,
     "start_time": "2023-07-06T13:29:44.247233",
     "status": "completed"
    },
    "tags": []
   },
   "source": [
    "From this I have formulated the following hypotheses:\n",
    "\n",
    "1. The reason that YouTube is the second most visited landing page and yet has the highest bounce rate is that there are a large number of visitors looking for YouTuber merchandise, and not YouTube brand merchandise.\n",
    "2. The reason for login and Basket's high visits and low bounce rate is due to a large number of repeat visitors.\n",
    "3. Within the top 10 landing pages 3 are related to Men's Apparel, indicating it is an especially popular category\n",
    "\n",
    "With these ideas in mind, let's look at browsers and devices next."
   ]
  },
  {
   "cell_type": "markdown",
   "id": "2cc71348",
   "metadata": {
    "papermill": {
     "duration": 0.034089,
     "end_time": "2023-07-06T13:29:44.353632",
     "exception": false,
     "start_time": "2023-07-06T13:29:44.319543",
     "status": "completed"
    },
    "tags": []
   },
   "source": [
    "## Browser and Device"
   ]
  },
  {
   "cell_type": "code",
   "execution_count": 22,
   "id": "07544747",
   "metadata": {
    "execution": {
     "iopub.execute_input": "2023-07-06T13:29:44.425811Z",
     "iopub.status.busy": "2023-07-06T13:29:44.423973Z",
     "iopub.status.idle": "2023-07-06T13:29:59.420915Z",
     "shell.execute_reply": "2023-07-06T13:29:59.418843Z"
    },
    "papermill": {
     "duration": 15.036403,
     "end_time": "2023-07-06T13:29:59.424018",
     "exception": false,
     "start_time": "2023-07-06T13:29:44.387615",
     "status": "completed"
    },
    "tags": []
   },
   "outputs": [
    {
     "data": {
      "image/png": "[encoded data removed]",
      "text/plain": [
       "<Figure size 1200x700 with 2 Axes>"
      ]
     },
     "metadata": {},
     "output_type": "display_data"
    }
   ],
   "source": [
    "query = \"\"\"\n",
    "        SELECT \n",
    "            device.Browser AS browser,\n",
    "            COUNT(*) AS sessions,\n",
    "            SUM(totals.bounces)/COUNT(*) AS exit_rate\n",
    "        FROM \n",
    "            `bigquery-public-data.google_analytics_sample.ga_sessions_*`,\n",
    "                 UNNEST(hits) AS hits\n",
    "        WHERE\n",
    "            _TABLE_SUFFIX BETWEEN '20160801' AND '20170801'\n",
    "        GROUP BY browser\n",
    "        ORDER BY sessions DESC\n",
    "        LIMIT 7\n",
    "        \"\"\"\n",
    "\n",
    "result = client.query(query).result().to_dataframe()\n",
    "fig, ax = plt.subplots(figsize=(12,7))\n",
    "result.plot(y=['sessions', 'exit_rate'], x='browser', kind='bar', secondary_y='exit_rate', ax=ax, mark_right=False, title='Sessions and Exit Rates by Browser')\n",
    "# sns.barplot(data=result, x='browser', y='sessions')\n",
    "# sns.barplot(data=result, x='browser', y='exit_rate')\n",
    "ax.set_xticklabels(labels=result['browser'], rotation=45)\n",
    "ax.set_xlabel('')\n",
    "ax.legend(loc=(1.1, 0.55))\n",
    "plt.legend(loc=(1.1, 0.5))\n",
    "\n",
    "plt.show()"
   ]
  },
  {
   "cell_type": "markdown",
   "id": "4bf47eb8",
   "metadata": {
    "papermill": {
     "duration": 0.036712,
     "end_time": "2023-07-06T13:29:59.494634",
     "exception": false,
     "start_time": "2023-07-06T13:29:59.457922",
     "status": "completed"
    },
    "tags": []
   },
   "source": [
    "The majority of sessions are from Chrome, but there are a significant number of sessions from Safari and Firefox as well. \n",
    "\n",
    "The exit rate for Safari and Firefox is significantly higher than Chrome, which could indicate compatibility issues."
   ]
  },
  {
   "cell_type": "code",
   "execution_count": 23,
   "id": "549b5180",
   "metadata": {
    "execution": {
     "iopub.execute_input": "2023-07-06T13:29:59.570176Z",
     "iopub.status.busy": "2023-07-06T13:29:59.569043Z",
     "iopub.status.idle": "2023-07-06T13:30:26.384159Z",
     "shell.execute_reply": "2023-07-06T13:30:26.382822Z"
    },
    "papermill": {
     "duration": 26.857059,
     "end_time": "2023-07-06T13:30:26.387245",
     "exception": false,
     "start_time": "2023-07-06T13:29:59.530186",
     "status": "completed"
    },
    "tags": []
   },
   "outputs": [
    {
     "data": {
      "image/png": "[encoded data removed]",
      "text/plain": [
       "<Figure size 1000x600 with 2 Axes>"
      ]
     },
     "metadata": {},
     "output_type": "display_data"
    }
   ],
   "source": [
    "query = \"\"\" \n",
    "        SELECT \n",
    "            device.deviceCategory AS device,\n",
    "            COUNT(*) AS sessions,\n",
    "            SUM(totals.bounces)/COUNT(*) AS exit_rate\n",
    "        FROM \n",
    "            `bigquery-public-data.google_analytics_sample.ga_sessions_*`,\n",
    "                 UNNEST(hits) AS hits\n",
    "        WHERE\n",
    "            _TABLE_SUFFIX BETWEEN '20160801' AND '20170801'\n",
    "        GROUP BY device\n",
    "        ORDER BY sessions DESC\n",
    "        \"\"\"\n",
    "\n",
    "result = client.query(query).result().to_dataframe()\n",
    "fig, ax = plt.subplots(figsize=(10,6))\n",
    "result.plot(y=['sessions','exit_rate'], x='device', kind='bar', title='Exit Rate by Device', secondary_y='exit_rate', ax=ax)\n",
    "ax.set_xlabel('')\n",
    "ax.set_xticklabels(labels=result['device'], rotation=45)\n",
    "plt.show()"
   ]
  },
  {
   "cell_type": "markdown",
   "id": "fccc56dc",
   "metadata": {
    "papermill": {
     "duration": 0.037076,
     "end_time": "2023-07-06T13:30:26.465199",
     "exception": false,
     "start_time": "2023-07-06T13:30:26.428123",
     "status": "completed"
    },
    "tags": []
   },
   "source": [
    "Here we see that the majority of sessions are on desktop, with a significant number also coming from mobile.\n",
    "\n",
    "We can also see the roughly 2.5% greater exit rate of mobile compared to desktop and tablet. This is likely due to:\n",
    "\n",
    "1. The site not being optimized for mobile devices\n",
    "2. Users first browsing product pages on their mobile devices, and then later returning on desktop to complete their purchase\n",
    "\n",
    "It may therefore be useful to conduct a user test for mobile devices. With this we can understand where users may face problems not just on a browser and device level, but on a page, form, and even button level."
   ]
  },
  {
   "cell_type": "markdown",
   "id": "093a60b4",
   "metadata": {
    "papermill": {
     "duration": 0.03521,
     "end_time": "2023-07-06T13:30:26.535224",
     "exception": false,
     "start_time": "2023-07-06T13:30:26.500014",
     "status": "completed"
    },
    "tags": []
   },
   "source": [
    "## Type and Quality of Traffic"
   ]
  },
  {
   "cell_type": "code",
   "execution_count": 24,
   "id": "2602ab4b",
   "metadata": {
    "execution": {
     "iopub.execute_input": "2023-07-06T13:30:26.610177Z",
     "iopub.status.busy": "2023-07-06T13:30:26.609740Z",
     "iopub.status.idle": "2023-07-06T13:30:43.143699Z",
     "shell.execute_reply": "2023-07-06T13:30:43.142357Z"
    },
    "papermill": {
     "duration": 16.576974,
     "end_time": "2023-07-06T13:30:43.147731",
     "exception": false,
     "start_time": "2023-07-06T13:30:26.570757",
     "status": "completed"
    },
    "tags": []
   },
   "outputs": [
    {
     "data": {
      "image/png": "[encoded data removed]",
      "text/plain": [
       "<Figure size 1000x700 with 2 Axes>"
      ]
     },
     "metadata": {},
     "output_type": "display_data"
    }
   ],
   "source": [
    "query = \"\"\"\n",
    "        SELECT \n",
    "            trafficSource.medium AS medium,\n",
    "            COUNT(*) AS sessions,\n",
    "            SUM(totals.bounces)/COUNT(*) AS exit_rate,\n",
    "            SUM(totals.transactions) AS transactions,\n",
    "            SUM(totals.totalTransactionRevenue)/1000000 AS total_revenue,\n",
    "            SUM(totals.transactions)/COUNT(*) AS conversion_rate\n",
    "        FROM \n",
    "            `bigquery-public-data.google_analytics_sample.ga_sessions_*`,\n",
    "                 UNNEST(hits) AS hits\n",
    "        WHERE\n",
    "            _TABLE_SUFFIX BETWEEN '20160801' AND '20170801'\n",
    "        GROUP BY medium\n",
    "        ORDER BY sessions DESC\n",
    "        LIMIT 10\n",
    "        \"\"\"\n",
    "\n",
    "result = client.query(query).result().to_dataframe()\n",
    "fig, ax = plt.subplots(figsize=(10,7))\n",
    "result.plot(y=['total_revenue', 'conversion_rate'], x='medium', kind='bar', secondary_y='conversion_rate', ax=ax)\n",
    "ax.set_xticklabels(labels=result['medium'], rotation=45)\n",
    "plt.show()"
   ]
  },
  {
   "cell_type": "markdown",
   "id": "2dc6708c",
   "metadata": {
    "papermill": {
     "duration": 0.035855,
     "end_time": "2023-07-06T13:30:43.221154",
     "exception": false,
     "start_time": "2023-07-06T13:30:43.185299",
     "status": "completed"
    },
    "tags": []
   },
   "source": [
    "Most of our traffic is organic, followed by CPM, referral, and CPC.\n",
    "\n",
    "However, our paid advertising sources, CPM and CPC, have a noticeably higher conversion rate in comparison to the other sources."
   ]
  },
  {
   "cell_type": "markdown",
   "id": "c6839ed6",
   "metadata": {
    "papermill": {
     "duration": 0.037577,
     "end_time": "2023-07-06T13:30:43.295183",
     "exception": false,
     "start_time": "2023-07-06T13:30:43.257606",
     "status": "completed"
    },
    "tags": []
   },
   "source": [
    "## Conversion Path"
   ]
  },
  {
   "cell_type": "code",
   "execution_count": 25,
   "id": "840b1ed6",
   "metadata": {
    "execution": {
     "iopub.execute_input": "2023-07-06T13:30:43.369065Z",
     "iopub.status.busy": "2023-07-06T13:30:43.368637Z",
     "iopub.status.idle": "2023-07-06T13:30:43.373459Z",
     "shell.execute_reply": "2023-07-06T13:30:43.372477Z"
    },
    "papermill": {
     "duration": 0.045137,
     "end_time": "2023-07-06T13:30:43.375651",
     "exception": false,
     "start_time": "2023-07-06T13:30:43.330514",
     "status": "completed"
    },
    "tags": []
   },
   "outputs": [],
   "source": [
    "fig.show()"
   ]
  },
  {
   "cell_type": "markdown",
   "id": "a471877e",
   "metadata": {
    "papermill": {
     "duration": 0.037672,
     "end_time": "2023-07-06T13:30:43.449037",
     "exception": false,
     "start_time": "2023-07-06T13:30:43.411365",
     "status": "completed"
    },
    "tags": []
   },
   "source": [
    "We can see that many visitors are proceeding through the conversion process up to checkout, but then exiting before completing their purchase. This leads me to think that either: \n",
    "1. There is a problem with the purchase form\n",
    "2. My earlier hypothesis that users are browsing and tentatively deciding on the purchase, and then completing it in a later session, may be correct"
   ]
  },
  {
   "cell_type": "markdown",
   "id": "bc28a5b5",
   "metadata": {
    "papermill": {
     "duration": 0.042255,
     "end_time": "2023-07-06T13:30:43.530862",
     "exception": false,
     "start_time": "2023-07-06T13:30:43.488607",
     "status": "completed"
    },
    "tags": []
   },
   "source": [
    "## Identify Best-Selling Product Categories and Forecast Demand"
   ]
  },
  {
   "cell_type": "code",
   "execution_count": 26,
   "id": "43caeb7f",
   "metadata": {
    "execution": {
     "iopub.execute_input": "2023-07-06T13:30:43.608443Z",
     "iopub.status.busy": "2023-07-06T13:30:43.608015Z",
     "iopub.status.idle": "2023-07-06T13:30:44.068392Z",
     "shell.execute_reply": "2023-07-06T13:30:44.067192Z"
    },
    "papermill": {
     "duration": 0.503909,
     "end_time": "2023-07-06T13:30:44.071303",
     "exception": false,
     "start_time": "2023-07-06T13:30:43.567394",
     "status": "completed"
    },
    "tags": []
   },
   "outputs": [
    {
     "data": {
      "image/png": "[encoded data removed]",
      "text/plain": [
       "<Figure size 1000x600 with 1 Axes>"
      ]
     },
     "metadata": {},
     "output_type": "display_data"
    }
   ],
   "source": [
    "fig, ax = plt.subplots(figsize=(10,6))\n",
    "cat_result.plot(y='total_revenue', x='category', kind='barh', title='Revenue by Category', ax=ax)\n",
    "ax.set_ylabel('')\n",
    "plt.show()"
   ]
  },
  {
   "cell_type": "markdown",
   "id": "458fd137",
   "metadata": {
    "papermill": {
     "duration": 0.038226,
     "end_time": "2023-07-06T13:30:44.146348",
     "exception": false,
     "start_time": "2023-07-06T13:30:44.108122",
     "status": "completed"
    },
    "tags": []
   },
   "source": [
    "The best-selling categories are Apparel、Office、Electronics、Office、and Drinkware.\n",
    "\n",
    "Within the Apparel category, Men's T-Shirts seems to sell especially well.\n",
    "\n",
    "Let's look at the moving average of transactions for Men's T-shirts、Drinkware、Office、and Electronics to see if their is any seasonal demand."
   ]
  },
  {
   "cell_type": "markdown",
   "id": "4ab123be",
   "metadata": {
    "papermill": {
     "duration": 0.035713,
     "end_time": "2023-07-06T13:30:44.219026",
     "exception": false,
     "start_time": "2023-07-06T13:30:44.183313",
     "status": "completed"
    },
    "tags": []
   },
   "source": [
    "For this exploratory analysis we end up with more questions than answers, but these will help us to formulate more targeted analyses:\n",
    "\n",
    "1. Is our site optimized for SEO, and are people seeing what they expect when they first enter the site?\n",
    "2. Among the top 5 most widely-used browsers, is our site being displayed the same on each, and does it have the same functionality on each?\n",
    "3. Is our site being displayed and functioning properly on mobile devices?\n",
    "4. Are users exiting the site on the checkout page because of a problem with the page/form, or do many of our users complete their purchases across multiple sessions?\n",
    "5. Since we now know that 2 of our best product categories have significant seasonal demand, and that traffic from paid advetising has the highest conversion rates, can we adjust the timing and content of our advertising campaigns to capitalize on this seasonal demand, and significantly improve sales?"
   ]
  }
 ],
 "metadata": {
  "kernelspec": {
   "display_name": "Python 3",
   "language": "python",
   "name": "python3"
  },
  "language_info": {
   "codemirror_mode": {
    "name": "ipython",
    "version": 3
   },
   "file_extension": ".py",
   "mimetype": "text/x-python",
   "name": "python",
   "nbconvert_exporter": "python",
   "pygments_lexer": "ipython3",
   "version": "3.10.10"
  },
  "papermill": {
   "default_parameters": {},
   "duration": 315.011368,
   "end_time": "2023-07-06T13:30:45.484573",
   "environment_variables": {},
   "exception": null,
   "input_path": "__notebook__.ipynb",
   "output_path": "__notebook__.ipynb",
   "parameters": {},
   "start_time": "2023-07-06T13:25:30.473205",
   "version": "2.4.0"
  }
 },
 "nbformat": 4,
 "nbformat_minor": 5
}
